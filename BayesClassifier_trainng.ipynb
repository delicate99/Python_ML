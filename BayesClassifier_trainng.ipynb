{
  "nbformat": 4,
  "nbformat_minor": 0,
  "metadata": {
    "colab": {
      "name": "BayesClassifier- trainng.ipynb",
      "provenance": [],
      "authorship_tag": "ABX9TyPrNLOJM6CbI/npRmiGQgGO",
      "include_colab_link": true
    },
    "kernelspec": {
      "name": "python3",
      "display_name": "Python 3"
    }
  },
  "cells": [
    {
      "cell_type": "markdown",
      "metadata": {
        "id": "view-in-github",
        "colab_type": "text"
      },
      "source": [
        "<a href=\"https://colab.research.google.com/github/delicate99/Python_ML/blob/main/BayesClassifier_trainng.ipynb\" target=\"_parent\"><img src=\"https://colab.research.google.com/assets/colab-badge.svg\" alt=\"Open In Colab\"/></a>"
      ]
    },
    {
      "cell_type": "markdown",
      "metadata": {
        "id": "udeW-unTH630"
      },
      "source": [
        "### Call Training and Test data set"
      ]
    },
    {
      "cell_type": "code",
      "metadata": {
        "colab": {
          "base_uri": "https://localhost:8080/"
        },
        "id": "6D-KqVh-FwSW",
        "outputId": "08237e07-c62f-4c65-f59c-27f358c4426b"
      },
      "source": [
        "!wget --output-document=SpamData.zip \"https://github.com/delicate99/Python_ML/blob/main/SpamData_new.zip?raw=true\""
      ],
      "execution_count": 1,
      "outputs": [
        {
          "output_type": "stream",
          "text": [
            "--2021-01-22 01:37:01--  https://github.com/delicate99/Python_ML/blob/main/SpamData_new.zip?raw=true\n",
            "Resolving github.com (github.com)... 140.82.112.3\n",
            "Connecting to github.com (github.com)|140.82.112.3|:443... connected.\n",
            "HTTP request sent, awaiting response... 302 Found\n",
            "Location: https://github.com/delicate99/Python_ML/raw/main/SpamData_new.zip [following]\n",
            "--2021-01-22 01:37:01--  https://github.com/delicate99/Python_ML/raw/main/SpamData_new.zip\n",
            "Reusing existing connection to github.com:443.\n",
            "HTTP request sent, awaiting response... 302 Found\n",
            "Location: https://raw.githubusercontent.com/delicate99/Python_ML/main/SpamData_new.zip [following]\n",
            "--2021-01-22 01:37:01--  https://raw.githubusercontent.com/delicate99/Python_ML/main/SpamData_new.zip\n",
            "Resolving raw.githubusercontent.com (raw.githubusercontent.com)... 151.101.0.133, 151.101.64.133, 151.101.128.133, ...\n",
            "Connecting to raw.githubusercontent.com (raw.githubusercontent.com)|151.101.0.133|:443... connected.\n",
            "HTTP request sent, awaiting response... 200 OK\n",
            "Length: 23394839 (22M) [application/zip]\n",
            "Saving to: ‘SpamData.zip’\n",
            "\n",
            "SpamData.zip        100%[===================>]  22.31M  36.1MB/s    in 0.6s    \n",
            "\n",
            "2021-01-22 01:37:02 (36.1 MB/s) - ‘SpamData.zip’ saved [23394839/23394839]\n",
            "\n"
          ],
          "name": "stdout"
        }
      ]
    },
    {
      "cell_type": "code",
      "metadata": {
        "id": "EHSv-Yg4GNhd"
      },
      "source": [
        "import zipfile\n",
        "from os import walk\n",
        "from os.path import join\n",
        "import os.path\n",
        "import pandas as pd\n",
        "import matplotlib.pyplot as plt\n",
        "import numpy as np\n"
      ],
      "execution_count": 2,
      "outputs": []
    },
    {
      "cell_type": "code",
      "metadata": {
        "colab": {
          "base_uri": "https://localhost:8080/"
        },
        "id": "vv3gxMb7GOLD",
        "outputId": "ef93b457-3405-494f-877a-8033bc55e927"
      },
      "source": [
        "fname = \"SpamData.zip\"\n",
        "if os.path.isfile(fname):\n",
        "  with zipfile.ZipFile(fname,'r') as zip_file:\n",
        "    zip_file.extractall('')\n",
        "  print('Extraction Finished....')"
      ],
      "execution_count": 3,
      "outputs": [
        {
          "output_type": "stream",
          "text": [
            "Extraction Finished....\n"
          ],
          "name": "stdout"
        }
      ]
    },
    {
      "cell_type": "code",
      "metadata": {
        "colab": {
          "base_uri": "https://localhost:8080/"
        },
        "id": "7t0dPGOBIja8",
        "outputId": "2d69085d-154f-4aab-a43f-1cc83e085110"
      },
      "source": [
        "% cd 'SpamData'"
      ],
      "execution_count": 4,
      "outputs": [
        {
          "output_type": "stream",
          "text": [
            "/content/SpamData\n"
          ],
          "name": "stdout"
        }
      ]
    },
    {
      "cell_type": "code",
      "metadata": {
        "colab": {
          "base_uri": "https://localhost:8080/"
        },
        "id": "XYD-xz7_J6-B",
        "outputId": "084ad4fa-b59e-42e8-e3ff-faffa1dd3d5d"
      },
      "source": [
        "!ls"
      ],
      "execution_count": 5,
      "outputs": [
        {
          "output_type": "stream",
          "text": [
            "01_Processing  02_Training  03_Testing\n"
          ],
          "name": "stdout"
        }
      ]
    },
    {
      "cell_type": "code",
      "metadata": {
        "id": "YToYKR6kLtW5"
      },
      "source": [
        "TRAINING_DATA_FILE='./02_Training/train-data.txt'\n",
        "TEST_DATA_FILE='./02_Training/test-data.txt'\n",
        "\n",
        "VOCAB_SIZE =2500"
      ],
      "execution_count": 6,
      "outputs": []
    },
    {
      "cell_type": "markdown",
      "metadata": {
        "id": "2mppsr9ZK3Y-"
      },
      "source": [
        "## Lead and load features from .txt files to Numpy array "
      ]
    },
    {
      "cell_type": "code",
      "metadata": {
        "id": "xmEdDodqKMdQ"
      },
      "source": [
        "sparse_train_data = np.loadtxt(TRAINING_DATA_FILE, delimiter =' ', dtype =int)"
      ],
      "execution_count": 7,
      "outputs": []
    },
    {
      "cell_type": "code",
      "metadata": {
        "id": "ZM39BuJgKpsu"
      },
      "source": [
        "sparse_test_data = np.loadtxt(TEST_DATA_FILE, delimiter =' ', dtype =int)"
      ],
      "execution_count": 8,
      "outputs": []
    },
    {
      "cell_type": "code",
      "metadata": {
        "colab": {
          "base_uri": "https://localhost:8080/"
        },
        "id": "Mx36LqOFLuEL",
        "outputId": "d481a950-8aec-4a32-97b8-c3294bc4160f"
      },
      "source": [
        "print('Nr of rows in the train file is ', sparse_train_data.shape[0])\n",
        "print('Nr of rows in the test file is ', sparse_test_data.shape[0])"
      ],
      "execution_count": 9,
      "outputs": [
        {
          "output_type": "stream",
          "text": [
            "Nr of rows in the train file is  265427\n",
            "Nr of rows in the test file is  110522\n"
          ],
          "name": "stdout"
        }
      ]
    },
    {
      "cell_type": "code",
      "metadata": {
        "colab": {
          "base_uri": "https://localhost:8080/"
        },
        "id": "vu53jbnIMU-Z",
        "outputId": "d98fd2c8-1d91-4acb-bfc1-99a51ac7c7bd"
      },
      "source": [
        "print('Nr of emails in the train file is ', np.unique(sparse_train_data[:, 0]).size)\n",
        "print('Nr of  emails in the test file is ', np.unique(sparse_test_data[:, 0]).size) "
      ],
      "execution_count": 10,
      "outputs": [
        {
          "output_type": "stream",
          "text": [
            "Nr of emails in the train file is  4015\n",
            "Nr of  emails in the test file is  1724\n"
          ],
          "name": "stdout"
        }
      ]
    },
    {
      "cell_type": "markdown",
      "metadata": {
        "id": "jdjuFdDmONZG"
      },
      "source": [
        "### How to create empty Dataframe"
      ]
    },
    {
      "cell_type": "code",
      "metadata": {
        "colab": {
          "base_uri": "https://localhost:8080/"
        },
        "id": "A3WcjJr4OS4V",
        "outputId": "8f1a5445-b2ea-41fa-9d98-6b387fcbb8bc"
      },
      "source": [
        "column_names =['DOC_ID']+['CATEGORY']+list(range(0, VOCAB_SIZE))\n",
        "column_names[: 5]"
      ],
      "execution_count": 11,
      "outputs": [
        {
          "output_type": "execute_result",
          "data": {
            "text/plain": [
              "['DOC_ID', 'CATEGORY', 0, 1, 2]"
            ]
          },
          "metadata": {
            "tags": []
          },
          "execution_count": 11
        }
      ]
    },
    {
      "cell_type": "code",
      "metadata": {
        "colab": {
          "base_uri": "https://localhost:8080/"
        },
        "id": "IDeL_VM9TpWn",
        "outputId": "201a8c7e-8a31-436f-9aa2-7c2282cccd1d"
      },
      "source": [
        "len(column_names)"
      ],
      "execution_count": 12,
      "outputs": [
        {
          "output_type": "execute_result",
          "data": {
            "text/plain": [
              "2502"
            ]
          },
          "metadata": {
            "tags": []
          },
          "execution_count": 12
        }
      ]
    },
    {
      "cell_type": "code",
      "metadata": {
        "colab": {
          "base_uri": "https://localhost:8080/"
        },
        "id": "pxPjzVfPUMz-",
        "outputId": "942e8e90-0f3e-4690-bcfe-c0374da34267"
      },
      "source": [
        "index_names =np.unique(sparse_train_data[:,0])\n",
        "index_names"
      ],
      "execution_count": 13,
      "outputs": [
        {
          "output_type": "execute_result",
          "data": {
            "text/plain": [
              "array([   0,    1,    2, ..., 5791, 5794, 5795])"
            ]
          },
          "metadata": {
            "tags": []
          },
          "execution_count": 13
        }
      ]
    },
    {
      "cell_type": "code",
      "metadata": {
        "id": "jOFU6D8KUNBg"
      },
      "source": [
        "full_train_data = pd.DataFrame(index =index_names, columns = column_names)\n",
        "full_train_data.fillna(value =0, inplace =True)"
      ],
      "execution_count": 14,
      "outputs": []
    },
    {
      "cell_type": "code",
      "metadata": {
        "colab": {
          "base_uri": "https://localhost:8080/"
        },
        "id": "I1aVhQJ8UNKD",
        "outputId": "d376a242-7ae0-4b43-a6c7-5def9655b799"
      },
      "source": [
        "full_train_data.shape"
      ],
      "execution_count": 15,
      "outputs": [
        {
          "output_type": "execute_result",
          "data": {
            "text/plain": [
              "(4015, 2502)"
            ]
          },
          "metadata": {
            "tags": []
          },
          "execution_count": 15
        }
      ]
    },
    {
      "cell_type": "markdown",
      "metadata": {
        "id": "4sUTy4ymWZmP"
      },
      "source": [
        "### Create a full matrix from sparse matrix"
      ]
    },
    {
      "cell_type": "code",
      "metadata": {
        "id": "Vdl909mJWYss"
      },
      "source": [
        "def make_full_matrix(sparse_matrix, nr_words, doc_idx=0, word_idx=1, cat_idx=2, freq_idx =3):\n",
        "    \"\"\"\n",
        "    Form a full  matrix from  Sparse matrix. Retun a pandas DataFrame\n",
        "    key arguments\n",
        "    sprase_matrix --- numpy array\n",
        "    nr_words - size of vocabulary. Total numbers of tokens\n",
        "    doc_idx  -position of the document in the sparse matrix (default :1st column)\n",
        "    word_idx - position of the word in the sparse matrix (default : 2nd column)\n",
        "    cat_idx  - position of the label in the sparse matrix (default ; 3rd column)\n",
        "    freq_idx - position of the asccurence of words(default:4th column)\n",
        "    \"\"\"\n",
        "\n",
        "    column_names =['DOC_ID']+['CATEGORY']+list(range(0, VOCAB_SIZE))\n",
        "    doc_id_names =np.unique(sparse_train_data[:,0])\n",
        "    full_matrix = pd.DataFrame(index =index_names, columns = column_names)\n",
        "    full_matrix.fillna(value =0, inplace =True)\n",
        "\n",
        "\n",
        "    for i in range(sparse_matrix.shape[0]):\n",
        "        doc_nr= sparse_matrix [i][doc_idx]\n",
        "        word_id = sparse_matrix [i][word_idx]\n",
        "        label = sparse_matrix [i][cat_idx]\n",
        "        occurence = sparse_matrix [i][freq_idx]\n",
        "\n",
        "        full_matrix.at[doc_nr, 'DOC_ID'] = doc_nr\n",
        "        full_matrix.at[doc_nr, 'CATEGORY'] = label\n",
        "        full_matrix.at[doc_nr, word_id]= occurence\n",
        "\n",
        "    full_matrix.set_index('DOC_ID', inplace= True)\n",
        "    return full_matrix\n"
      ],
      "execution_count": 16,
      "outputs": []
    },
    {
      "cell_type": "code",
      "metadata": {
        "colab": {
          "base_uri": "https://localhost:8080/"
        },
        "id": "wcKNZoADclvL",
        "outputId": "f788a777-c830-4078-a7e8-baa2cba48ab0"
      },
      "source": [
        "%time\n",
        "full_train_data = make_full_matrix(sparse_train_data, VOCAB_SIZE)"
      ],
      "execution_count": 17,
      "outputs": [
        {
          "output_type": "stream",
          "text": [
            "CPU times: user 4 µs, sys: 1e+03 ns, total: 5 µs\n",
            "Wall time: 7.87 µs\n"
          ],
          "name": "stdout"
        }
      ]
    },
    {
      "cell_type": "markdown",
      "metadata": {
        "id": "2Hwy1JhIP9S2"
      },
      "source": [
        "## Training the Naive Bayes Model\n",
        "\n",
        "### Calculating the Pobability of sapm"
      ]
    },
    {
      "cell_type": "code",
      "metadata": {
        "colab": {
          "base_uri": "https://localhost:8080/"
        },
        "id": "Tjd4jMgVF6fP",
        "outputId": "86f1deb9-9ac0-4b58-f51b-fa944674064d"
      },
      "source": [
        "prob_spam = len(full_train_data[full_train_data.CATEGORY==1])/len(full_train_data['CATEGORY'])\n",
        "prob_spam"
      ],
      "execution_count": 18,
      "outputs": [
        {
          "output_type": "execute_result",
          "data": {
            "text/plain": [
              "0.31133250311332505"
            ]
          },
          "metadata": {
            "tags": []
          },
          "execution_count": 18
        }
      ]
    },
    {
      "cell_type": "code",
      "metadata": {
        "id": "EaefliSbQqAW"
      },
      "source": [
        "#prob_spam= full_train_data.CATEGORY.sum()/full_train_data.CATEGORY.size\n"
      ],
      "execution_count": 19,
      "outputs": []
    },
    {
      "cell_type": "markdown",
      "metadata": {
        "id": "0xtHmvRGTyus"
      },
      "source": [
        "### Total number of words/Count Tokens"
      ]
    },
    {
      "cell_type": "code",
      "metadata": {
        "id": "G46WOLZCRWYo"
      },
      "source": [
        "full_train_features = full_train_data.loc[:, full_train_data.columns !='CATEGORY']\n"
      ],
      "execution_count": 20,
      "outputs": []
    },
    {
      "cell_type": "code",
      "metadata": {
        "colab": {
          "base_uri": "https://localhost:8080/"
        },
        "id": "RsdyOs1mUzZU",
        "outputId": "cf437ff0-5405-4984-b7e1-4eeb52cdfa9e"
      },
      "source": [
        "email_lengths = full_train_features.sum(axis=1)\n",
        "email_lengths.shape"
      ],
      "execution_count": 21,
      "outputs": [
        {
          "output_type": "execute_result",
          "data": {
            "text/plain": [
              "(4015,)"
            ]
          },
          "metadata": {
            "tags": []
          },
          "execution_count": 21
        }
      ]
    },
    {
      "cell_type": "code",
      "metadata": {
        "colab": {
          "base_uri": "https://localhost:8080/"
        },
        "id": "qSyD2naYVqS_",
        "outputId": "b7b1eccc-b930-4774-84e1-6a34fb994b3f"
      },
      "source": [
        "total_wc = email_lengths.sum()\n",
        "total_wc"
      ],
      "execution_count": 22,
      "outputs": [
        {
          "output_type": "execute_result",
          "data": {
            "text/plain": [
              "445891"
            ]
          },
          "metadata": {
            "tags": []
          },
          "execution_count": 22
        }
      ]
    },
    {
      "cell_type": "markdown",
      "metadata": {
        "id": "gyTNLX1YWDFf"
      },
      "source": [
        "## Number of tokens in spam & ham mails"
      ]
    },
    {
      "cell_type": "code",
      "metadata": {
        "colab": {
          "base_uri": "https://localhost:8080/"
        },
        "id": "UYGbhUUgWHOn",
        "outputId": "f539a1b4-6a3b-4d50-d053-12e434220a73"
      },
      "source": [
        "spam_lengths = email_lengths[full_train_data.CATEGORY == 1]\n",
        "spam_lengths"
      ],
      "execution_count": 23,
      "outputs": [
        {
          "output_type": "execute_result",
          "data": {
            "text/plain": [
              "DOC_ID\n",
              "0        50\n",
              "1        76\n",
              "2        87\n",
              "3        76\n",
              "4       136\n",
              "       ... \n",
              "1885    135\n",
              "1887     33\n",
              "1889     65\n",
              "1890     75\n",
              "1895     22\n",
              "Length: 1250, dtype: int64"
            ]
          },
          "metadata": {
            "tags": []
          },
          "execution_count": 23
        }
      ]
    },
    {
      "cell_type": "code",
      "metadata": {
        "colab": {
          "base_uri": "https://localhost:8080/"
        },
        "id": "Ev_iRJ72XFY8",
        "outputId": "a25939d8-91c4-49cc-fcea-3dd69915cf8a"
      },
      "source": [
        "spam_wc = spam_lengths.sum()\n",
        "spam_wc"
      ],
      "execution_count": 24,
      "outputs": [
        {
          "output_type": "execute_result",
          "data": {
            "text/plain": [
              "195645"
            ]
          },
          "metadata": {
            "tags": []
          },
          "execution_count": 24
        }
      ]
    },
    {
      "cell_type": "code",
      "metadata": {
        "colab": {
          "base_uri": "https://localhost:8080/"
        },
        "id": "-ZFF-tzhXFco",
        "outputId": "5198395b-bd64-4a66-c4dc-658687e2ede6"
      },
      "source": [
        "ham_lengths = email_lengths[full_train_data.CATEGORY == 0]\n",
        "ham_wc = ham_lengths.sum()\n",
        "ham_wc\n"
      ],
      "execution_count": 25,
      "outputs": [
        {
          "output_type": "execute_result",
          "data": {
            "text/plain": [
              "250246"
            ]
          },
          "metadata": {
            "tags": []
          },
          "execution_count": 25
        }
      ]
    },
    {
      "cell_type": "code",
      "metadata": {
        "colab": {
          "base_uri": "https://localhost:8080/"
        },
        "id": "X00bY95EXFgO",
        "outputId": "7bd2bc40-06bc-4509-a002-0fa07d70f409"
      },
      "source": [
        "nonspam_wc = ham_lengths.sum()\n",
        "nonspam_wc"
      ],
      "execution_count": 26,
      "outputs": [
        {
          "output_type": "execute_result",
          "data": {
            "text/plain": [
              "250246"
            ]
          },
          "metadata": {
            "tags": []
          },
          "execution_count": 26
        }
      ]
    },
    {
      "cell_type": "code",
      "metadata": {
        "colab": {
          "base_uri": "https://localhost:8080/"
        },
        "id": "Fl6S0EXYXFjv",
        "outputId": "dc209cbd-2bc9-46da-9146-ff8252b8907e"
      },
      "source": [
        "spam_wc + nonspam_wc - total_wc"
      ],
      "execution_count": 27,
      "outputs": [
        {
          "output_type": "execute_result",
          "data": {
            "text/plain": [
              "0"
            ]
          },
          "metadata": {
            "tags": []
          },
          "execution_count": 27
        }
      ]
    },
    {
      "cell_type": "code",
      "metadata": {
        "colab": {
          "base_uri": "https://localhost:8080/"
        },
        "id": "PwamoRqCaY47",
        "outputId": "8c922ff6-af94-4748-8785-bf71c682c907"
      },
      "source": [
        "print('Average of Nr of in spam mail {:.0f}'.format(spam_wc/spam_lengths.shape[0]))\n",
        "print('Average of Nr of in nonspam mail {:.3f}'.format(nonspam_wc/ham_lengths.shape[0]))"
      ],
      "execution_count": 28,
      "outputs": [
        {
          "output_type": "stream",
          "text": [
            "Average of Nr of in spam mail 157\n",
            "Average of Nr of in nonspam mail 90.505\n"
          ],
          "name": "stdout"
        }
      ]
    },
    {
      "cell_type": "markdown",
      "metadata": {
        "id": "TAc2FCi7cGXB"
      },
      "source": [
        "## Summing the Tokens coouring in Spam and Ham"
      ]
    },
    {
      "cell_type": "code",
      "metadata": {
        "colab": {
          "base_uri": "https://localhost:8080/"
        },
        "id": "NGiyJGJ5cPz0",
        "outputId": "5c735a38-4639-408b-b3c4-1fa755a3e0fb"
      },
      "source": [
        "full_train_features.shape"
      ],
      "execution_count": 29,
      "outputs": [
        {
          "output_type": "execute_result",
          "data": {
            "text/plain": [
              "(4015, 2500)"
            ]
          },
          "metadata": {
            "tags": []
          },
          "execution_count": 29
        }
      ]
    },
    {
      "cell_type": "code",
      "metadata": {
        "colab": {
          "base_uri": "https://localhost:8080/"
        },
        "id": "OLAOc94gcQRW",
        "outputId": "0319646f-ef0c-4131-cf4c-3b29ded7f52b"
      },
      "source": [
        "train_spam_tokens = full_train_features[full_train_data.CATEGORY==1]\n",
        "train_spam_tokens.shape"
      ],
      "execution_count": 30,
      "outputs": [
        {
          "output_type": "execute_result",
          "data": {
            "text/plain": [
              "(1250, 2500)"
            ]
          },
          "metadata": {
            "tags": []
          },
          "execution_count": 30
        }
      ]
    },
    {
      "cell_type": "code",
      "metadata": {
        "colab": {
          "base_uri": "https://localhost:8080/"
        },
        "id": "awJlKqvKcQYG",
        "outputId": "bbea8833-c432-4749-b06a-d663feae1790"
      },
      "source": [
        "summed_spam_tokens =train_spam_tokens.sum(axis=0)+1\n",
        "summed_spam_tokens.shape"
      ],
      "execution_count": 31,
      "outputs": [
        {
          "output_type": "execute_result",
          "data": {
            "text/plain": [
              "(2500,)"
            ]
          },
          "metadata": {
            "tags": []
          },
          "execution_count": 31
        }
      ]
    },
    {
      "cell_type": "code",
      "metadata": {
        "id": "_Xc92wioeog8"
      },
      "source": [
        "train_ham_tokens = full_train_features[full_train_data.CATEGORY==0]"
      ],
      "execution_count": 32,
      "outputs": []
    },
    {
      "cell_type": "code",
      "metadata": {
        "colab": {
          "base_uri": "https://localhost:8080/"
        },
        "id": "NUPV-cBIeZQC",
        "outputId": "d3ce54fe-1992-4b8d-bc9c-68876d95e45b"
      },
      "source": [
        "summed_ham_tokens = train_ham_tokens.sum(axis=0)+1\n",
        "summed_ham_tokens.shape"
      ],
      "execution_count": 33,
      "outputs": [
        {
          "output_type": "execute_result",
          "data": {
            "text/plain": [
              "(2500,)"
            ]
          },
          "metadata": {
            "tags": []
          },
          "execution_count": 33
        }
      ]
    },
    {
      "cell_type": "markdown",
      "metadata": {
        "id": "SMubQFhNgou5"
      },
      "source": [
        "###P(Token|Spam) : Conditional Prob.\n",
        "\n",
        "\n",
        "\n"
      ]
    },
    {
      "cell_type": "code",
      "metadata": {
        "colab": {
          "base_uri": "https://localhost:8080/"
        },
        "id": "dD7dPRQZgnyR",
        "outputId": "0d8fa1cf-9ea5-4129-d2d5-0f36bb01c98c"
      },
      "source": [
        "prob_tokens_spam = summed_spam_tokens / (spam_wc + VOCAB_SIZE)\n",
        "prob_tokens_spam"
      ],
      "execution_count": 34,
      "outputs": [
        {
          "output_type": "execute_result",
          "data": {
            "text/plain": [
              "0       0.009049\n",
              "1       0.004885\n",
              "2       0.006838\n",
              "3       0.010593\n",
              "4       0.006803\n",
              "          ...   \n",
              "2495    0.000096\n",
              "2496    0.000010\n",
              "2497    0.000116\n",
              "2498    0.000050\n",
              "2499    0.000020\n",
              "Length: 2500, dtype: float64"
            ]
          },
          "metadata": {
            "tags": []
          },
          "execution_count": 34
        }
      ]
    },
    {
      "cell_type": "markdown",
      "metadata": {
        "id": "A8J8npC7hkHw"
      },
      "source": [
        "###P(Token|Ham) : Conditional Prob."
      ]
    },
    {
      "cell_type": "code",
      "metadata": {
        "colab": {
          "base_uri": "https://localhost:8080/"
        },
        "id": "MBH6qFxngoCF",
        "outputId": "5bc2a65f-1699-4cf8-a842-59bb1537e774"
      },
      "source": [
        "prob_tokens_ham = summed_ham_tokens / (nonspam_wc + VOCAB_SIZE)\n",
        "prob_tokens_ham"
      ],
      "execution_count": 35,
      "outputs": [
        {
          "output_type": "execute_result",
          "data": {
            "text/plain": [
              "0       0.020863\n",
              "1       0.009887\n",
              "2       0.008063\n",
              "3       0.003735\n",
              "4       0.006311\n",
              "          ...   \n",
              "2495    0.000051\n",
              "2496    0.000075\n",
              "2497    0.000004\n",
              "2498    0.000063\n",
              "2499    0.000138\n",
              "Length: 2500, dtype: float64"
            ]
          },
          "metadata": {
            "tags": []
          },
          "execution_count": 35
        }
      ]
    },
    {
      "cell_type": "markdown",
      "metadata": {
        "id": "tZq69MVtiJET"
      },
      "source": [
        "### P(Token) - probability that token accurs"
      ]
    },
    {
      "cell_type": "code",
      "metadata": {
        "id": "QfhhO3qiiSvb"
      },
      "source": [
        "#prob_tokens_all = (summed_spam_tokens +summed_ham_tokens)/(nonspam_wc + VOCAB_SIZE)\n"
      ],
      "execution_count": 36,
      "outputs": []
    },
    {
      "cell_type": "code",
      "metadata": {
        "colab": {
          "base_uri": "https://localhost:8080/"
        },
        "id": "WGU32A7Ri1fq",
        "outputId": "e2b6a548-5256-4556-eccc-f8384a9c91b2"
      },
      "source": [
        "prob_tokens_all = full_train_features.sum(axis=0)/(nonspam_wc + VOCAB_SIZE)\n",
        "prob_tokens_all"
      ],
      "execution_count": 37,
      "outputs": [
        {
          "output_type": "execute_result",
          "data": {
            "text/plain": [
              "0       0.027949\n",
              "1       0.013709\n",
              "2       0.013417\n",
              "3       0.012032\n",
              "4       0.011636\n",
              "          ...   \n",
              "2495    0.000119\n",
              "2496    0.000075\n",
              "2497    0.000087\n",
              "2498    0.000095\n",
              "2499    0.000146\n",
              "Length: 2500, dtype: float64"
            ]
          },
          "metadata": {
            "tags": []
          },
          "execution_count": 37
        }
      ]
    },
    {
      "cell_type": "code",
      "metadata": {
        "colab": {
          "base_uri": "https://localhost:8080/"
        },
        "id": "s4ej0oKqjkeZ",
        "outputId": "23fda4b6-3438-4051-ec0d-e0334cd27375"
      },
      "source": [
        "! ls"
      ],
      "execution_count": 38,
      "outputs": [
        {
          "output_type": "stream",
          "text": [
            "01_Processing  02_Training  03_Testing\n"
          ],
          "name": "stdout"
        }
      ]
    },
    {
      "cell_type": "code",
      "metadata": {
        "id": "mwhuz_vfjcwo"
      },
      "source": [
        "# path \n",
        "TOKEN_SPAM_BROB_FILE = './03_Testing/prob-spam.txt'\n",
        "TOKEN_HAM_BROB_FILE = './03_Testing/prob-ham.txt'\n",
        "TOKEN_ALL_BROB_FILE = './03_Testing/prob-all-tokens.txt'\n",
        "\n",
        "TEST_FEATURE_MATRIX = './03_Testing/test-features.txt'\n",
        "TEST_TARGET_FILE = './03_Testing/test-target.txt'"
      ],
      "execution_count": 49,
      "outputs": []
    },
    {
      "cell_type": "code",
      "metadata": {
        "id": "mkW__aBrkr49"
      },
      "source": [
        "np.savetxt(TOKEN_SPAM_BROB_FILE, prob_tokens_spam)\n",
        "np.savetxt(TOKEN_HAM_BROB_FILE, prob_tokens_ham)\n",
        "np.savetxt(TOKEN_ALL_BROB_FILE, prob_tokens_all)"
      ],
      "execution_count": 40,
      "outputs": []
    },
    {
      "cell_type": "markdown",
      "metadata": {
        "id": "x5W9xenSvOuX"
      },
      "source": [
        "## Prepare test Data"
      ]
    },
    {
      "cell_type": "code",
      "metadata": {
        "colab": {
          "base_uri": "https://localhost:8080/"
        },
        "id": "hjs9DvzBwlT6",
        "outputId": "3c0474ea-d418-4a47-d3d8-ba0966d6f0d9"
      },
      "source": [
        "sparse_test_data.shape"
      ],
      "execution_count": 42,
      "outputs": [
        {
          "output_type": "execute_result",
          "data": {
            "text/plain": [
              "(110522, 4)"
            ]
          },
          "metadata": {
            "tags": []
          },
          "execution_count": 42
        }
      ]
    },
    {
      "cell_type": "code",
      "metadata": {
        "colab": {
          "base_uri": "https://localhost:8080/"
        },
        "id": "9pW6pqgvvPTg",
        "outputId": "9e21e4b7-949f-4922-a009-d8485a3089da"
      },
      "source": [
        "%%time\n",
        "full_test_data = make_full_matrix(sparse_test_data, VOCAB_SIZE)"
      ],
      "execution_count": 43,
      "outputs": [
        {
          "output_type": "stream",
          "text": [
            "CPU times: user 1min 2s, sys: 1.28 s, total: 1min 3s\n",
            "Wall time: 1min 3s\n"
          ],
          "name": "stdout"
        }
      ]
    },
    {
      "cell_type": "code",
      "metadata": {
        "id": "g9EpBdtkvPfO"
      },
      "source": [
        "X_test= full_test_data.loc[:, full_test_data.columns !='CATEGORY']\n",
        "y_test =full_test_data.CATEGORY"
      ],
      "execution_count": 46,
      "outputs": []
    },
    {
      "cell_type": "code",
      "metadata": {
        "id": "RZuxesrOvPiD"
      },
      "source": [
        "np.savetxt(TEST_TARGET_FILE, y_test)\n",
        "np.savetxt(TEST_FEATURE_MATRIX, X_test)"
      ],
      "execution_count": 50,
      "outputs": []
    }
  ]
}