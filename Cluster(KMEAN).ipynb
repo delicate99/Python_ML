{
  "nbformat": 4,
  "nbformat_minor": 0,
  "metadata": {
    "colab": {
      "name": "Cluster(KMEAN).ipynb",
      "provenance": [],
      "mount_file_id": "1w_kGbqQNGwK-30qorSct_2givFIVr-3e",
      "authorship_tag": "ABX9TyNOT8sQ+x/MvYv47eaApvvq",
      "include_colab_link": true
    },
    "kernelspec": {
      "name": "python3",
      "display_name": "Python 3"
    },
    "language_info": {
      "name": "python"
    }
  },
  "cells": [
    {
      "cell_type": "markdown",
      "metadata": {
        "id": "view-in-github",
        "colab_type": "text"
      },
      "source": [
        "<a href=\"https://colab.research.google.com/github/delicate99/Python_ML/blob/main/Cluster(KMEAN).ipynb\" target=\"_parent\"><img src=\"https://colab.research.google.com/assets/colab-badge.svg\" alt=\"Open In Colab\"/></a>"
      ]
    },
    {
      "cell_type": "code",
      "metadata": {
        "id": "C4wC3MdfEObm"
      },
      "source": [
        "import numpy as np\n",
        "import pandas as pd\n",
        "import matplotlib.pyplot as plt\n",
        "import seaborn as sns\n",
        "import os"
      ],
      "execution_count": 2,
      "outputs": []
    },
    {
      "cell_type": "code",
      "metadata": {
        "id": "jOqUS-_KETny"
      },
      "source": [
        "df=pd.read_csv('drive/MyDrive/DATA/CIA_Country_Facts.csv')"
      ],
      "execution_count": 3,
      "outputs": []
    },
    {
      "cell_type": "code",
      "metadata": {
        "colab": {
          "base_uri": "https://localhost:8080/",
          "height": 394
        },
        "id": "0Ozauf7qEo9w",
        "outputId": "5cce2e5d-bc8a-49f5-b2ee-afdd765f7289"
      },
      "source": [
        "df.head()"
      ],
      "execution_count": 4,
      "outputs": [
        {
          "output_type": "execute_result",
          "data": {
            "text/html": [
              "<div>\n",
              "<style scoped>\n",
              "    .dataframe tbody tr th:only-of-type {\n",
              "        vertical-align: middle;\n",
              "    }\n",
              "\n",
              "    .dataframe tbody tr th {\n",
              "        vertical-align: top;\n",
              "    }\n",
              "\n",
              "    .dataframe thead th {\n",
              "        text-align: right;\n",
              "    }\n",
              "</style>\n",
              "<table border=\"1\" class=\"dataframe\">\n",
              "  <thead>\n",
              "    <tr style=\"text-align: right;\">\n",
              "      <th></th>\n",
              "      <th>Country</th>\n",
              "      <th>Region</th>\n",
              "      <th>Population</th>\n",
              "      <th>Area (sq. mi.)</th>\n",
              "      <th>Pop. Density (per sq. mi.)</th>\n",
              "      <th>Coastline (coast/area ratio)</th>\n",
              "      <th>Net migration</th>\n",
              "      <th>Infant mortality (per 1000 births)</th>\n",
              "      <th>GDP ($ per capita)</th>\n",
              "      <th>Literacy (%)</th>\n",
              "      <th>Phones (per 1000)</th>\n",
              "      <th>Arable (%)</th>\n",
              "      <th>Crops (%)</th>\n",
              "      <th>Other (%)</th>\n",
              "      <th>Climate</th>\n",
              "      <th>Birthrate</th>\n",
              "      <th>Deathrate</th>\n",
              "      <th>Agriculture</th>\n",
              "      <th>Industry</th>\n",
              "      <th>Service</th>\n",
              "    </tr>\n",
              "  </thead>\n",
              "  <tbody>\n",
              "    <tr>\n",
              "      <th>0</th>\n",
              "      <td>Afghanistan</td>\n",
              "      <td>ASIA (EX. NEAR EAST)</td>\n",
              "      <td>31056997</td>\n",
              "      <td>647500</td>\n",
              "      <td>48.0</td>\n",
              "      <td>0.00</td>\n",
              "      <td>23.06</td>\n",
              "      <td>163.07</td>\n",
              "      <td>700.0</td>\n",
              "      <td>36.0</td>\n",
              "      <td>3.2</td>\n",
              "      <td>12.13</td>\n",
              "      <td>0.22</td>\n",
              "      <td>87.65</td>\n",
              "      <td>1.0</td>\n",
              "      <td>46.60</td>\n",
              "      <td>20.34</td>\n",
              "      <td>0.380</td>\n",
              "      <td>0.240</td>\n",
              "      <td>0.380</td>\n",
              "    </tr>\n",
              "    <tr>\n",
              "      <th>1</th>\n",
              "      <td>Albania</td>\n",
              "      <td>EASTERN EUROPE</td>\n",
              "      <td>3581655</td>\n",
              "      <td>28748</td>\n",
              "      <td>124.6</td>\n",
              "      <td>1.26</td>\n",
              "      <td>-4.93</td>\n",
              "      <td>21.52</td>\n",
              "      <td>4500.0</td>\n",
              "      <td>86.5</td>\n",
              "      <td>71.2</td>\n",
              "      <td>21.09</td>\n",
              "      <td>4.42</td>\n",
              "      <td>74.49</td>\n",
              "      <td>3.0</td>\n",
              "      <td>15.11</td>\n",
              "      <td>5.22</td>\n",
              "      <td>0.232</td>\n",
              "      <td>0.188</td>\n",
              "      <td>0.579</td>\n",
              "    </tr>\n",
              "    <tr>\n",
              "      <th>2</th>\n",
              "      <td>Algeria</td>\n",
              "      <td>NORTHERN AFRICA</td>\n",
              "      <td>32930091</td>\n",
              "      <td>2381740</td>\n",
              "      <td>13.8</td>\n",
              "      <td>0.04</td>\n",
              "      <td>-0.39</td>\n",
              "      <td>31.00</td>\n",
              "      <td>6000.0</td>\n",
              "      <td>70.0</td>\n",
              "      <td>78.1</td>\n",
              "      <td>3.22</td>\n",
              "      <td>0.25</td>\n",
              "      <td>96.53</td>\n",
              "      <td>1.0</td>\n",
              "      <td>17.14</td>\n",
              "      <td>4.61</td>\n",
              "      <td>0.101</td>\n",
              "      <td>0.600</td>\n",
              "      <td>0.298</td>\n",
              "    </tr>\n",
              "    <tr>\n",
              "      <th>3</th>\n",
              "      <td>American Samoa</td>\n",
              "      <td>OCEANIA</td>\n",
              "      <td>57794</td>\n",
              "      <td>199</td>\n",
              "      <td>290.4</td>\n",
              "      <td>58.29</td>\n",
              "      <td>-20.71</td>\n",
              "      <td>9.27</td>\n",
              "      <td>8000.0</td>\n",
              "      <td>97.0</td>\n",
              "      <td>259.5</td>\n",
              "      <td>10.00</td>\n",
              "      <td>15.00</td>\n",
              "      <td>75.00</td>\n",
              "      <td>2.0</td>\n",
              "      <td>22.46</td>\n",
              "      <td>3.27</td>\n",
              "      <td>NaN</td>\n",
              "      <td>NaN</td>\n",
              "      <td>NaN</td>\n",
              "    </tr>\n",
              "    <tr>\n",
              "      <th>4</th>\n",
              "      <td>Andorra</td>\n",
              "      <td>WESTERN EUROPE</td>\n",
              "      <td>71201</td>\n",
              "      <td>468</td>\n",
              "      <td>152.1</td>\n",
              "      <td>0.00</td>\n",
              "      <td>6.60</td>\n",
              "      <td>4.05</td>\n",
              "      <td>19000.0</td>\n",
              "      <td>100.0</td>\n",
              "      <td>497.2</td>\n",
              "      <td>2.22</td>\n",
              "      <td>0.00</td>\n",
              "      <td>97.78</td>\n",
              "      <td>3.0</td>\n",
              "      <td>8.71</td>\n",
              "      <td>6.25</td>\n",
              "      <td>NaN</td>\n",
              "      <td>NaN</td>\n",
              "      <td>NaN</td>\n",
              "    </tr>\n",
              "  </tbody>\n",
              "</table>\n",
              "</div>"
            ],
            "text/plain": [
              "          Country                               Region  ...  Industry  Service\n",
              "0     Afghanistan        ASIA (EX. NEAR EAST)           ...     0.240    0.380\n",
              "1         Albania  EASTERN EUROPE                       ...     0.188    0.579\n",
              "2         Algeria  NORTHERN AFRICA                      ...     0.600    0.298\n",
              "3  American Samoa  OCEANIA                              ...       NaN      NaN\n",
              "4         Andorra  WESTERN EUROPE                       ...       NaN      NaN\n",
              "\n",
              "[5 rows x 20 columns]"
            ]
          },
          "metadata": {
            "tags": []
          },
          "execution_count": 4
        }
      ]
    },
    {
      "cell_type": "code",
      "metadata": {
        "colab": {
          "base_uri": "https://localhost:8080/"
        },
        "id": "QGkE1AgfEuT2",
        "outputId": "d8061360-c4bc-4d1b-cf82-4700164134d9"
      },
      "source": [
        "df.info()"
      ],
      "execution_count": 5,
      "outputs": [
        {
          "output_type": "stream",
          "text": [
            "<class 'pandas.core.frame.DataFrame'>\n",
            "RangeIndex: 227 entries, 0 to 226\n",
            "Data columns (total 20 columns):\n",
            " #   Column                              Non-Null Count  Dtype  \n",
            "---  ------                              --------------  -----  \n",
            " 0   Country                             227 non-null    object \n",
            " 1   Region                              227 non-null    object \n",
            " 2   Population                          227 non-null    int64  \n",
            " 3   Area (sq. mi.)                      227 non-null    int64  \n",
            " 4   Pop. Density (per sq. mi.)          227 non-null    float64\n",
            " 5   Coastline (coast/area ratio)        227 non-null    float64\n",
            " 6   Net migration                       224 non-null    float64\n",
            " 7   Infant mortality (per 1000 births)  224 non-null    float64\n",
            " 8   GDP ($ per capita)                  226 non-null    float64\n",
            " 9   Literacy (%)                        209 non-null    float64\n",
            " 10  Phones (per 1000)                   223 non-null    float64\n",
            " 11  Arable (%)                          225 non-null    float64\n",
            " 12  Crops (%)                           225 non-null    float64\n",
            " 13  Other (%)                           225 non-null    float64\n",
            " 14  Climate                             205 non-null    float64\n",
            " 15  Birthrate                           224 non-null    float64\n",
            " 16  Deathrate                           223 non-null    float64\n",
            " 17  Agriculture                         212 non-null    float64\n",
            " 18  Industry                            211 non-null    float64\n",
            " 19  Service                             212 non-null    float64\n",
            "dtypes: float64(16), int64(2), object(2)\n",
            "memory usage: 35.6+ KB\n"
          ],
          "name": "stdout"
        }
      ]
    },
    {
      "cell_type": "code",
      "metadata": {
        "colab": {
          "base_uri": "https://localhost:8080/",
          "height": 296
        },
        "id": "kG1RMKjTMwB9",
        "outputId": "f026c4a5-722b-4012-d7fc-068f73cd9714"
      },
      "source": [
        "sns.histplot(data=df[df['Population']<200000000], x='Population')"
      ],
      "execution_count": 6,
      "outputs": [
        {
          "output_type": "execute_result",
          "data": {
            "text/plain": [
              "<matplotlib.axes._subplots.AxesSubplot at 0x7f4eab9886d0>"
            ]
          },
          "metadata": {
            "tags": []
          },
          "execution_count": 6
        },
        {
          "output_type": "display_data",
          "data": {
            "image/png": "[encoded data removed]",
            "text/plain": [
              "<Figure size 432x288 with 1 Axes>"
            ]
          },
          "metadata": {
            "tags": [],
            "needs_background": "light"
          }
        }
      ]
    },
    {
      "cell_type": "code",
      "metadata": {
        "colab": {
          "base_uri": "https://localhost:8080/"
        },
        "id": "bIJH-jbiNTnZ",
        "outputId": "def78db3-122f-41c4-81ff-823bce2a505d"
      },
      "source": [
        "df.columns"
      ],
      "execution_count": 7,
      "outputs": [
        {
          "output_type": "execute_result",
          "data": {
            "text/plain": [
              "Index(['Country', 'Region', 'Population', 'Area (sq. mi.)',\n",
              "       'Pop. Density (per sq. mi.)', 'Coastline (coast/area ratio)',\n",
              "       'Net migration', 'Infant mortality (per 1000 births)',\n",
              "       'GDP ($ per capita)', 'Literacy (%)', 'Phones (per 1000)', 'Arable (%)',\n",
              "       'Crops (%)', 'Other (%)', 'Climate', 'Birthrate', 'Deathrate',\n",
              "       'Agriculture', 'Industry', 'Service'],\n",
              "      dtype='object')"
            ]
          },
          "metadata": {
            "tags": []
          },
          "execution_count": 7
        }
      ]
    },
    {
      "cell_type": "code",
      "metadata": {
        "colab": {
          "base_uri": "https://localhost:8080/",
          "height": 577
        },
        "id": "d_Hbmui8NLCC",
        "outputId": "5de764ea-001d-410d-944d-e36d1a1ec2b9"
      },
      "source": [
        "plt.figure(figsize=(10,6))\n",
        "sns.barplot(data=df, y='GDP ($ per capita)', x='Region')\n",
        "plt.xticks(rotation=90)"
      ],
      "execution_count": 8,
      "outputs": [
        {
          "output_type": "execute_result",
          "data": {
            "text/plain": [
              "(array([ 0,  1,  2,  3,  4,  5,  6,  7,  8,  9, 10]),\n",
              " <a list of 11 Text major ticklabel objects>)"
            ]
          },
          "metadata": {
            "tags": []
          },
          "execution_count": 8
        },
        {
          "output_type": "display_data",
          "data": {
            "image/png": "[encoded data removed]",
            "text/plain": [
              "<Figure size 720x432 with 1 Axes>"
            ]
          },
          "metadata": {
            "tags": [],
            "needs_background": "light"
          }
        }
      ]
    },
    {
      "cell_type": "code",
      "metadata": {
        "colab": {
          "base_uri": "https://localhost:8080/",
          "height": 259
        },
        "id": "Xoy3AtjVNzap",
        "outputId": "45257af0-3872-4d63-968f-82cf2b8f852b"
      },
      "source": [
        "plt.figure(figsize=(8,4))\n",
        "sns.scatterplot(data =df, x='GDP ($ per capita)',y='Phones (per 1000)', hue='Region')\n",
        "plt.legend(loc=(1.05,0.2))"
      ],
      "execution_count": 9,
      "outputs": [
        {
          "output_type": "execute_result",
          "data": {
            "text/plain": [
              "<matplotlib.legend.Legend at 0x7f4eaa2a7a90>"
            ]
          },
          "metadata": {
            "tags": []
          },
          "execution_count": 9
        },
        {
          "output_type": "display_data",
          "data": {
            "image/png": "[encoded data removed]",
            "text/plain": [
              "<Figure size 576x288 with 1 Axes>"
            ]
          },
          "metadata": {
            "tags": [],
            "needs_background": "light"
          }
        }
      ]
    },
    {
      "cell_type": "code",
      "metadata": {
        "colab": {
          "base_uri": "https://localhost:8080/",
          "height": 185
        },
        "id": "l6_hkUzCOxxn",
        "outputId": "b17e33c8-59fb-47ef-870a-4519f77991df"
      },
      "source": [
        "df[df['Phones (per 1000)']>900]"
      ],
      "execution_count": 10,
      "outputs": [
        {
          "output_type": "execute_result",
          "data": {
            "text/html": [
              "<div>\n",
              "<style scoped>\n",
              "    .dataframe tbody tr th:only-of-type {\n",
              "        vertical-align: middle;\n",
              "    }\n",
              "\n",
              "    .dataframe tbody tr th {\n",
              "        vertical-align: top;\n",
              "    }\n",
              "\n",
              "    .dataframe thead th {\n",
              "        text-align: right;\n",
              "    }\n",
              "</style>\n",
              "<table border=\"1\" class=\"dataframe\">\n",
              "  <thead>\n",
              "    <tr style=\"text-align: right;\">\n",
              "      <th></th>\n",
              "      <th>Country</th>\n",
              "      <th>Region</th>\n",
              "      <th>Population</th>\n",
              "      <th>Area (sq. mi.)</th>\n",
              "      <th>Pop. Density (per sq. mi.)</th>\n",
              "      <th>Coastline (coast/area ratio)</th>\n",
              "      <th>Net migration</th>\n",
              "      <th>Infant mortality (per 1000 births)</th>\n",
              "      <th>GDP ($ per capita)</th>\n",
              "      <th>Literacy (%)</th>\n",
              "      <th>Phones (per 1000)</th>\n",
              "      <th>Arable (%)</th>\n",
              "      <th>Crops (%)</th>\n",
              "      <th>Other (%)</th>\n",
              "      <th>Climate</th>\n",
              "      <th>Birthrate</th>\n",
              "      <th>Deathrate</th>\n",
              "      <th>Agriculture</th>\n",
              "      <th>Industry</th>\n",
              "      <th>Service</th>\n",
              "    </tr>\n",
              "  </thead>\n",
              "  <tbody>\n",
              "    <tr>\n",
              "      <th>138</th>\n",
              "      <td>Monaco</td>\n",
              "      <td>WESTERN EUROPE</td>\n",
              "      <td>32543</td>\n",
              "      <td>2</td>\n",
              "      <td>16271.5</td>\n",
              "      <td>205.0</td>\n",
              "      <td>7.75</td>\n",
              "      <td>5.43</td>\n",
              "      <td>27000.0</td>\n",
              "      <td>99.0</td>\n",
              "      <td>1035.6</td>\n",
              "      <td>0.0</td>\n",
              "      <td>0.0</td>\n",
              "      <td>100.0</td>\n",
              "      <td>NaN</td>\n",
              "      <td>9.19</td>\n",
              "      <td>12.91</td>\n",
              "      <td>0.17</td>\n",
              "      <td>NaN</td>\n",
              "      <td>NaN</td>\n",
              "    </tr>\n",
              "  </tbody>\n",
              "</table>\n",
              "</div>"
            ],
            "text/plain": [
              "    Country                               Region  ...  Industry  Service\n",
              "138  Monaco  WESTERN EUROPE                       ...       NaN      NaN\n",
              "\n",
              "[1 rows x 20 columns]"
            ]
          },
          "metadata": {
            "tags": []
          },
          "execution_count": 10
        }
      ]
    },
    {
      "cell_type": "code",
      "metadata": {
        "colab": {
          "base_uri": "https://localhost:8080/",
          "height": 185
        },
        "id": "eWdyZbjHMwNi",
        "outputId": "9caf54b2-3623-4dbb-d989-7e457e745987"
      },
      "source": [
        "df[df['GDP ($ per capita)']>50000]"
      ],
      "execution_count": 11,
      "outputs": [
        {
          "output_type": "execute_result",
          "data": {
            "text/html": [
              "<div>\n",
              "<style scoped>\n",
              "    .dataframe tbody tr th:only-of-type {\n",
              "        vertical-align: middle;\n",
              "    }\n",
              "\n",
              "    .dataframe tbody tr th {\n",
              "        vertical-align: top;\n",
              "    }\n",
              "\n",
              "    .dataframe thead th {\n",
              "        text-align: right;\n",
              "    }\n",
              "</style>\n",
              "<table border=\"1\" class=\"dataframe\">\n",
              "  <thead>\n",
              "    <tr style=\"text-align: right;\">\n",
              "      <th></th>\n",
              "      <th>Country</th>\n",
              "      <th>Region</th>\n",
              "      <th>Population</th>\n",
              "      <th>Area (sq. mi.)</th>\n",
              "      <th>Pop. Density (per sq. mi.)</th>\n",
              "      <th>Coastline (coast/area ratio)</th>\n",
              "      <th>Net migration</th>\n",
              "      <th>Infant mortality (per 1000 births)</th>\n",
              "      <th>GDP ($ per capita)</th>\n",
              "      <th>Literacy (%)</th>\n",
              "      <th>Phones (per 1000)</th>\n",
              "      <th>Arable (%)</th>\n",
              "      <th>Crops (%)</th>\n",
              "      <th>Other (%)</th>\n",
              "      <th>Climate</th>\n",
              "      <th>Birthrate</th>\n",
              "      <th>Deathrate</th>\n",
              "      <th>Agriculture</th>\n",
              "      <th>Industry</th>\n",
              "      <th>Service</th>\n",
              "    </tr>\n",
              "  </thead>\n",
              "  <tbody>\n",
              "    <tr>\n",
              "      <th>121</th>\n",
              "      <td>Luxembourg</td>\n",
              "      <td>WESTERN EUROPE</td>\n",
              "      <td>474413</td>\n",
              "      <td>2586</td>\n",
              "      <td>183.5</td>\n",
              "      <td>0.0</td>\n",
              "      <td>8.97</td>\n",
              "      <td>4.81</td>\n",
              "      <td>55100.0</td>\n",
              "      <td>100.0</td>\n",
              "      <td>515.4</td>\n",
              "      <td>23.28</td>\n",
              "      <td>0.4</td>\n",
              "      <td>76.32</td>\n",
              "      <td>NaN</td>\n",
              "      <td>11.94</td>\n",
              "      <td>8.41</td>\n",
              "      <td>0.01</td>\n",
              "      <td>0.13</td>\n",
              "      <td>0.86</td>\n",
              "    </tr>\n",
              "  </tbody>\n",
              "</table>\n",
              "</div>"
            ],
            "text/plain": [
              "        Country                               Region  ...  Industry  Service\n",
              "121  Luxembourg  WESTERN EUROPE                       ...      0.13     0.86\n",
              "\n",
              "[1 rows x 20 columns]"
            ]
          },
          "metadata": {
            "tags": []
          },
          "execution_count": 11
        }
      ]
    },
    {
      "cell_type": "code",
      "metadata": {
        "colab": {
          "base_uri": "https://localhost:8080/",
          "height": 262
        },
        "id": "r76ZajMYPZuL",
        "outputId": "9be6558e-7140-426f-c4e1-1b27f4cfb413"
      },
      "source": [
        "plt.figure(figsize=(8,4))\n",
        "sns.scatterplot(data=df, x='GDP ($ per capita)', y='Literacy (%)', hue='Region')\n",
        "plt.legend(loc=(1.05, 0.2))"
      ],
      "execution_count": 12,
      "outputs": [
        {
          "output_type": "execute_result",
          "data": {
            "text/plain": [
              "<matplotlib.legend.Legend at 0x7f4eaa2b0f90>"
            ]
          },
          "metadata": {
            "tags": []
          },
          "execution_count": 12
        },
        {
          "output_type": "display_data",
          "data": {
            "image/png": "[encoded data removed]",
            "text/plain": [
              "<Figure size 576x288 with 1 Axes>"
            ]
          },
          "metadata": {
            "tags": [],
            "needs_background": "light"
          }
        }
      ]
    },
    {
      "cell_type": "code",
      "metadata": {
        "colab": {
          "base_uri": "https://localhost:8080/",
          "height": 527
        },
        "id": "yzpFcn-yQPmM",
        "outputId": "90e0ee85-7caf-4336-b69b-9fd0e600722e"
      },
      "source": [
        "plt.figure(dpi=100)\n",
        "sns.heatmap(df.corr())"
      ],
      "execution_count": 13,
      "outputs": [
        {
          "output_type": "execute_result",
          "data": {
            "text/plain": [
              "<matplotlib.axes._subplots.AxesSubplot at 0x7f4eaa8a1e90>"
            ]
          },
          "metadata": {
            "tags": []
          },
          "execution_count": 13
        },
        {
          "output_type": "display_data",
          "data": {
            "image/png": "[encoded data removed]",
            "text/plain": [
              "<Figure size 600x400 with 2 Axes>"
            ]
          },
          "metadata": {
            "tags": [],
            "needs_background": "light"
          }
        }
      ]
    },
    {
      "cell_type": "code",
      "metadata": {
        "colab": {
          "base_uri": "https://localhost:8080/",
          "height": 663
        },
        "id": "QBHrutptQeph",
        "outputId": "05d7507f-12c1-4ffc-e19c-909c40e2ecc4"
      },
      "source": [
        "sns.clustermap(df.corr())"
      ],
      "execution_count": 14,
      "outputs": [
        {
          "output_type": "execute_result",
          "data": {
            "text/plain": [
              "<seaborn.matrix.ClusterGrid at 0x7f4eaa8d46d0>"
            ]
          },
          "metadata": {
            "tags": []
          },
          "execution_count": 14
        },
        {
          "output_type": "display_data",
          "data": {
            "image/png": "[encoded data removed]",
            "text/plain": [
              "<Figure size 720x720 with 4 Axes>"
            ]
          },
          "metadata": {
            "tags": [],
            "needs_background": "light"
          }
        }
      ]
    },
    {
      "cell_type": "code",
      "metadata": {
        "colab": {
          "base_uri": "https://localhost:8080/"
        },
        "id": "dWbaITOqQ9gt",
        "outputId": "c26a9edc-4490-479c-fd29-3258601d6423"
      },
      "source": [
        "df.isnull().sum()"
      ],
      "execution_count": 15,
      "outputs": [
        {
          "output_type": "execute_result",
          "data": {
            "text/plain": [
              "Country                                0\n",
              "Region                                 0\n",
              "Population                             0\n",
              "Area (sq. mi.)                         0\n",
              "Pop. Density (per sq. mi.)             0\n",
              "Coastline (coast/area ratio)           0\n",
              "Net migration                          3\n",
              "Infant mortality (per 1000 births)     3\n",
              "GDP ($ per capita)                     1\n",
              "Literacy (%)                          18\n",
              "Phones (per 1000)                      4\n",
              "Arable (%)                             2\n",
              "Crops (%)                              2\n",
              "Other (%)                              2\n",
              "Climate                               22\n",
              "Birthrate                              3\n",
              "Deathrate                              4\n",
              "Agriculture                           15\n",
              "Industry                              16\n",
              "Service                               15\n",
              "dtype: int64"
            ]
          },
          "metadata": {
            "tags": []
          },
          "execution_count": 15
        }
      ]
    },
    {
      "cell_type": "code",
      "metadata": {
        "colab": {
          "base_uri": "https://localhost:8080/"
        },
        "id": "GPC_td8NPaBC",
        "outputId": "62c991cc-438a-4b15-a2eb-d61f8ec96182"
      },
      "source": [
        "df[df['Agriculture'].isnull()]['Country']"
      ],
      "execution_count": 16,
      "outputs": [
        {
          "output_type": "execute_result",
          "data": {
            "text/plain": [
              "3            American Samoa\n",
              "4                   Andorra\n",
              "78                Gibraltar\n",
              "80                Greenland\n",
              "83                     Guam\n",
              "134                 Mayotte\n",
              "140              Montserrat\n",
              "144                   Nauru\n",
              "153      N. Mariana Islands\n",
              "171            Saint Helena\n",
              "174    St Pierre & Miquelon\n",
              "177              San Marino\n",
              "208       Turks & Caicos Is\n",
              "221       Wallis and Futuna\n",
              "223          Western Sahara\n",
              "Name: Country, dtype: object"
            ]
          },
          "metadata": {
            "tags": []
          },
          "execution_count": 16
        }
      ]
    },
    {
      "cell_type": "code",
      "metadata": {
        "id": "m8o000m3RLqh"
      },
      "source": [
        "df[df['Agriculture'].isnull()]=df[df['Agriculture'].isnull()].fillna(0)"
      ],
      "execution_count": 17,
      "outputs": []
    },
    {
      "cell_type": "code",
      "metadata": {
        "colab": {
          "base_uri": "https://localhost:8080/"
        },
        "id": "8mo9QYhaRMI_",
        "outputId": "4f15233e-c257-4f9d-a180-0a6a38c67339"
      },
      "source": [
        "df[df['Agriculture'].isnull()]['Country']"
      ],
      "execution_count": 18,
      "outputs": [
        {
          "output_type": "execute_result",
          "data": {
            "text/plain": [
              "Series([], Name: Country, dtype: object)"
            ]
          },
          "metadata": {
            "tags": []
          },
          "execution_count": 18
        }
      ]
    },
    {
      "cell_type": "code",
      "metadata": {
        "colab": {
          "base_uri": "https://localhost:8080/"
        },
        "id": "8NEsFoGqR84n",
        "outputId": "c575e3b5-502d-45dd-b87c-f1817da725d3"
      },
      "source": [
        "df.isnull().sum()"
      ],
      "execution_count": 19,
      "outputs": [
        {
          "output_type": "execute_result",
          "data": {
            "text/plain": [
              "Country                                0\n",
              "Region                                 0\n",
              "Population                             0\n",
              "Area (sq. mi.)                         0\n",
              "Pop. Density (per sq. mi.)             0\n",
              "Coastline (coast/area ratio)           0\n",
              "Net migration                          1\n",
              "Infant mortality (per 1000 births)     1\n",
              "GDP ($ per capita)                     0\n",
              "Literacy (%)                          13\n",
              "Phones (per 1000)                      2\n",
              "Arable (%)                             1\n",
              "Crops (%)                              1\n",
              "Other (%)                              1\n",
              "Climate                               18\n",
              "Birthrate                              1\n",
              "Deathrate                              2\n",
              "Agriculture                            0\n",
              "Industry                               1\n",
              "Service                                1\n",
              "dtype: int64"
            ]
          },
          "metadata": {
            "tags": []
          },
          "execution_count": 19
        }
      ]
    },
    {
      "cell_type": "code",
      "metadata": {
        "id": "oCeHWmMtSLgB"
      },
      "source": [
        "df['Climate'] = df['Climate'].fillna(df.groupby('Region')['Climate'].transform('mean'))"
      ],
      "execution_count": 20,
      "outputs": []
    },
    {
      "cell_type": "code",
      "metadata": {
        "colab": {
          "base_uri": "https://localhost:8080/"
        },
        "id": "t1RMuUfCTZzx",
        "outputId": "d11d1811-4f7f-4b69-882c-0853b56db25f"
      },
      "source": [
        "df.isnull().sum()"
      ],
      "execution_count": 21,
      "outputs": [
        {
          "output_type": "execute_result",
          "data": {
            "text/plain": [
              "Country                                0\n",
              "Region                                 0\n",
              "Population                             0\n",
              "Area (sq. mi.)                         0\n",
              "Pop. Density (per sq. mi.)             0\n",
              "Coastline (coast/area ratio)           0\n",
              "Net migration                          1\n",
              "Infant mortality (per 1000 births)     1\n",
              "GDP ($ per capita)                     0\n",
              "Literacy (%)                          13\n",
              "Phones (per 1000)                      2\n",
              "Arable (%)                             1\n",
              "Crops (%)                              1\n",
              "Other (%)                              1\n",
              "Climate                                0\n",
              "Birthrate                              1\n",
              "Deathrate                              2\n",
              "Agriculture                            0\n",
              "Industry                               1\n",
              "Service                                1\n",
              "dtype: int64"
            ]
          },
          "metadata": {
            "tags": []
          },
          "execution_count": 21
        }
      ]
    },
    {
      "cell_type": "code",
      "metadata": {
        "id": "WtkvtxcnSN4o"
      },
      "source": [
        "df['Literacy (%)'] = df['Literacy (%)'].fillna(df.groupby('Region')['Climate'].transform('mean'))"
      ],
      "execution_count": 22,
      "outputs": []
    },
    {
      "cell_type": "code",
      "metadata": {
        "colab": {
          "base_uri": "https://localhost:8080/"
        },
        "id": "jG39PtiBEuZ2",
        "outputId": "a0bf0436-9d3e-466b-ed22-8042211bc5cf"
      },
      "source": [
        "df.isnull().sum()"
      ],
      "execution_count": 23,
      "outputs": [
        {
          "output_type": "execute_result",
          "data": {
            "text/plain": [
              "Country                               0\n",
              "Region                                0\n",
              "Population                            0\n",
              "Area (sq. mi.)                        0\n",
              "Pop. Density (per sq. mi.)            0\n",
              "Coastline (coast/area ratio)          0\n",
              "Net migration                         1\n",
              "Infant mortality (per 1000 births)    1\n",
              "GDP ($ per capita)                    0\n",
              "Literacy (%)                          0\n",
              "Phones (per 1000)                     2\n",
              "Arable (%)                            1\n",
              "Crops (%)                             1\n",
              "Other (%)                             1\n",
              "Climate                               0\n",
              "Birthrate                             1\n",
              "Deathrate                             2\n",
              "Agriculture                           0\n",
              "Industry                              1\n",
              "Service                               1\n",
              "dtype: int64"
            ]
          },
          "metadata": {
            "tags": []
          },
          "execution_count": 23
        }
      ]
    },
    {
      "cell_type": "code",
      "metadata": {
        "id": "Dg-6M3C-T5Ul"
      },
      "source": [
        "df= df.dropna()"
      ],
      "execution_count": 24,
      "outputs": []
    },
    {
      "cell_type": "code",
      "metadata": {
        "id": "dcyK6ectT8oW"
      },
      "source": [
        "X =df.drop('Country', axis=1)"
      ],
      "execution_count": 25,
      "outputs": []
    },
    {
      "cell_type": "code",
      "metadata": {
        "id": "hUqpI0lmT-Kr"
      },
      "source": [
        "X= pd.get_dummies(X)"
      ],
      "execution_count": 26,
      "outputs": []
    },
    {
      "cell_type": "code",
      "metadata": {
        "id": "jqc0dl9XUVdK"
      },
      "source": [
        "from sklearn.preprocessing import StandardScaler"
      ],
      "execution_count": 27,
      "outputs": []
    },
    {
      "cell_type": "code",
      "metadata": {
        "id": "r3Td2DP_UVnU"
      },
      "source": [
        "scaler =StandardScaler()\n",
        "scaled_X= scaler.fit_transform(X)"
      ],
      "execution_count": 28,
      "outputs": []
    },
    {
      "cell_type": "code",
      "metadata": {
        "colab": {
          "base_uri": "https://localhost:8080/"
        },
        "id": "zdFnEJwJUVz2",
        "outputId": "5e146a1f-2d75-45f5-fcbf-8d329efe039f"
      },
      "source": [
        "scaled_X"
      ],
      "execution_count": 29,
      "outputs": [
        {
          "output_type": "execute_result",
          "data": {
            "text/plain": [
              "array([[ 0.0133285 ,  0.01855412, -0.20308668, ..., -0.31544015,\n",
              "        -0.54772256, -0.36514837],\n",
              "       [-0.21730118, -0.32370888, -0.14378531, ..., -0.31544015,\n",
              "        -0.54772256, -0.36514837],\n",
              "       [ 0.02905136,  0.97784988, -0.22956327, ..., -0.31544015,\n",
              "        -0.54772256, -0.36514837],\n",
              "       ...,\n",
              "       [-0.06726127, -0.04756396, -0.20881553, ..., -0.31544015,\n",
              "        -0.54772256, -0.36514837],\n",
              "       [-0.15081724,  0.07669798, -0.22840201, ..., -0.31544015,\n",
              "         1.82574186, -0.36514837],\n",
              "       [-0.14464933, -0.12356132, -0.2160153 , ..., -0.31544015,\n",
              "         1.82574186, -0.36514837]])"
            ]
          },
          "metadata": {
            "tags": []
          },
          "execution_count": 29
        }
      ]
    },
    {
      "cell_type": "code",
      "metadata": {
        "id": "Q3FuFVnEU08i"
      },
      "source": [
        "from sklearn.cluster import KMeans"
      ],
      "execution_count": 30,
      "outputs": []
    },
    {
      "cell_type": "code",
      "metadata": {
        "id": "5MBGpQW1U1HX"
      },
      "source": [
        "ssd=[]\n",
        "\n",
        "for k in range(2,30):\n",
        "\n",
        "    model =KMeans(n_clusters =k)\n",
        "    model.fit(scaled_X)\n",
        "\n",
        "    ssd.append(model.inertia_)"
      ],
      "execution_count": 31,
      "outputs": []
    },
    {
      "cell_type": "code",
      "metadata": {
        "colab": {
          "base_uri": "https://localhost:8080/",
          "height": 282
        },
        "id": "V1wV-xokVPqo",
        "outputId": "4065bb2d-1592-4490-b649-5ea3943cdbd1"
      },
      "source": [
        "plt.plot(range(2,30), ssd, 'o--')"
      ],
      "execution_count": 32,
      "outputs": [
        {
          "output_type": "execute_result",
          "data": {
            "text/plain": [
              "[<matplotlib.lines.Line2D at 0x7f4e99f44d50>]"
            ]
          },
          "metadata": {
            "tags": []
          },
          "execution_count": 32
        },
        {
          "output_type": "display_data",
          "data": {
            "image/png": "[encoded data removed]",
            "text/plain": [
              "<Figure size 432x288 with 1 Axes>"
            ]
          },
          "metadata": {
            "tags": [],
            "needs_background": "light"
          }
        }
      ]
    },
    {
      "cell_type": "code",
      "metadata": {
        "colab": {
          "base_uri": "https://localhost:8080/",
          "height": 289
        },
        "id": "0YLJvfo3U1Ls",
        "outputId": "eaaddc1b-18b4-49f2-97e2-9c10d2e48994"
      },
      "source": [
        "pd.Series(ssd).diff().plot(kind='bar')"
      ],
      "execution_count": 33,
      "outputs": [
        {
          "output_type": "execute_result",
          "data": {
            "text/plain": [
              "<matplotlib.axes._subplots.AxesSubplot at 0x7f4e99ec2d10>"
            ]
          },
          "metadata": {
            "tags": []
          },
          "execution_count": 33
        },
        {
          "output_type": "display_data",
          "data": {
            "image/png": "[encoded data removed]",
            "text/plain": [
              "<Figure size 432x288 with 1 Axes>"
            ]
          },
          "metadata": {
            "tags": [],
            "needs_background": "light"
          }
        }
      ]
    },
    {
      "cell_type": "code",
      "metadata": {
        "colab": {
          "base_uri": "https://localhost:8080/"
        },
        "id": "a2y7KFyeVntG",
        "outputId": "ebceb392-e1a2-47bd-82e0-12bcdc92a132"
      },
      "source": [
        "model =KMeans(n_clusters=3)\n",
        "model.fit(scaled_X)"
      ],
      "execution_count": 34,
      "outputs": [
        {
          "output_type": "execute_result",
          "data": {
            "text/plain": [
              "KMeans(algorithm='auto', copy_x=True, init='k-means++', max_iter=300,\n",
              "       n_clusters=3, n_init=10, n_jobs=None, precompute_distances='auto',\n",
              "       random_state=None, tol=0.0001, verbose=0)"
            ]
          },
          "metadata": {
            "tags": []
          },
          "execution_count": 34
        }
      ]
    },
    {
      "cell_type": "code",
      "metadata": {
        "colab": {
          "base_uri": "https://localhost:8080/"
        },
        "id": "09aH4QWQT5bX",
        "outputId": "6d2b819c-db11-407d-a307-b02d628ebc26"
      },
      "source": [
        "model.labels_"
      ],
      "execution_count": 35,
      "outputs": [
        {
          "output_type": "execute_result",
          "data": {
            "text/plain": [
              "array([2, 0, 0, 0, 1, 2, 0, 0, 0, 0, 0, 0, 1, 0, 0, 0, 0, 0, 0, 1, 0, 2,\n",
              "       1, 2, 0, 0, 2, 0, 0, 0, 0, 2, 2, 2, 2, 2, 1, 0, 1, 2, 2, 0, 0, 0,\n",
              "       2, 2, 2, 0, 2, 0, 0, 0, 1, 2, 0, 0, 0, 0, 0, 2, 2, 0, 2, 1, 0, 1,\n",
              "       1, 0, 0, 2, 2, 0, 0, 1, 2, 1, 1, 0, 0, 0, 0, 0, 2, 2, 0, 2, 0, 1,\n",
              "       0, 1, 0, 0, 0, 0, 1, 1, 0, 1, 0, 1, 1, 0, 0, 2, 0, 0, 0, 0, 0, 2,\n",
              "       0, 0, 2, 2, 0, 1, 0, 1, 1, 0, 2, 2, 0, 0, 2, 1, 0, 0, 2, 0, 2, 0,\n",
              "       0, 0, 0, 0, 0, 2, 2, 0, 2, 1, 0, 0, 0, 0, 2, 2, 0, 1, 0, 2, 0, 0,\n",
              "       0, 0, 0, 0, 0, 1, 0, 0, 0, 0, 0, 2, 0, 0, 0, 0, 0, 0, 1, 2, 0, 2,\n",
              "       0, 2, 1, 0, 0, 0, 2, 2, 1, 0, 2, 0, 2, 1, 1, 0, 1, 2, 2, 0, 2, 0,\n",
              "       0, 0, 0, 0, 0, 0, 2, 0, 0, 1, 1, 0, 0, 0, 0, 0, 0, 0, 0, 0, 2, 2,\n",
              "       2], dtype=int32)"
            ]
          },
          "metadata": {
            "tags": []
          },
          "execution_count": 35
        }
      ]
    },
    {
      "cell_type": "code",
      "metadata": {
        "id": "m9noeWowWKyv"
      },
      "source": [
        "X['K=3 Cluster Labels'] = model.labels_"
      ],
      "execution_count": 36,
      "outputs": []
    },
    {
      "cell_type": "code",
      "metadata": {
        "colab": {
          "base_uri": "https://localhost:8080/",
          "height": 476
        },
        "id": "GbrcsqskWK6r",
        "outputId": "58aba566-fc8b-4477-8b38-159e5cee5331"
      },
      "source": [
        "X.corr()['K=3 Cluster Labels'].sort_values().plot(kind='bar')"
      ],
      "execution_count": 37,
      "outputs": [
        {
          "output_type": "execute_result",
          "data": {
            "text/plain": [
              "<matplotlib.axes._subplots.AxesSubplot at 0x7f4e99dd7710>"
            ]
          },
          "metadata": {
            "tags": []
          },
          "execution_count": 37
        },
        {
          "output_type": "display_data",
          "data": {
            "image/png": "[encoded data removed]",
            "text/plain": [
              "<Figure size 432x288 with 1 Axes>"
            ]
          },
          "metadata": {
            "tags": [],
            "needs_background": "light"
          }
        }
      ]
    },
    {
      "cell_type": "code",
      "metadata": {
        "id": "NwOlUFCdWm6V"
      },
      "source": [
        "#!pip install plotly"
      ],
      "execution_count": 38,
      "outputs": []
    },
    {
      "cell_type": "code",
      "metadata": {
        "id": "86USItr1WK_n"
      },
      "source": [
        "iso_codes = pd.read_csv('drive/MyDrive/DATA/country_iso_codes.csv')"
      ],
      "execution_count": 42,
      "outputs": []
    },
    {
      "cell_type": "code",
      "metadata": {
        "colab": {
          "base_uri": "https://localhost:8080/",
          "height": 204
        },
        "id": "8z1d351sWLIa",
        "outputId": "d95415e0-226b-474e-909c-4659467b818c"
      },
      "source": [
        "iso_codes.head()"
      ],
      "execution_count": 43,
      "outputs": [
        {
          "output_type": "execute_result",
          "data": {
            "text/html": [
              "<div>\n",
              "<style scoped>\n",
              "    .dataframe tbody tr th:only-of-type {\n",
              "        vertical-align: middle;\n",
              "    }\n",
              "\n",
              "    .dataframe tbody tr th {\n",
              "        vertical-align: top;\n",
              "    }\n",
              "\n",
              "    .dataframe thead th {\n",
              "        text-align: right;\n",
              "    }\n",
              "</style>\n",
              "<table border=\"1\" class=\"dataframe\">\n",
              "  <thead>\n",
              "    <tr style=\"text-align: right;\">\n",
              "      <th></th>\n",
              "      <th>Country</th>\n",
              "      <th>ISO Code</th>\n",
              "    </tr>\n",
              "  </thead>\n",
              "  <tbody>\n",
              "    <tr>\n",
              "      <th>0</th>\n",
              "      <td>Afghanistan</td>\n",
              "      <td>AFG</td>\n",
              "    </tr>\n",
              "    <tr>\n",
              "      <th>1</th>\n",
              "      <td>Akrotiri and Dhekelia – See United Kingdom, The</td>\n",
              "      <td>Akrotiri and Dhekelia – See United Kingdom, The</td>\n",
              "    </tr>\n",
              "    <tr>\n",
              "      <th>2</th>\n",
              "      <td>Åland Islands</td>\n",
              "      <td>ALA</td>\n",
              "    </tr>\n",
              "    <tr>\n",
              "      <th>3</th>\n",
              "      <td>Albania</td>\n",
              "      <td>ALB</td>\n",
              "    </tr>\n",
              "    <tr>\n",
              "      <th>4</th>\n",
              "      <td>Algeria</td>\n",
              "      <td>DZA</td>\n",
              "    </tr>\n",
              "  </tbody>\n",
              "</table>\n",
              "</div>"
            ],
            "text/plain": [
              "                                           Country                                         ISO Code\n",
              "0                                      Afghanistan                                              AFG\n",
              "1  Akrotiri and Dhekelia – See United Kingdom, The  Akrotiri and Dhekelia – See United Kingdom, The\n",
              "2                                    Åland Islands                                              ALA\n",
              "3                                          Albania                                              ALB\n",
              "4                                          Algeria                                              DZA"
            ]
          },
          "metadata": {
            "tags": []
          },
          "execution_count": 43
        }
      ]
    },
    {
      "cell_type": "code",
      "metadata": {
        "id": "HQKryfayZA5p"
      },
      "source": [
        "iso_map = iso_codes.set_index('Country')['ISO Code'].to_dict()"
      ],
      "execution_count": 44,
      "outputs": []
    },
    {
      "cell_type": "code",
      "metadata": {
        "colab": {
          "base_uri": "https://localhost:8080/"
        },
        "id": "KRIUBjx2ZBGm",
        "outputId": "ab8b64b6-6b4c-4131-dae8-80c12c3989e3"
      },
      "source": [
        "iso_map"
      ],
      "execution_count": 45,
      "outputs": [
        {
          "output_type": "execute_result",
          "data": {
            "text/plain": [
              "{'Afghanistan': 'AFG',\n",
              " 'Akrotiri and Dhekelia – See United Kingdom, The': 'Akrotiri and Dhekelia – See United Kingdom, The',\n",
              " 'Albania': 'ALB',\n",
              " 'Algeria': 'DZA',\n",
              " 'American Samoa': 'ASM',\n",
              " 'Andorra': 'AND',\n",
              " 'Angola': 'AGO',\n",
              " 'Anguilla': 'AIA',\n",
              " 'Antarctica\\u200a[a]': 'ATA',\n",
              " 'Antigua and Barbuda': 'ATG',\n",
              " 'Argentina': 'ARG',\n",
              " 'Armenia': 'ARM',\n",
              " 'Aruba': 'ABW',\n",
              " 'Ashmore and Cartier Islands – See Australia.': 'Ashmore and Cartier Islands – See Australia.',\n",
              " 'Australia': 'AUS',\n",
              " 'Australia\\u200a[b]': 'AUS',\n",
              " 'Austria': 'AUT',\n",
              " 'Azerbaijan': 'AZE',\n",
              " 'Bahamas (the)': 'BHS',\n",
              " 'Bahrain': 'BHR',\n",
              " 'Bangladesh': 'BGD',\n",
              " 'Barbados': 'BRB',\n",
              " 'Belarus': 'BLR',\n",
              " 'Belgium': 'BEL',\n",
              " 'Belize': 'BLZ',\n",
              " 'Benin': 'BEN',\n",
              " 'Bermuda': 'BMU',\n",
              " 'Bhutan': 'BTN',\n",
              " 'Bolivia': 'BOL',\n",
              " 'Bolivia (Plurinational State of)': 'BOL',\n",
              " 'Bonaire\\xa0Sint Eustatius\\xa0Saba': 'BES',\n",
              " 'Bosnia and Herzegovina': 'BIH',\n",
              " 'Botswana': 'BWA',\n",
              " 'Bouvet Island': 'BVT',\n",
              " 'Brazil': 'BRA',\n",
              " 'British Indian Ocean Territory (the)': 'IOT',\n",
              " 'British Virgin Islands – See Virgin Islands (British).': 'British Virgin Islands – See Virgin Islands (British).',\n",
              " 'Brunei Darussalam\\u200a[e]': 'BRN',\n",
              " 'Bulgaria': 'BGR',\n",
              " 'Burkina Faso': 'BFA',\n",
              " 'Burma': 'MMR',\n",
              " 'Burma – See Myanmar.': 'Burma – See Myanmar.',\n",
              " 'Burundi': 'BDI',\n",
              " 'Cabo Verde\\u200a[f]': 'CPV',\n",
              " 'Cambodia': 'KHM',\n",
              " 'Cameroon': 'CMR',\n",
              " 'Canada': 'CAN',\n",
              " 'Cape Verde – See Cabo Verde.': 'Cape Verde – See Cabo Verde.',\n",
              " 'Caribbean Netherlands – See Bonaire, Sint Eustatius and Saba.': 'Caribbean Netherlands – See Bonaire, Sint Eustatius and Saba.',\n",
              " 'Cayman Islands (the)': 'CYM',\n",
              " 'Central African Rep.': 'CAF',\n",
              " 'Central African Republic (the)': 'CAF',\n",
              " 'Chad': 'TCD',\n",
              " 'Chile': 'CHL',\n",
              " 'China': 'CHN',\n",
              " 'China, The Republic of – See Taiwan (Province of China).': 'China, The Republic of – See Taiwan (Province of China).',\n",
              " 'Christmas Island': 'CXR',\n",
              " 'Clipperton Island – See France.': 'Clipperton Island – See France.',\n",
              " 'Cocos (Keeling) Islands (the)': 'CCK',\n",
              " 'Colombia': 'COL',\n",
              " 'Comoros (the)': 'COM',\n",
              " 'Congo (the Democratic Republic of the)': 'COD',\n",
              " 'Congo (the)\\u200a[g]': 'COG',\n",
              " 'Congo, Dem. Rep.': 'COD',\n",
              " 'Congo, Repub. of the': 'COG',\n",
              " 'Cook Islands (the)': 'COK',\n",
              " 'Coral Sea Islands – See Australia.': 'Coral Sea Islands – See Australia.',\n",
              " 'Costa Rica': 'CRI',\n",
              " \"Cote d'Ivoire\": 'CIV',\n",
              " 'Croatia': 'HRV',\n",
              " 'Cuba': 'CUB',\n",
              " 'Curaçao': 'CUW',\n",
              " 'Cyprus': 'CYP',\n",
              " 'Czechia\\u200a[i]': 'CZE',\n",
              " \"Côte d'Ivoire\\u200a[h]\": 'CIV',\n",
              " \"Democratic People's Republic of Korea – See Korea, The Democratic People's Republic of.\": \"Democratic People's Republic of Korea – See Korea, The Democratic People's Republic of.\",\n",
              " 'Democratic Republic of the Congo – See Congo, The Democratic Republic of the.': 'Democratic Republic of the Congo – See Congo, The Democratic Republic of the.',\n",
              " 'Denmark': 'DNK',\n",
              " 'Djibouti': 'DJI',\n",
              " 'Dominica': 'DMA',\n",
              " 'Dominican Republic (the)': 'DOM',\n",
              " 'East Timor – See Timor-Leste.': 'East Timor – See Timor-Leste.',\n",
              " 'Ecuador': 'ECU',\n",
              " 'Egypt': 'EGY',\n",
              " 'El Salvador': 'SLV',\n",
              " 'England – See United Kingdom, The.': 'England – See United Kingdom, The.',\n",
              " 'Equatorial Guinea': 'GNQ',\n",
              " 'Eritrea': 'ERI',\n",
              " 'Estonia': 'EST',\n",
              " 'Eswatini\\u200a[j]': 'SWZ',\n",
              " 'Ethiopia': 'ETH',\n",
              " 'Falkland Islands (the) [Malvinas]\\u200a[k]': 'FLK',\n",
              " 'Faroe Islands (the)': 'FRO',\n",
              " 'Fiji': 'FJI',\n",
              " 'Finland': 'FIN',\n",
              " 'France': 'FRA',\n",
              " 'France\\u200a[l]': 'FRA',\n",
              " 'French Guiana': 'GUF',\n",
              " 'French Polynesia': 'PYF',\n",
              " 'French Southern Territories (the)\\u200a[m]': 'ATF',\n",
              " 'Gabon': 'GAB',\n",
              " 'Gambia (the)': 'GMB',\n",
              " 'Georgia': 'GEO',\n",
              " 'Germany': 'DEU',\n",
              " 'Ghana': 'GHA',\n",
              " 'Gibraltar': 'GIB',\n",
              " 'Great Britain – See United Kingdom, The.': 'Great Britain – See United Kingdom, The.',\n",
              " 'Greece': 'GRC',\n",
              " 'Greenland': 'GRL',\n",
              " 'Grenada': 'GRD',\n",
              " 'Guadeloupe': 'GLP',\n",
              " 'Guam': 'GUM',\n",
              " 'Guatemala': 'GTM',\n",
              " 'Guernsey': 'GGY',\n",
              " 'Guinea': 'GIN',\n",
              " 'Guinea-Bissau': 'GNB',\n",
              " 'Guyana': 'GUY',\n",
              " 'Haiti': 'HTI',\n",
              " 'Hawaiian Islands – See United States of America, The.': 'Hawaiian Islands – See United States of America, The.',\n",
              " 'Heard Island and McDonald Islands': 'HMD',\n",
              " 'Holy See (the)\\u200a[n]': 'VAT',\n",
              " 'Honduras': 'HND',\n",
              " 'Hong Kong': 'HKG',\n",
              " 'Hungary': 'HUN',\n",
              " 'Iceland': 'ISL',\n",
              " 'India': 'IND',\n",
              " 'Indonesia': 'IDN',\n",
              " 'Iran': 'IRN',\n",
              " 'Iran (Islamic Republic of)': 'IRN',\n",
              " 'Iraq': 'IRQ',\n",
              " 'Ireland': 'IRL',\n",
              " 'Isle of Man': 'IMN',\n",
              " 'Israel': 'ISR',\n",
              " 'Italy': 'ITA',\n",
              " \"Ivory Coast – See Côte d'Ivoire.\": \"Ivory Coast – See Côte d'Ivoire.\",\n",
              " 'Jamaica': 'JAM',\n",
              " 'Jan Mayen – See Svalbard and Jan Mayen.': 'Jan Mayen – See Svalbard and Jan Mayen.',\n",
              " 'Japan': 'JPN',\n",
              " 'Jersey': 'JEY',\n",
              " 'Jordan': 'JOR',\n",
              " 'Kazakhstan': 'KAZ',\n",
              " 'Kenya': 'KEN',\n",
              " 'Kiribati': 'KIR',\n",
              " \"Korea (the Democratic People's Republic of)\\u200a[o]\": 'PRK',\n",
              " 'Korea (the Republic of)\\u200a[p]': 'KOR',\n",
              " 'Korea, North': 'PRK',\n",
              " 'Korea, South': 'KOR',\n",
              " 'Kuwait': 'KWT',\n",
              " 'Kyrgyzstan': 'KGZ',\n",
              " \"Lao People's Democratic Republic (the)\\u200a[q]\": 'LAO',\n",
              " 'Laos': 'LAO',\n",
              " 'Latvia': 'LVA',\n",
              " 'Lebanon': 'LBN',\n",
              " 'Lesotho': 'LSO',\n",
              " 'Liberia': 'LBR',\n",
              " 'Libya': 'LBY',\n",
              " 'Liechtenstein': 'LIE',\n",
              " 'Lithuania': 'LTU',\n",
              " 'Luxembourg': 'LUX',\n",
              " 'Macao\\u200a[r]': 'MAC',\n",
              " 'Madagascar': 'MDG',\n",
              " 'Malawi': 'MWI',\n",
              " 'Malaysia': 'MYS',\n",
              " 'Maldives': 'MDV',\n",
              " 'Mali': 'MLI',\n",
              " 'Malta': 'MLT',\n",
              " 'Marshall Islands (the)': 'MHL',\n",
              " 'Martinique': 'MTQ',\n",
              " 'Mauritania': 'MRT',\n",
              " 'Mauritius': 'MUS',\n",
              " 'Mayotte': 'MYT',\n",
              " 'Mexico': 'MEX',\n",
              " 'Micronesia (Federated States of)': 'FSM',\n",
              " 'Moldova (the Republic of)': 'MDA',\n",
              " 'Monaco': 'MCO',\n",
              " 'Mongolia': 'MNG',\n",
              " 'Montenegro': 'MNE',\n",
              " 'Montserrat': 'MSR',\n",
              " 'Morocco': 'MAR',\n",
              " 'Mozambique': 'MOZ',\n",
              " 'Myanmar': 'MMR',\n",
              " 'Myanmar\\u200a[t]': 'MMR',\n",
              " 'Namibia': 'NAM',\n",
              " 'Nauru': 'NRU',\n",
              " 'Nepal': 'NPL',\n",
              " 'Netherlands (the)': 'NLD',\n",
              " 'New Caledonia': 'NCL',\n",
              " 'New Zealand': 'NZL',\n",
              " 'Nicaragua': 'NIC',\n",
              " 'Niger': 'NER',\n",
              " 'Niger (the)': 'NER',\n",
              " 'Nigeria': 'NGA',\n",
              " 'Niue': 'NIU',\n",
              " 'Norfolk Island': 'NFK',\n",
              " \"North Korea – See Korea, The Democratic People's Republic of.\": \"North Korea – See Korea, The Democratic People's Republic of.\",\n",
              " 'North Macedonia\\u200a[s]': 'MKD',\n",
              " 'Northern Ireland – See United Kingdom, The.': 'Northern Ireland – See United Kingdom, The.',\n",
              " 'Northern Mariana Islands (the)': 'MNP',\n",
              " 'Norway': 'NOR',\n",
              " 'Oman': 'OMN',\n",
              " 'Pakistan': 'PAK',\n",
              " 'Palau': 'PLW',\n",
              " 'Palestine, State of': 'PSE',\n",
              " 'Panama': 'PAN',\n",
              " 'Papua New Guinea': 'PNG',\n",
              " 'Paraguay': 'PRY',\n",
              " \"People's Republic of China – See China.\": \"People's Republic of China – See China.\",\n",
              " 'Peru': 'PER',\n",
              " 'Philippines (the)': 'PHL',\n",
              " 'Pitcairn\\u200a[u]': 'PCN',\n",
              " 'Poland': 'POL',\n",
              " 'Portugal': 'PRT',\n",
              " 'Puerto Rico': 'PRI',\n",
              " 'Qatar': 'QAT',\n",
              " 'Republic of China – See Taiwan (Province of China).': 'Republic of China – See Taiwan (Province of China).',\n",
              " 'Republic of Korea – See Korea, The Republic of.': 'Republic of Korea – See Korea, The Republic of.',\n",
              " 'Republic of the Congo – See Congo, The.': 'Republic of the Congo – See Congo, The.',\n",
              " 'Romania': 'ROU',\n",
              " 'Russia': 'RUS',\n",
              " 'Russian Federation (the)\\u200a[v]': 'RUS',\n",
              " 'Rwanda': 'RWA',\n",
              " 'Réunion': 'REU',\n",
              " 'Saba – See Bonaire, Sint Eustatius and Saba.': 'Saba – See Bonaire, Sint Eustatius and Saba.',\n",
              " 'Sahrawi Arab Democratic Republic – See Western Sahara.': 'Sahrawi Arab Democratic Republic – See Western Sahara.',\n",
              " 'Saint Barthélemy': 'BLM',\n",
              " 'Saint Helena\\xa0Ascension Island\\xa0Tristan da Cunha': 'SHN',\n",
              " 'Saint Kitts and Nevis': 'KNA',\n",
              " 'Saint Lucia': 'LCA',\n",
              " 'Saint Martin (French part)': 'MAF',\n",
              " 'Saint Pierre and Miquelon': 'SPM',\n",
              " 'Saint Vincent and the Grenadines': 'VCT',\n",
              " 'Samoa': 'WSM',\n",
              " 'San Marino': 'SMR',\n",
              " 'Sao Tome and Principe': 'STP',\n",
              " 'Saudi Arabia': 'SAU',\n",
              " 'Scotland – See United Kingdom, The.': 'Scotland – See United Kingdom, The.',\n",
              " 'Senegal': 'SEN',\n",
              " 'Serbia': 'SRB',\n",
              " 'Seychelles': 'SYC',\n",
              " 'Sierra Leone': 'SLE',\n",
              " 'Singapore': 'SGP',\n",
              " 'Sint Eustatius – See Bonaire, Sint Eustatius and Saba.': 'Sint Eustatius – See Bonaire, Sint Eustatius and Saba.',\n",
              " 'Sint Maarten (Dutch part)': 'SXM',\n",
              " 'Slovakia': 'SVK',\n",
              " 'Slovenia': 'SVN',\n",
              " 'Solomon Islands': 'SLB',\n",
              " 'Somalia': 'SOM',\n",
              " 'South Africa': 'ZAF',\n",
              " 'South Georgia and the South Sandwich Islands': 'SGS',\n",
              " 'South Korea – See Korea, The Republic of.': 'South Korea – See Korea, The Republic of.',\n",
              " 'South Sudan': 'SSD',\n",
              " 'Spain': 'ESP',\n",
              " 'Sri Lanka': 'LKA',\n",
              " 'Sudan': 'SDN',\n",
              " 'Sudan (the)': 'SDN',\n",
              " 'Suriname': 'SUR',\n",
              " 'Svalbard\\xa0Jan Mayen': 'SJM',\n",
              " 'Sweden': 'SWE',\n",
              " 'Switzerland': 'CHE',\n",
              " 'Syrian Arab Republic (the)\\u200a[x]': 'SYR',\n",
              " 'Taiwan (Province of China)\\u200a[y]': 'TWN',\n",
              " 'Tajikistan': 'TJK',\n",
              " 'Tanzania': 'TZA',\n",
              " 'Tanzania, the United Republic of': 'TZA',\n",
              " 'Thailand': 'THA',\n",
              " 'Timor-Leste\\u200a[aa]': 'TLS',\n",
              " 'Togo': 'TGO',\n",
              " 'Tokelau': 'TKL',\n",
              " 'Tonga': 'TON',\n",
              " 'Trinidad and Tobago': 'TTO',\n",
              " 'Tunisia': 'TUN',\n",
              " 'Turkey': 'TUR',\n",
              " 'Turkmenistan': 'TKM',\n",
              " 'Turks and Caicos Islands (the)': 'TCA',\n",
              " 'Tuvalu': 'TUV',\n",
              " 'Uganda': 'UGA',\n",
              " 'Ukraine': 'UKR',\n",
              " 'United Arab Emirates (the)': 'ARE',\n",
              " 'United Kingdom': 'GBR',\n",
              " 'United Kingdom of Great Britain and Northern Ireland (the)': 'GBR',\n",
              " 'United States': 'USA',\n",
              " 'United States Minor Outlying Islands (the)\\u200a[ac]': 'UMI',\n",
              " 'United States Virgin Islands – See Virgin Islands (U.S.).': 'United States Virgin Islands – See Virgin Islands (U.S.).',\n",
              " 'United States of America (the)': 'USA',\n",
              " 'Uruguay': 'URY',\n",
              " 'Uzbekistan': 'UZB',\n",
              " 'Vanuatu': 'VUT',\n",
              " 'Vatican City – See Holy See, The.': 'Vatican City – See Holy See, The.',\n",
              " 'Venezuela': 'VEN',\n",
              " 'Venezuela (Bolivarian Republic of)': 'VEN',\n",
              " 'Viet Nam\\u200a[ae]': 'VNM',\n",
              " 'Vietnam': 'VNM',\n",
              " 'Virgin Islands (British)\\u200a[af]': 'VGB',\n",
              " 'Virgin Islands (U.S.)\\u200a[ag]': 'VIR',\n",
              " 'Wales – See United Kingdom, The.': 'Wales – See United Kingdom, The.',\n",
              " 'Wallis and Futuna': 'WLF',\n",
              " 'Western Sahara\\u200a[ah]': 'ESH',\n",
              " 'Yemen': 'YEM',\n",
              " 'Zambia': 'ZMB',\n",
              " 'Zimbabwe': 'ZWE',\n",
              " 'Åland Islands': 'ALA'}"
            ]
          },
          "metadata": {
            "tags": []
          },
          "execution_count": 45
        }
      ]
    },
    {
      "cell_type": "code",
      "metadata": {
        "id": "OJ5LwhyNZfml"
      },
      "source": [
        "df['ISO Code'] = df['Country'].map(iso_map)"
      ],
      "execution_count": 48,
      "outputs": []
    },
    {
      "cell_type": "code",
      "metadata": {
        "colab": {
          "base_uri": "https://localhost:8080/",
          "height": 694
        },
        "id": "qpYqQO-mZfua",
        "outputId": "527f7864-a68b-4010-e9e2-dbd2485d9f09"
      },
      "source": [
        "df"
      ],
      "execution_count": 49,
      "outputs": [
        {
          "output_type": "execute_result",
          "data": {
            "text/html": [
              "<div>\n",
              "<style scoped>\n",
              "    .dataframe tbody tr th:only-of-type {\n",
              "        vertical-align: middle;\n",
              "    }\n",
              "\n",
              "    .dataframe tbody tr th {\n",
              "        vertical-align: top;\n",
              "    }\n",
              "\n",
              "    .dataframe thead th {\n",
              "        text-align: right;\n",
              "    }\n",
              "</style>\n",
              "<table border=\"1\" class=\"dataframe\">\n",
              "  <thead>\n",
              "    <tr style=\"text-align: right;\">\n",
              "      <th></th>\n",
              "      <th>Country</th>\n",
              "      <th>Region</th>\n",
              "      <th>Population</th>\n",
              "      <th>Area (sq. mi.)</th>\n",
              "      <th>Pop. Density (per sq. mi.)</th>\n",
              "      <th>Coastline (coast/area ratio)</th>\n",
              "      <th>Net migration</th>\n",
              "      <th>Infant mortality (per 1000 births)</th>\n",
              "      <th>GDP ($ per capita)</th>\n",
              "      <th>Literacy (%)</th>\n",
              "      <th>Phones (per 1000)</th>\n",
              "      <th>Arable (%)</th>\n",
              "      <th>Crops (%)</th>\n",
              "      <th>Other (%)</th>\n",
              "      <th>Climate</th>\n",
              "      <th>Birthrate</th>\n",
              "      <th>Deathrate</th>\n",
              "      <th>Agriculture</th>\n",
              "      <th>Industry</th>\n",
              "      <th>Service</th>\n",
              "      <th>ISO Code</th>\n",
              "    </tr>\n",
              "  </thead>\n",
              "  <tbody>\n",
              "    <tr>\n",
              "      <th>0</th>\n",
              "      <td>Afghanistan</td>\n",
              "      <td>ASIA (EX. NEAR EAST)</td>\n",
              "      <td>31056997</td>\n",
              "      <td>647500</td>\n",
              "      <td>48.0</td>\n",
              "      <td>0.00</td>\n",
              "      <td>23.06</td>\n",
              "      <td>163.07</td>\n",
              "      <td>700.0</td>\n",
              "      <td>36.000000</td>\n",
              "      <td>3.2</td>\n",
              "      <td>12.13</td>\n",
              "      <td>0.22</td>\n",
              "      <td>87.65</td>\n",
              "      <td>1.0</td>\n",
              "      <td>46.60</td>\n",
              "      <td>20.34</td>\n",
              "      <td>0.380</td>\n",
              "      <td>0.240</td>\n",
              "      <td>0.380</td>\n",
              "      <td>AFG</td>\n",
              "    </tr>\n",
              "    <tr>\n",
              "      <th>1</th>\n",
              "      <td>Albania</td>\n",
              "      <td>EASTERN EUROPE</td>\n",
              "      <td>3581655</td>\n",
              "      <td>28748</td>\n",
              "      <td>124.6</td>\n",
              "      <td>1.26</td>\n",
              "      <td>-4.93</td>\n",
              "      <td>21.52</td>\n",
              "      <td>4500.0</td>\n",
              "      <td>86.500000</td>\n",
              "      <td>71.2</td>\n",
              "      <td>21.09</td>\n",
              "      <td>4.42</td>\n",
              "      <td>74.49</td>\n",
              "      <td>3.0</td>\n",
              "      <td>15.11</td>\n",
              "      <td>5.22</td>\n",
              "      <td>0.232</td>\n",
              "      <td>0.188</td>\n",
              "      <td>0.579</td>\n",
              "      <td>ALB</td>\n",
              "    </tr>\n",
              "    <tr>\n",
              "      <th>2</th>\n",
              "      <td>Algeria</td>\n",
              "      <td>NORTHERN AFRICA</td>\n",
              "      <td>32930091</td>\n",
              "      <td>2381740</td>\n",
              "      <td>13.8</td>\n",
              "      <td>0.04</td>\n",
              "      <td>-0.39</td>\n",
              "      <td>31.00</td>\n",
              "      <td>6000.0</td>\n",
              "      <td>70.000000</td>\n",
              "      <td>78.1</td>\n",
              "      <td>3.22</td>\n",
              "      <td>0.25</td>\n",
              "      <td>96.53</td>\n",
              "      <td>1.0</td>\n",
              "      <td>17.14</td>\n",
              "      <td>4.61</td>\n",
              "      <td>0.101</td>\n",
              "      <td>0.600</td>\n",
              "      <td>0.298</td>\n",
              "      <td>DZA</td>\n",
              "    </tr>\n",
              "    <tr>\n",
              "      <th>3</th>\n",
              "      <td>American Samoa</td>\n",
              "      <td>OCEANIA</td>\n",
              "      <td>57794</td>\n",
              "      <td>199</td>\n",
              "      <td>290.4</td>\n",
              "      <td>58.29</td>\n",
              "      <td>-20.71</td>\n",
              "      <td>9.27</td>\n",
              "      <td>8000.0</td>\n",
              "      <td>97.000000</td>\n",
              "      <td>259.5</td>\n",
              "      <td>10.00</td>\n",
              "      <td>15.00</td>\n",
              "      <td>75.00</td>\n",
              "      <td>2.0</td>\n",
              "      <td>22.46</td>\n",
              "      <td>3.27</td>\n",
              "      <td>0.000</td>\n",
              "      <td>0.000</td>\n",
              "      <td>0.000</td>\n",
              "      <td>ASM</td>\n",
              "    </tr>\n",
              "    <tr>\n",
              "      <th>4</th>\n",
              "      <td>Andorra</td>\n",
              "      <td>WESTERN EUROPE</td>\n",
              "      <td>71201</td>\n",
              "      <td>468</td>\n",
              "      <td>152.1</td>\n",
              "      <td>0.00</td>\n",
              "      <td>6.60</td>\n",
              "      <td>4.05</td>\n",
              "      <td>19000.0</td>\n",
              "      <td>100.000000</td>\n",
              "      <td>497.2</td>\n",
              "      <td>2.22</td>\n",
              "      <td>0.00</td>\n",
              "      <td>97.78</td>\n",
              "      <td>3.0</td>\n",
              "      <td>8.71</td>\n",
              "      <td>6.25</td>\n",
              "      <td>0.000</td>\n",
              "      <td>0.000</td>\n",
              "      <td>0.000</td>\n",
              "      <td>AND</td>\n",
              "    </tr>\n",
              "    <tr>\n",
              "      <th>...</th>\n",
              "      <td>...</td>\n",
              "      <td>...</td>\n",
              "      <td>...</td>\n",
              "      <td>...</td>\n",
              "      <td>...</td>\n",
              "      <td>...</td>\n",
              "      <td>...</td>\n",
              "      <td>...</td>\n",
              "      <td>...</td>\n",
              "      <td>...</td>\n",
              "      <td>...</td>\n",
              "      <td>...</td>\n",
              "      <td>...</td>\n",
              "      <td>...</td>\n",
              "      <td>...</td>\n",
              "      <td>...</td>\n",
              "      <td>...</td>\n",
              "      <td>...</td>\n",
              "      <td>...</td>\n",
              "      <td>...</td>\n",
              "      <td>...</td>\n",
              "    </tr>\n",
              "    <tr>\n",
              "      <th>222</th>\n",
              "      <td>West Bank</td>\n",
              "      <td>NEAR EAST</td>\n",
              "      <td>2460492</td>\n",
              "      <td>5860</td>\n",
              "      <td>419.9</td>\n",
              "      <td>0.00</td>\n",
              "      <td>2.98</td>\n",
              "      <td>19.62</td>\n",
              "      <td>800.0</td>\n",
              "      <td>1.666667</td>\n",
              "      <td>145.2</td>\n",
              "      <td>16.90</td>\n",
              "      <td>18.97</td>\n",
              "      <td>64.13</td>\n",
              "      <td>3.0</td>\n",
              "      <td>31.67</td>\n",
              "      <td>3.92</td>\n",
              "      <td>0.090</td>\n",
              "      <td>0.280</td>\n",
              "      <td>0.630</td>\n",
              "      <td>NaN</td>\n",
              "    </tr>\n",
              "    <tr>\n",
              "      <th>223</th>\n",
              "      <td>Western Sahara</td>\n",
              "      <td>NORTHERN AFRICA</td>\n",
              "      <td>273008</td>\n",
              "      <td>266000</td>\n",
              "      <td>1.0</td>\n",
              "      <td>0.42</td>\n",
              "      <td>0.00</td>\n",
              "      <td>0.00</td>\n",
              "      <td>0.0</td>\n",
              "      <td>0.000000</td>\n",
              "      <td>0.0</td>\n",
              "      <td>0.02</td>\n",
              "      <td>0.00</td>\n",
              "      <td>99.98</td>\n",
              "      <td>1.0</td>\n",
              "      <td>0.00</td>\n",
              "      <td>0.00</td>\n",
              "      <td>0.000</td>\n",
              "      <td>0.000</td>\n",
              "      <td>0.400</td>\n",
              "      <td>NaN</td>\n",
              "    </tr>\n",
              "    <tr>\n",
              "      <th>224</th>\n",
              "      <td>Yemen</td>\n",
              "      <td>NEAR EAST</td>\n",
              "      <td>21456188</td>\n",
              "      <td>527970</td>\n",
              "      <td>40.6</td>\n",
              "      <td>0.36</td>\n",
              "      <td>0.00</td>\n",
              "      <td>61.50</td>\n",
              "      <td>800.0</td>\n",
              "      <td>50.200000</td>\n",
              "      <td>37.2</td>\n",
              "      <td>2.78</td>\n",
              "      <td>0.24</td>\n",
              "      <td>96.98</td>\n",
              "      <td>1.0</td>\n",
              "      <td>42.89</td>\n",
              "      <td>8.30</td>\n",
              "      <td>0.135</td>\n",
              "      <td>0.472</td>\n",
              "      <td>0.393</td>\n",
              "      <td>YEM</td>\n",
              "    </tr>\n",
              "    <tr>\n",
              "      <th>225</th>\n",
              "      <td>Zambia</td>\n",
              "      <td>SUB-SAHARAN AFRICA</td>\n",
              "      <td>11502010</td>\n",
              "      <td>752614</td>\n",
              "      <td>15.3</td>\n",
              "      <td>0.00</td>\n",
              "      <td>0.00</td>\n",
              "      <td>88.29</td>\n",
              "      <td>800.0</td>\n",
              "      <td>80.600000</td>\n",
              "      <td>8.2</td>\n",
              "      <td>7.08</td>\n",
              "      <td>0.03</td>\n",
              "      <td>92.90</td>\n",
              "      <td>2.0</td>\n",
              "      <td>41.00</td>\n",
              "      <td>19.93</td>\n",
              "      <td>0.220</td>\n",
              "      <td>0.290</td>\n",
              "      <td>0.489</td>\n",
              "      <td>ZMB</td>\n",
              "    </tr>\n",
              "    <tr>\n",
              "      <th>226</th>\n",
              "      <td>Zimbabwe</td>\n",
              "      <td>SUB-SAHARAN AFRICA</td>\n",
              "      <td>12236805</td>\n",
              "      <td>390580</td>\n",
              "      <td>31.3</td>\n",
              "      <td>0.00</td>\n",
              "      <td>0.00</td>\n",
              "      <td>67.69</td>\n",
              "      <td>1900.0</td>\n",
              "      <td>90.700000</td>\n",
              "      <td>26.8</td>\n",
              "      <td>8.32</td>\n",
              "      <td>0.34</td>\n",
              "      <td>91.34</td>\n",
              "      <td>2.0</td>\n",
              "      <td>28.01</td>\n",
              "      <td>21.84</td>\n",
              "      <td>0.179</td>\n",
              "      <td>0.243</td>\n",
              "      <td>0.579</td>\n",
              "      <td>ZWE</td>\n",
              "    </tr>\n",
              "  </tbody>\n",
              "</table>\n",
              "<p>221 rows × 21 columns</p>\n",
              "</div>"
            ],
            "text/plain": [
              "            Country                               Region  ...  Service  ISO Code\n",
              "0       Afghanistan        ASIA (EX. NEAR EAST)           ...    0.380       AFG\n",
              "1           Albania  EASTERN EUROPE                       ...    0.579       ALB\n",
              "2           Algeria  NORTHERN AFRICA                      ...    0.298       DZA\n",
              "3    American Samoa  OCEANIA                              ...    0.000       ASM\n",
              "4           Andorra  WESTERN EUROPE                       ...    0.000       AND\n",
              "..              ...                                  ...  ...      ...       ...\n",
              "222       West Bank  NEAR EAST                            ...    0.630       NaN\n",
              "223  Western Sahara  NORTHERN AFRICA                      ...    0.400       NaN\n",
              "224           Yemen  NEAR EAST                            ...    0.393       YEM\n",
              "225          Zambia  SUB-SAHARAN AFRICA                   ...    0.489       ZMB\n",
              "226        Zimbabwe  SUB-SAHARAN AFRICA                   ...    0.579       ZWE\n",
              "\n",
              "[221 rows x 21 columns]"
            ]
          },
          "metadata": {
            "tags": []
          },
          "execution_count": 49
        }
      ]
    },
    {
      "cell_type": "code",
      "metadata": {
        "id": "46kyf-SpaAUV"
      },
      "source": [
        "df['Cluster'] = model.labels_"
      ],
      "execution_count": 50,
      "outputs": []
    },
    {
      "cell_type": "code",
      "metadata": {
        "id": "ZndAQL_qZB5t"
      },
      "source": [
        ""
      ],
      "execution_count": null,
      "outputs": []
    },
    {
      "cell_type": "code",
      "metadata": {
        "colab": {
          "base_uri": "https://localhost:8080/",
          "height": 542
        },
        "id": "qm02jaStZ9Qr",
        "outputId": "ec3212b7-b899-4d44-a49c-175906b4c5a6"
      },
      "source": [
        "import plotly.express as px\n",
        "\n",
        "fig = px.choropleth(df, locations='ISO Code',\n",
        "                    color ='Cluster', hover_name = 'Country')\n",
        "fig.show()"
      ],
      "execution_count": 53,
      "outputs": [
        {
          "output_type": "display_data",
          "data": {
            "text/html": [
              "<html>\n",
              "<head><meta charset=\"utf-8\" /></head>\n",
              "<body>\n",
              "    <div>\n",
              "            <script src=\"https://cdnjs.cloudflare.com/ajax/libs/mathjax/2.7.5/MathJax.js?config=TeX-AMS-MML_SVG\"></script><script type=\"text/javascript\">if (window.MathJax) {MathJax.Hub.Config({SVG: {font: \"STIX-Web\"}});}</script>\n",
              "                <script type=\"text/javascript\">window.PlotlyConfig = {MathJaxConfig: 'local'};</script>\n",
              "        <script src=\"https://cdn.plot.ly/plotly-latest.min.js\"></script>    \n",
              "            <div id=\"3f27d31d-de57-49b5-b976-1c12963c73bb\" class=\"plotly-graph-div\" style=\"height:525px; width:100%;\"></div>\n",
              "            <script type=\"text/javascript\">\n",
              "                \n",
              "                    window.PLOTLYENV=window.PLOTLYENV || {};\n",
              "                    \n",
              "                if (document.getElementById(\"3f27d31d-de57-49b5-b976-1c12963c73bb\")) {\n",
              "                    Plotly.newPlot(\n",
              "                        '3f27d31d-de57-49b5-b976-1c12963c73bb',\n",
              "                        [{\"coloraxis\": \"coloraxis\", \"geo\": \"geo\", \"hoverlabel\": {\"namelength\": 0}, \"hovertemplate\": \"<b>%{hovertext}</b><br><br>ISO Code=%{location}<br>Cluster=%{z}\", \"hovertext\": [\"Afghanistan\", \"Albania\", \"Algeria\", \"American Samoa\", \"Andorra\", \"Angola\", \"Anguilla\", \"Antigua & Barbuda\", \"Argentina\", \"Armenia\", \"Aruba\", \"Australia\", \"Austria\", \"Azerbaijan\", \"Bahamas, The\", \"Bahrain\", \"Bangladesh\", \"Barbados\", \"Belarus\", \"Belgium\", \"Belize\", \"Benin\", \"Bermuda\", \"Bhutan\", \"Bolivia\", \"Bosnia & Herzegovina\", \"Botswana\", \"Brazil\", \"British Virgin Is.\", \"Brunei\", \"Bulgaria\", \"Burkina Faso\", \"Burma\", \"Burundi\", \"Cambodia\", \"Cameroon\", \"Canada\", \"Cape Verde\", \"Cayman Islands\", \"Central African Rep.\", \"Chad\", \"Chile\", \"China\", \"Colombia\", \"Comoros\", \"Congo, Dem. Rep.\", \"Congo, Repub. of the\", \"Costa Rica\", \"Cote d'Ivoire\", \"Croatia\", \"Cuba\", \"Czech Republic\", \"Denmark\", \"Djibouti\", \"Dominica\", \"Dominican Republic\", \"Ecuador\", \"Egypt\", \"El Salvador\", \"Equatorial Guinea\", \"Eritrea\", \"Estonia\", \"Ethiopia\", \"Faroe Islands\", \"Fiji\", \"Finland\", \"France\", \"French Guiana\", \"French Polynesia\", \"Gabon\", \"Gambia, The\", \"Gaza Strip\", \"Georgia\", \"Germany\", \"Ghana\", \"Gibraltar\", \"Greece\", \"Greenland\", \"Grenada\", \"Guadeloupe\", \"Guam\", \"Guatemala\", \"Guinea\", \"Guinea-Bissau\", \"Guyana\", \"Haiti\", \"Honduras\", \"Hong Kong\", \"Hungary\", \"Iceland\", \"India\", \"Indonesia\", \"Iran\", \"Iraq\", \"Ireland\", \"Isle of Man\", \"Israel\", \"Italy\", \"Jamaica\", \"Japan\", \"Jersey\", \"Jordan\", \"Kazakhstan\", \"Kenya\", \"Kiribati\", \"Korea, North\", \"Korea, South\", \"Kuwait\", \"Kyrgyzstan\", \"Laos\", \"Latvia\", \"Lebanon\", \"Lesotho\", \"Liberia\", \"Libya\", \"Liechtenstein\", \"Lithuania\", \"Luxembourg\", \"Macau\", \"Macedonia\", \"Madagascar\", \"Malawi\", \"Malaysia\", \"Maldives\", \"Mali\", \"Malta\", \"Marshall Islands\", \"Martinique\", \"Mauritania\", \"Mauritius\", \"Mayotte\", \"Mexico\", \"Micronesia, Fed. St.\", \"Moldova\", \"Mongolia\", \"Montserrat\", \"Morocco\", \"Mozambique\", \"Namibia\", \"Nauru\", \"Nepal\", \"Netherlands\", \"Netherlands Antilles\", \"New Caledonia\", \"New Zealand\", \"Nicaragua\", \"Niger\", \"Nigeria\", \"N. Mariana Islands\", \"Norway\", \"Oman\", \"Pakistan\", \"Palau\", \"Panama\", \"Papua New Guinea\", \"Paraguay\", \"Peru\", \"Philippines\", \"Poland\", \"Portugal\", \"Puerto Rico\", \"Qatar\", \"Reunion\", \"Romania\", \"Russia\", \"Rwanda\", \"Saint Helena\", \"Saint Kitts & Nevis\", \"Saint Lucia\", \"St Pierre & Miquelon\", \"Saint Vincent and the Grenadines\", \"Samoa\", \"San Marino\", \"Sao Tome & Principe\", \"Saudi Arabia\", \"Senegal\", \"Seychelles\", \"Sierra Leone\", \"Singapore\", \"Slovakia\", \"Slovenia\", \"Solomon Islands\", \"Somalia\", \"South Africa\", \"Spain\", \"Sri Lanka\", \"Sudan\", \"Suriname\", \"Swaziland\", \"Sweden\", \"Switzerland\", \"Syria\", \"Taiwan\", \"Tajikistan\", \"Tanzania\", \"Thailand\", \"Togo\", \"Tonga\", \"Trinidad & Tobago\", \"Tunisia\", \"Turkey\", \"Turkmenistan\", \"Turks & Caicos Is\", \"Tuvalu\", \"Uganda\", \"Ukraine\", \"United Arab Emirates\", \"United Kingdom\", \"United States\", \"Uruguay\", \"Uzbekistan\", \"Vanuatu\", \"Venezuela\", \"Vietnam\", \"Virgin Islands\", \"Wallis and Futuna\", \"West Bank\", \"Western Sahara\", \"Yemen\", \"Zambia\", \"Zimbabwe\"], \"locations\": [\"AFG\", \"ALB\", \"DZA\", \"ASM\", \"AND\", \"AGO\", \"AIA\", null, \"ARG\", \"ARM\", \"ABW\", \"AUS\", \"AUT\", \"AZE\", null, \"BHR\", \"BGD\", \"BRB\", \"BLR\", \"BEL\", \"BLZ\", \"BEN\", \"BMU\", \"BTN\", \"BOL\", null, \"BWA\", \"BRA\", null, null, \"BGR\", \"BFA\", \"MMR\", \"BDI\", \"KHM\", \"CMR\", \"CAN\", null, null, \"CAF\", \"TCD\", \"CHL\", \"CHN\", \"COL\", null, \"COD\", \"COG\", \"CRI\", \"CIV\", \"HRV\", \"CUB\", null, \"DNK\", \"DJI\", \"DMA\", null, \"ECU\", \"EGY\", \"SLV\", \"GNQ\", \"ERI\", \"EST\", \"ETH\", null, \"FJI\", \"FIN\", \"FRA\", \"GUF\", \"PYF\", \"GAB\", null, null, \"GEO\", \"DEU\", \"GHA\", \"GIB\", \"GRC\", \"GRL\", \"GRD\", \"GLP\", \"GUM\", \"GTM\", \"GIN\", \"GNB\", \"GUY\", \"HTI\", \"HND\", \"HKG\", \"HUN\", \"ISL\", \"IND\", \"IDN\", \"IRN\", \"IRQ\", \"IRL\", \"IMN\", \"ISR\", \"ITA\", \"JAM\", \"JPN\", \"JEY\", \"JOR\", \"KAZ\", \"KEN\", \"KIR\", \"PRK\", \"KOR\", \"KWT\", \"KGZ\", \"LAO\", \"LVA\", \"LBN\", \"LSO\", \"LBR\", \"LBY\", \"LIE\", \"LTU\", \"LUX\", null, null, \"MDG\", \"MWI\", \"MYS\", \"MDV\", \"MLI\", \"MLT\", null, \"MTQ\", \"MRT\", \"MUS\", \"MYT\", \"MEX\", null, null, \"MNG\", \"MSR\", \"MAR\", \"MOZ\", \"NAM\", \"NRU\", \"NPL\", null, null, \"NCL\", \"NZL\", \"NIC\", \"NER\", \"NGA\", null, \"NOR\", \"OMN\", \"PAK\", \"PLW\", \"PAN\", \"PNG\", \"PRY\", \"PER\", null, \"POL\", \"PRT\", \"PRI\", \"QAT\", null, \"ROU\", \"RUS\", \"RWA\", null, null, \"LCA\", null, \"VCT\", \"WSM\", \"SMR\", null, \"SAU\", \"SEN\", \"SYC\", \"SLE\", \"SGP\", \"SVK\", \"SVN\", \"SLB\", \"SOM\", \"ZAF\", \"ESP\", \"LKA\", \"SDN\", \"SUR\", null, \"SWE\", \"CHE\", null, null, \"TJK\", \"TZA\", \"THA\", \"TGO\", \"TON\", null, \"TUN\", \"TUR\", \"TKM\", null, \"TUV\", \"UGA\", \"UKR\", null, \"GBR\", \"USA\", \"URY\", \"UZB\", \"VUT\", \"VEN\", \"VNM\", null, \"WLF\", null, null, \"YEM\", \"ZMB\", \"ZWE\"], \"name\": \"\", \"type\": \"choropleth\", \"z\": [2, 0, 0, 0, 1, 2, 0, 0, 0, 0, 0, 0, 1, 0, 0, 0, 0, 0, 0, 1, 0, 2, 1, 2, 0, 0, 2, 0, 0, 0, 0, 2, 2, 2, 2, 2, 1, 0, 1, 2, 2, 0, 0, 0, 2, 2, 2, 0, 2, 0, 0, 0, 1, 2, 0, 0, 0, 0, 0, 2, 2, 0, 2, 1, 0, 1, 1, 0, 0, 2, 2, 0, 0, 1, 2, 1, 1, 0, 0, 0, 0, 0, 2, 2, 0, 2, 0, 1, 0, 1, 0, 0, 0, 0, 1, 1, 0, 1, 0, 1, 1, 0, 0, 2, 0, 0, 0, 0, 0, 2, 0, 0, 2, 2, 0, 1, 0, 1, 1, 0, 2, 2, 0, 0, 2, 1, 0, 0, 2, 0, 2, 0, 0, 0, 0, 0, 0, 2, 2, 0, 2, 1, 0, 0, 0, 0, 2, 2, 0, 1, 0, 2, 0, 0, 0, 0, 0, 0, 0, 1, 0, 0, 0, 0, 0, 2, 0, 0, 0, 0, 0, 0, 1, 2, 0, 2, 0, 2, 1, 0, 0, 0, 2, 2, 1, 0, 2, 0, 2, 1, 1, 0, 1, 2, 2, 0, 2, 0, 0, 0, 0, 0, 0, 0, 2, 0, 0, 1, 1, 0, 0, 0, 0, 0, 0, 0, 0, 0, 2, 2, 2]}],\n",
              "                        {\"coloraxis\": {\"colorbar\": {\"title\": {\"text\": \"Cluster\"}}, \"colorscale\": [[0.0, \"#0d0887\"], [0.1111111111111111, \"#46039f\"], [0.2222222222222222, \"#7201a8\"], [0.3333333333333333, \"#9c179e\"], [0.4444444444444444, \"#bd3786\"], [0.5555555555555556, \"#d8576b\"], [0.6666666666666666, \"#ed7953\"], [0.7777777777777778, \"#fb9f3a\"], [0.8888888888888888, \"#fdca26\"], [1.0, \"#f0f921\"]]}, \"geo\": {\"center\": {}, \"domain\": {\"x\": [0.0, 1.0], \"y\": [0.0, 1.0]}}, \"legend\": {\"tracegroupgap\": 0}, \"margin\": {\"t\": 60}, \"template\": {\"data\": {\"bar\": [{\"error_x\": {\"color\": \"#2a3f5f\"}, \"error_y\": {\"color\": \"#2a3f5f\"}, \"marker\": {\"line\": {\"color\": \"#E5ECF6\", \"width\": 0.5}}, \"type\": \"bar\"}], \"barpolar\": [{\"marker\": {\"line\": {\"color\": \"#E5ECF6\", \"width\": 0.5}}, \"type\": \"barpolar\"}], \"carpet\": [{\"aaxis\": {\"endlinecolor\": \"#2a3f5f\", \"gridcolor\": \"white\", \"linecolor\": \"white\", \"minorgridcolor\": \"white\", \"startlinecolor\": \"#2a3f5f\"}, \"baxis\": {\"endlinecolor\": \"#2a3f5f\", \"gridcolor\": \"white\", \"linecolor\": \"white\", \"minorgridcolor\": \"white\", \"startlinecolor\": \"#2a3f5f\"}, \"type\": \"carpet\"}], \"choropleth\": [{\"colorbar\": {\"outlinewidth\": 0, \"ticks\": \"\"}, \"type\": \"choropleth\"}], \"contour\": [{\"colorbar\": {\"outlinewidth\": 0, \"ticks\": \"\"}, \"colorscale\": [[0.0, \"#0d0887\"], [0.1111111111111111, \"#46039f\"], [0.2222222222222222, \"#7201a8\"], [0.3333333333333333, \"#9c179e\"], [0.4444444444444444, \"#bd3786\"], [0.5555555555555556, \"#d8576b\"], [0.6666666666666666, \"#ed7953\"], [0.7777777777777778, \"#fb9f3a\"], [0.8888888888888888, \"#fdca26\"], [1.0, \"#f0f921\"]], \"type\": \"contour\"}], \"contourcarpet\": [{\"colorbar\": {\"outlinewidth\": 0, \"ticks\": \"\"}, \"type\": \"contourcarpet\"}], \"heatmap\": [{\"colorbar\": {\"outlinewidth\": 0, \"ticks\": \"\"}, \"colorscale\": [[0.0, \"#0d0887\"], [0.1111111111111111, \"#46039f\"], [0.2222222222222222, \"#7201a8\"], [0.3333333333333333, \"#9c179e\"], [0.4444444444444444, \"#bd3786\"], [0.5555555555555556, \"#d8576b\"], [0.6666666666666666, \"#ed7953\"], [0.7777777777777778, \"#fb9f3a\"], [0.8888888888888888, \"#fdca26\"], [1.0, \"#f0f921\"]], \"type\": \"heatmap\"}], \"heatmapgl\": [{\"colorbar\": {\"outlinewidth\": 0, \"ticks\": \"\"}, \"colorscale\": [[0.0, \"#0d0887\"], [0.1111111111111111, \"#46039f\"], [0.2222222222222222, \"#7201a8\"], [0.3333333333333333, \"#9c179e\"], [0.4444444444444444, \"#bd3786\"], [0.5555555555555556, \"#d8576b\"], [0.6666666666666666, \"#ed7953\"], [0.7777777777777778, \"#fb9f3a\"], [0.8888888888888888, \"#fdca26\"], [1.0, \"#f0f921\"]], \"type\": \"heatmapgl\"}], \"histogram\": [{\"marker\": {\"colorbar\": {\"outlinewidth\": 0, \"ticks\": \"\"}}, \"type\": \"histogram\"}], \"histogram2d\": [{\"colorbar\": {\"outlinewidth\": 0, \"ticks\": \"\"}, \"colorscale\": [[0.0, \"#0d0887\"], [0.1111111111111111, \"#46039f\"], [0.2222222222222222, \"#7201a8\"], [0.3333333333333333, \"#9c179e\"], [0.4444444444444444, \"#bd3786\"], [0.5555555555555556, \"#d8576b\"], [0.6666666666666666, \"#ed7953\"], [0.7777777777777778, \"#fb9f3a\"], [0.8888888888888888, \"#fdca26\"], [1.0, \"#f0f921\"]], \"type\": \"histogram2d\"}], \"histogram2dcontour\": [{\"colorbar\": {\"outlinewidth\": 0, \"ticks\": \"\"}, \"colorscale\": [[0.0, \"#0d0887\"], [0.1111111111111111, \"#46039f\"], [0.2222222222222222, \"#7201a8\"], [0.3333333333333333, \"#9c179e\"], [0.4444444444444444, \"#bd3786\"], [0.5555555555555556, \"#d8576b\"], [0.6666666666666666, \"#ed7953\"], [0.7777777777777778, \"#fb9f3a\"], [0.8888888888888888, \"#fdca26\"], [1.0, \"#f0f921\"]], \"type\": \"histogram2dcontour\"}], \"mesh3d\": [{\"colorbar\": {\"outlinewidth\": 0, \"ticks\": \"\"}, \"type\": \"mesh3d\"}], \"parcoords\": [{\"line\": {\"colorbar\": {\"outlinewidth\": 0, \"ticks\": \"\"}}, \"type\": \"parcoords\"}], \"pie\": [{\"automargin\": true, \"type\": \"pie\"}], \"scatter\": [{\"marker\": {\"colorbar\": {\"outlinewidth\": 0, \"ticks\": \"\"}}, \"type\": \"scatter\"}], \"scatter3d\": [{\"line\": {\"colorbar\": {\"outlinewidth\": 0, \"ticks\": \"\"}}, \"marker\": {\"colorbar\": {\"outlinewidth\": 0, \"ticks\": \"\"}}, \"type\": \"scatter3d\"}], \"scattercarpet\": [{\"marker\": {\"colorbar\": {\"outlinewidth\": 0, \"ticks\": \"\"}}, \"type\": \"scattercarpet\"}], \"scattergeo\": [{\"marker\": {\"colorbar\": {\"outlinewidth\": 0, \"ticks\": \"\"}}, \"type\": \"scattergeo\"}], \"scattergl\": [{\"marker\": {\"colorbar\": {\"outlinewidth\": 0, \"ticks\": \"\"}}, \"type\": \"scattergl\"}], \"scattermapbox\": [{\"marker\": {\"colorbar\": {\"outlinewidth\": 0, \"ticks\": \"\"}}, \"type\": \"scattermapbox\"}], \"scatterpolar\": [{\"marker\": {\"colorbar\": {\"outlinewidth\": 0, \"ticks\": \"\"}}, \"type\": \"scatterpolar\"}], \"scatterpolargl\": [{\"marker\": {\"colorbar\": {\"outlinewidth\": 0, \"ticks\": \"\"}}, \"type\": \"scatterpolargl\"}], \"scatterternary\": [{\"marker\": {\"colorbar\": {\"outlinewidth\": 0, \"ticks\": \"\"}}, \"type\": \"scatterternary\"}], \"surface\": [{\"colorbar\": {\"outlinewidth\": 0, \"ticks\": \"\"}, \"colorscale\": [[0.0, \"#0d0887\"], [0.1111111111111111, \"#46039f\"], [0.2222222222222222, \"#7201a8\"], [0.3333333333333333, \"#9c179e\"], [0.4444444444444444, \"#bd3786\"], [0.5555555555555556, \"#d8576b\"], [0.6666666666666666, \"#ed7953\"], [0.7777777777777778, \"#fb9f3a\"], [0.8888888888888888, \"#fdca26\"], [1.0, \"#f0f921\"]], \"type\": \"surface\"}], \"table\": [{\"cells\": {\"fill\": {\"color\": \"#EBF0F8\"}, \"line\": {\"color\": \"white\"}}, \"header\": {\"fill\": {\"color\": \"#C8D4E3\"}, \"line\": {\"color\": \"white\"}}, \"type\": \"table\"}]}, \"layout\": {\"annotationdefaults\": {\"arrowcolor\": \"#2a3f5f\", \"arrowhead\": 0, \"arrowwidth\": 1}, \"coloraxis\": {\"colorbar\": {\"outlinewidth\": 0, \"ticks\": \"\"}}, \"colorscale\": {\"diverging\": [[0, \"#8e0152\"], [0.1, \"#c51b7d\"], [0.2, \"#de77ae\"], [0.3, \"#f1b6da\"], [0.4, \"#fde0ef\"], [0.5, \"#f7f7f7\"], [0.6, \"#e6f5d0\"], [0.7, \"#b8e186\"], [0.8, \"#7fbc41\"], [0.9, \"#4d9221\"], [1, \"#276419\"]], \"sequential\": [[0.0, \"#0d0887\"], [0.1111111111111111, \"#46039f\"], [0.2222222222222222, \"#7201a8\"], [0.3333333333333333, \"#9c179e\"], [0.4444444444444444, \"#bd3786\"], [0.5555555555555556, \"#d8576b\"], [0.6666666666666666, \"#ed7953\"], [0.7777777777777778, \"#fb9f3a\"], [0.8888888888888888, \"#fdca26\"], [1.0, \"#f0f921\"]], \"sequentialminus\": [[0.0, \"#0d0887\"], [0.1111111111111111, \"#46039f\"], [0.2222222222222222, \"#7201a8\"], [0.3333333333333333, \"#9c179e\"], [0.4444444444444444, \"#bd3786\"], [0.5555555555555556, \"#d8576b\"], [0.6666666666666666, \"#ed7953\"], [0.7777777777777778, \"#fb9f3a\"], [0.8888888888888888, \"#fdca26\"], [1.0, \"#f0f921\"]]}, \"colorway\": [\"#636efa\", \"#EF553B\", \"#00cc96\", \"#ab63fa\", \"#FFA15A\", \"#19d3f3\", \"#FF6692\", \"#B6E880\", \"#FF97FF\", \"#FECB52\"], \"font\": {\"color\": \"#2a3f5f\"}, \"geo\": {\"bgcolor\": \"white\", \"lakecolor\": \"white\", \"landcolor\": \"#E5ECF6\", \"showlakes\": true, \"showland\": true, \"subunitcolor\": \"white\"}, \"hoverlabel\": {\"align\": \"left\"}, \"hovermode\": \"closest\", \"mapbox\": {\"style\": \"light\"}, \"paper_bgcolor\": \"white\", \"plot_bgcolor\": \"#E5ECF6\", \"polar\": {\"angularaxis\": {\"gridcolor\": \"white\", \"linecolor\": \"white\", \"ticks\": \"\"}, \"bgcolor\": \"#E5ECF6\", \"radialaxis\": {\"gridcolor\": \"white\", \"linecolor\": \"white\", \"ticks\": \"\"}}, \"scene\": {\"xaxis\": {\"backgroundcolor\": \"#E5ECF6\", \"gridcolor\": \"white\", \"gridwidth\": 2, \"linecolor\": \"white\", \"showbackground\": true, \"ticks\": \"\", \"zerolinecolor\": \"white\"}, \"yaxis\": {\"backgroundcolor\": \"#E5ECF6\", \"gridcolor\": \"white\", \"gridwidth\": 2, \"linecolor\": \"white\", \"showbackground\": true, \"ticks\": \"\", \"zerolinecolor\": \"white\"}, \"zaxis\": {\"backgroundcolor\": \"#E5ECF6\", \"gridcolor\": \"white\", \"gridwidth\": 2, \"linecolor\": \"white\", \"showbackground\": true, \"ticks\": \"\", \"zerolinecolor\": \"white\"}}, \"shapedefaults\": {\"line\": {\"color\": \"#2a3f5f\"}}, \"ternary\": {\"aaxis\": {\"gridcolor\": \"white\", \"linecolor\": \"white\", \"ticks\": \"\"}, \"baxis\": {\"gridcolor\": \"white\", \"linecolor\": \"white\", \"ticks\": \"\"}, \"bgcolor\": \"#E5ECF6\", \"caxis\": {\"gridcolor\": \"white\", \"linecolor\": \"white\", \"ticks\": \"\"}}, \"title\": {\"x\": 0.05}, \"xaxis\": {\"automargin\": true, \"gridcolor\": \"white\", \"linecolor\": \"white\", \"ticks\": \"\", \"title\": {\"standoff\": 15}, \"zerolinecolor\": \"white\", \"zerolinewidth\": 2}, \"yaxis\": {\"automargin\": true, \"gridcolor\": \"white\", \"linecolor\": \"white\", \"ticks\": \"\", \"title\": {\"standoff\": 15}, \"zerolinecolor\": \"white\", \"zerolinewidth\": 2}}}},\n",
              "                        {\"responsive\": true}\n",
              "                    ).then(function(){\n",
              "                            \n",
              "var gd = document.getElementById('3f27d31d-de57-49b5-b976-1c12963c73bb');\n",
              "var x = new MutationObserver(function (mutations, observer) {{\n",
              "        var display = window.getComputedStyle(gd).display;\n",
              "        if (!display || display === 'none') {{\n",
              "            console.log([gd, 'removed!']);\n",
              "            Plotly.purge(gd);\n",
              "            observer.disconnect();\n",
              "        }}\n",
              "}});\n",
              "\n",
              "// Listen for the removal of the full notebook cells\n",
              "var notebookContainer = gd.closest('#notebook-container');\n",
              "if (notebookContainer) {{\n",
              "    x.observe(notebookContainer, {childList: true});\n",
              "}}\n",
              "\n",
              "// Listen for the clearing of the current output cell\n",
              "var outputEl = gd.closest('.output');\n",
              "if (outputEl) {{\n",
              "    x.observe(outputEl, {childList: true});\n",
              "}}\n",
              "\n",
              "                        })\n",
              "                };\n",
              "                \n",
              "            </script>\n",
              "        </div>\n",
              "</body>\n",
              "</html>"
            ]
          },
          "metadata": {
            "tags": []
          }
        }
      ]
    }
  ]
}