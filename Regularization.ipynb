{
  "nbformat": 4,
  "nbformat_minor": 0,
  "metadata": {
    "colab": {
      "name": "Regularization.ipynb",
      "provenance": [],
      "authorship_tag": "ABX9TyNKXVA41DgN4BINDaLeNCyZ",
      "include_colab_link": true
    },
    "kernelspec": {
      "name": "python3",
      "display_name": "Python 3"
    }
  },
  "cells": [
    {
      "cell_type": "markdown",
      "metadata": {
        "id": "view-in-github",
        "colab_type": "text"
      },
      "source": [
        "<a href=\"https://colab.research.google.com/github/delicate99/Python_ML/blob/main/Regularization.ipynb\" target=\"_parent\"><img src=\"https://colab.research.google.com/assets/colab-badge.svg\" alt=\"Open In Colab\"/></a>"
      ]
    },
    {
      "cell_type": "markdown",
      "metadata": {
        "id": "pL_xcSPZ1wlc"
      },
      "source": [
        "## Regularization"
      ]
    },
    {
      "cell_type": "code",
      "metadata": {
        "id": "i-7ZL2Lt1uJB"
      },
      "source": [
        "import numpy as np\n",
        "import pandas as pd\n",
        "import seaborn as sns\n",
        "import matplotlib.pyplot as plt"
      ],
      "execution_count": 1,
      "outputs": []
    },
    {
      "cell_type": "code",
      "metadata": {
        "id": "N853q63Y1x89"
      },
      "source": [
        "df = pd.read_csv('https://raw.githubusercontent.com/Filareth2015/DA_and_ML_Python/master/advertising.csv')"
      ],
      "execution_count": 2,
      "outputs": []
    },
    {
      "cell_type": "code",
      "metadata": {
        "colab": {
          "base_uri": "https://localhost:8080/",
          "height": 204
        },
        "id": "LPN3mFNX1xi2",
        "outputId": "ca6da517-3d51-462b-d0d0-03310d0f4ff8"
      },
      "source": [
        "df.head()"
      ],
      "execution_count": 3,
      "outputs": [
        {
          "output_type": "execute_result",
          "data": {
            "text/html": [
              "<div>\n",
              "<style scoped>\n",
              "    .dataframe tbody tr th:only-of-type {\n",
              "        vertical-align: middle;\n",
              "    }\n",
              "\n",
              "    .dataframe tbody tr th {\n",
              "        vertical-align: top;\n",
              "    }\n",
              "\n",
              "    .dataframe thead th {\n",
              "        text-align: right;\n",
              "    }\n",
              "</style>\n",
              "<table border=\"1\" class=\"dataframe\">\n",
              "  <thead>\n",
              "    <tr style=\"text-align: right;\">\n",
              "      <th></th>\n",
              "      <th>TV</th>\n",
              "      <th>Radio</th>\n",
              "      <th>Newspaper</th>\n",
              "      <th>Sales</th>\n",
              "    </tr>\n",
              "  </thead>\n",
              "  <tbody>\n",
              "    <tr>\n",
              "      <th>1</th>\n",
              "      <td>230.1</td>\n",
              "      <td>37.8</td>\n",
              "      <td>69.2</td>\n",
              "      <td>22.1</td>\n",
              "    </tr>\n",
              "    <tr>\n",
              "      <th>2</th>\n",
              "      <td>44.5</td>\n",
              "      <td>39.3</td>\n",
              "      <td>45.1</td>\n",
              "      <td>10.4</td>\n",
              "    </tr>\n",
              "    <tr>\n",
              "      <th>3</th>\n",
              "      <td>17.2</td>\n",
              "      <td>45.9</td>\n",
              "      <td>69.3</td>\n",
              "      <td>9.3</td>\n",
              "    </tr>\n",
              "    <tr>\n",
              "      <th>4</th>\n",
              "      <td>151.5</td>\n",
              "      <td>41.3</td>\n",
              "      <td>58.5</td>\n",
              "      <td>18.5</td>\n",
              "    </tr>\n",
              "    <tr>\n",
              "      <th>5</th>\n",
              "      <td>180.8</td>\n",
              "      <td>10.8</td>\n",
              "      <td>58.4</td>\n",
              "      <td>12.9</td>\n",
              "    </tr>\n",
              "  </tbody>\n",
              "</table>\n",
              "</div>"
            ],
            "text/plain": [
              "      TV  Radio  Newspaper  Sales\n",
              "1  230.1   37.8       69.2   22.1\n",
              "2   44.5   39.3       45.1   10.4\n",
              "3   17.2   45.9       69.3    9.3\n",
              "4  151.5   41.3       58.5   18.5\n",
              "5  180.8   10.8       58.4   12.9"
            ]
          },
          "metadata": {
            "tags": []
          },
          "execution_count": 3
        }
      ]
    },
    {
      "cell_type": "code",
      "metadata": {
        "id": "YfmUZt3l1x0s"
      },
      "source": [
        "X= df.drop('Sales', axis= 1)\n",
        "y = df[\"Sales\"]"
      ],
      "execution_count": 4,
      "outputs": []
    },
    {
      "cell_type": "code",
      "metadata": {
        "id": "3bvVXO2t1ay1"
      },
      "source": [
        "from sklearn.preprocessing import PolynomialFeatures\n",
        "from sklearn.model_selection import train_test_split\n",
        "from sklearn.preprocessing import StandardScaler"
      ],
      "execution_count": 5,
      "outputs": []
    },
    {
      "cell_type": "markdown",
      "metadata": {
        "id": "qY8m9lqA3Zi1"
      },
      "source": [
        "### Polynomial conversion / Train-test split"
      ]
    },
    {
      "cell_type": "code",
      "metadata": {
        "id": "HC3DHojE3RFh"
      },
      "source": [
        "polynomial_converter = PolynomialFeatures(degree = 3, include_bias = False)\n",
        "poly_features = polynomial_converter.fit_transform(X)"
      ],
      "execution_count": 6,
      "outputs": []
    },
    {
      "cell_type": "code",
      "metadata": {
        "id": "XkMvTU0k3RRK"
      },
      "source": [
        "X_train, X_test, y_train,y_test = train_test_split(poly_features, y, test_size =0.3, random_state =101)"
      ],
      "execution_count": 7,
      "outputs": []
    },
    {
      "cell_type": "markdown",
      "metadata": {
        "id": "PwzLr2KE4G3Q"
      },
      "source": [
        "### Scaling the Data"
      ]
    },
    {
      "cell_type": "code",
      "metadata": {
        "colab": {
          "base_uri": "https://localhost:8080/"
        },
        "id": "NMHWMXyx7QD4",
        "outputId": "0b67cc78-60ad-40bc-e31e-527bd02c171b"
      },
      "source": [
        "scaler = StandardScaler()\n",
        "scaler.fit(X_train)"
      ],
      "execution_count": 8,
      "outputs": [
        {
          "output_type": "execute_result",
          "data": {
            "text/plain": [
              "StandardScaler(copy=True, with_mean=True, with_std=True)"
            ]
          },
          "metadata": {
            "tags": []
          },
          "execution_count": 8
        }
      ]
    },
    {
      "cell_type": "code",
      "metadata": {
        "id": "ntRsEopr7QQ0"
      },
      "source": [
        "X_train = scaler.transform(X_train)\n",
        "X_test =scaler.transform(X_test)"
      ],
      "execution_count": 9,
      "outputs": []
    },
    {
      "cell_type": "markdown",
      "metadata": {
        "id": "SvSAURaUfble"
      },
      "source": [
        "## Ridge_Regression"
      ]
    },
    {
      "cell_type": "code",
      "metadata": {
        "id": "myjpl-HOfeHh"
      },
      "source": [
        "from sklearn.linear_model import Ridge"
      ],
      "execution_count": 10,
      "outputs": []
    },
    {
      "cell_type": "code",
      "metadata": {
        "id": "8LI8R58ofebf"
      },
      "source": [
        "ridge_model = Ridge(alpha =10)"
      ],
      "execution_count": 11,
      "outputs": []
    },
    {
      "cell_type": "code",
      "metadata": {
        "colab": {
          "base_uri": "https://localhost:8080/"
        },
        "id": "1nBSsTPofehZ",
        "outputId": "b5c41abb-e386-4a4e-9f0a-27df21078ac6"
      },
      "source": [
        "ridge_model.fit(X_train,y_train)"
      ],
      "execution_count": 12,
      "outputs": [
        {
          "output_type": "execute_result",
          "data": {
            "text/plain": [
              "Ridge(alpha=10, copy_X=True, fit_intercept=True, max_iter=None, normalize=False,\n",
              "      random_state=None, solver='auto', tol=0.001)"
            ]
          },
          "metadata": {
            "tags": []
          },
          "execution_count": 12
        }
      ]
    },
    {
      "cell_type": "code",
      "metadata": {
        "id": "I2FrU8yXgNqT"
      },
      "source": [
        "test_predictions = ridge_model.predict(X_test)"
      ],
      "execution_count": 13,
      "outputs": []
    },
    {
      "cell_type": "code",
      "metadata": {
        "id": "R-VH5Z6FgVBJ"
      },
      "source": [
        "from sklearn.metrics import mean_absolute_error,mean_squared_error"
      ],
      "execution_count": 14,
      "outputs": []
    },
    {
      "cell_type": "code",
      "metadata": {
        "id": "dX1Idp9ngb1Z"
      },
      "source": [
        "MAE = mean_absolute_error(y_test,test_predictions)\n",
        "MSE = mean_squared_error(y_test,test_predictions)\n",
        "RMSE = np.sqrt(MSE)"
      ],
      "execution_count": 15,
      "outputs": []
    },
    {
      "cell_type": "code",
      "metadata": {
        "id": "QqnEwAfvkz9f"
      },
      "source": [
        ""
      ],
      "execution_count": 15,
      "outputs": []
    },
    {
      "cell_type": "code",
      "metadata": {
        "colab": {
          "base_uri": "https://localhost:8080/"
        },
        "id": "Qhe2tMNXginf",
        "outputId": "bc84f1be-43e8-41cd-ca3d-6643237ad264"
      },
      "source": [
        "MAE"
      ],
      "execution_count": 16,
      "outputs": [
        {
          "output_type": "execute_result",
          "data": {
            "text/plain": [
              "0.5774404204714162"
            ]
          },
          "metadata": {
            "tags": []
          },
          "execution_count": 16
        }
      ]
    },
    {
      "cell_type": "code",
      "metadata": {
        "colab": {
          "base_uri": "https://localhost:8080/"
        },
        "id": "pGBZq2CHgkjw",
        "outputId": "ae6c4f86-0e5b-4aab-d993-a825b6917cf6"
      },
      "source": [
        "RMSE"
      ],
      "execution_count": 17,
      "outputs": [
        {
          "output_type": "execute_result",
          "data": {
            "text/plain": [
              "0.8946386461319651"
            ]
          },
          "metadata": {
            "tags": []
          },
          "execution_count": 17
        }
      ]
    },
    {
      "cell_type": "markdown",
      "metadata": {
        "id": "p58VRpZzljDC"
      },
      "source": [
        "### Choosing an alpha value with Cross Validation"
      ]
    },
    {
      "cell_type": "code",
      "metadata": {
        "id": "ZJzfSTsBljdw"
      },
      "source": [
        "from sklearn.linear_model import RidgeCV"
      ],
      "execution_count": 18,
      "outputs": []
    },
    {
      "cell_type": "code",
      "metadata": {
        "id": "B_138uYFlj0q"
      },
      "source": [
        "# Choosing a scoring: https://scikit-learn.org/stable/modules/model_evaluation.html\n",
        "# Negative RMSE so all metrics follow convention \"Higher is better\"\n",
        "\n",
        "# See all options: sklearn.metrics.SCORERS.keys()\n",
        "ridge_cv_model = RidgeCV(alphas=(0.1, 1.0, 10.0),scoring='neg_mean_absolute_error')"
      ],
      "execution_count": 19,
      "outputs": []
    },
    {
      "cell_type": "code",
      "metadata": {
        "colab": {
          "base_uri": "https://localhost:8080/"
        },
        "id": "SvUiYOjjl4mn",
        "outputId": "30829173-1980-4d1b-fa88-1eeda015aa3b"
      },
      "source": [
        "ridge_cv_model.fit(X_train,y_train)"
      ],
      "execution_count": 20,
      "outputs": [
        {
          "output_type": "execute_result",
          "data": {
            "text/plain": [
              "RidgeCV(alphas=array([ 0.1,  1. , 10. ]), cv=None, fit_intercept=True,\n",
              "        gcv_mode=None, normalize=False, scoring='neg_mean_absolute_error',\n",
              "        store_cv_values=False)"
            ]
          },
          "metadata": {
            "tags": []
          },
          "execution_count": 20
        }
      ]
    },
    {
      "cell_type": "code",
      "metadata": {
        "colab": {
          "base_uri": "https://localhost:8080/"
        },
        "id": "ltiY0cGXl4wi",
        "outputId": "b1794dc6-d222-4dfd-8d10-0bb8232fb99a"
      },
      "source": [
        "ridge_cv_model.alpha_"
      ],
      "execution_count": 21,
      "outputs": [
        {
          "output_type": "execute_result",
          "data": {
            "text/plain": [
              "0.1"
            ]
          },
          "metadata": {
            "tags": []
          },
          "execution_count": 21
        }
      ]
    },
    {
      "cell_type": "code",
      "metadata": {
        "id": "dJgY61wWnzA2"
      },
      "source": [
        "from sklearn.metrics import SCORERS"
      ],
      "execution_count": 22,
      "outputs": []
    },
    {
      "cell_type": "code",
      "metadata": {
        "colab": {
          "base_uri": "https://localhost:8080/"
        },
        "id": "dieOr_zznzQk",
        "outputId": "23a65e45-4d12-40bc-d82e-9d9cbf8c209a"
      },
      "source": [
        "SCORERS.keys()"
      ],
      "execution_count": 23,
      "outputs": [
        {
          "output_type": "execute_result",
          "data": {
            "text/plain": [
              "dict_keys(['explained_variance', 'r2', 'max_error', 'neg_median_absolute_error', 'neg_mean_absolute_error', 'neg_mean_squared_error', 'neg_mean_squared_log_error', 'neg_root_mean_squared_error', 'neg_mean_poisson_deviance', 'neg_mean_gamma_deviance', 'accuracy', 'roc_auc', 'roc_auc_ovr', 'roc_auc_ovo', 'roc_auc_ovr_weighted', 'roc_auc_ovo_weighted', 'balanced_accuracy', 'average_precision', 'neg_log_loss', 'neg_brier_score', 'adjusted_rand_score', 'homogeneity_score', 'completeness_score', 'v_measure_score', 'mutual_info_score', 'adjusted_mutual_info_score', 'normalized_mutual_info_score', 'fowlkes_mallows_score', 'precision', 'precision_macro', 'precision_micro', 'precision_samples', 'precision_weighted', 'recall', 'recall_macro', 'recall_micro', 'recall_samples', 'recall_weighted', 'f1', 'f1_macro', 'f1_micro', 'f1_samples', 'f1_weighted', 'jaccard', 'jaccard_macro', 'jaccard_micro', 'jaccard_samples', 'jaccard_weighted'])"
            ]
          },
          "metadata": {
            "tags": []
          },
          "execution_count": 23
        }
      ]
    },
    {
      "cell_type": "code",
      "metadata": {
        "id": "t9pcvF0ymEn2"
      },
      "source": [
        "test_predictions = ridge_cv_model.predict(X_test)"
      ],
      "execution_count": 24,
      "outputs": []
    },
    {
      "cell_type": "code",
      "metadata": {
        "id": "njfuHz9pmXkb"
      },
      "source": [
        "MAE = mean_absolute_error(y_test,test_predictions)\n",
        "MSE = mean_squared_error(y_test,test_predictions)\n",
        "RMSE = np.sqrt(MSE)"
      ],
      "execution_count": 25,
      "outputs": []
    },
    {
      "cell_type": "code",
      "metadata": {
        "colab": {
          "base_uri": "https://localhost:8080/"
        },
        "id": "WjX0ch5UmYYj",
        "outputId": "63ea6efc-d03c-4e50-fe6e-2f4bacce5a20"
      },
      "source": [
        "MAE"
      ],
      "execution_count": 26,
      "outputs": [
        {
          "output_type": "execute_result",
          "data": {
            "text/plain": [
              "0.4273774884345439"
            ]
          },
          "metadata": {
            "tags": []
          },
          "execution_count": 26
        }
      ]
    },
    {
      "cell_type": "code",
      "metadata": {
        "colab": {
          "base_uri": "https://localhost:8080/"
        },
        "id": "7-uas91CmaOW",
        "outputId": "7bccad6a-be05-48d4-ab51-7e9e494c3660"
      },
      "source": [
        "RMSE"
      ],
      "execution_count": 27,
      "outputs": [
        {
          "output_type": "execute_result",
          "data": {
            "text/plain": [
              "0.6180719926946001"
            ]
          },
          "metadata": {
            "tags": []
          },
          "execution_count": 27
        }
      ]
    },
    {
      "cell_type": "code",
      "metadata": {
        "colab": {
          "base_uri": "https://localhost:8080/"
        },
        "id": "tyMGmLJspjyq",
        "outputId": "82bd84fa-fc22-4479-8d73-5c6c4b889764"
      },
      "source": [
        "ridge_cv_model.coef_"
      ],
      "execution_count": 28,
      "outputs": [
        {
          "output_type": "execute_result",
          "data": {
            "text/plain": [
              "array([ 5.40769392,  0.5885865 ,  0.40390395, -6.18263924,  4.59607939,\n",
              "       -1.18789654, -1.15200458,  0.57837796, -0.1261586 ,  2.5569777 ,\n",
              "       -1.38900471,  0.86059434,  0.72219553, -0.26129256,  0.17870787,\n",
              "        0.44353612, -0.21362436, -0.04622473, -0.06441449])"
            ]
          },
          "metadata": {
            "tags": []
          },
          "execution_count": 28
        }
      ]
    },
    {
      "cell_type": "markdown",
      "metadata": {
        "id": "mzEBie20Nxku"
      },
      "source": [
        "### Lasso Regularization"
      ]
    },
    {
      "cell_type": "code",
      "metadata": {
        "id": "LrOa5nl1N3KI"
      },
      "source": [
        "from sklearn.linear_model import LassoCV"
      ],
      "execution_count": 29,
      "outputs": []
    },
    {
      "cell_type": "code",
      "metadata": {
        "id": "xs9u2nTCOKGZ"
      },
      "source": [
        "lasso_cv_model = LassoCV(eps= 0.001, n_alphas =100, cv=5, max_iter= 1000000)"
      ],
      "execution_count": 30,
      "outputs": []
    },
    {
      "cell_type": "code",
      "metadata": {
        "colab": {
          "base_uri": "https://localhost:8080/"
        },
        "id": "R_GaH67LOupK",
        "outputId": "4496096a-65b6-452c-d548-e7f6d967d1c3"
      },
      "source": [
        "lasso_cv_model.fit(X_train, y_train)"
      ],
      "execution_count": 31,
      "outputs": [
        {
          "output_type": "execute_result",
          "data": {
            "text/plain": [
              "LassoCV(alphas=None, copy_X=True, cv=5, eps=0.001, fit_intercept=True,\n",
              "        max_iter=1000000, n_alphas=100, n_jobs=None, normalize=False,\n",
              "        positive=False, precompute='auto', random_state=None,\n",
              "        selection='cyclic', tol=0.0001, verbose=False)"
            ]
          },
          "metadata": {
            "tags": []
          },
          "execution_count": 31
        }
      ]
    },
    {
      "cell_type": "code",
      "metadata": {
        "colab": {
          "base_uri": "https://localhost:8080/"
        },
        "id": "h1c3p1RNPFSy",
        "outputId": "94722057-56e9-4a73-8da5-81dbfcc94a0e"
      },
      "source": [
        "round(lasso_cv_model.alpha_ , 4)"
      ],
      "execution_count": 32,
      "outputs": [
        {
          "output_type": "execute_result",
          "data": {
            "text/plain": [
              "0.0049"
            ]
          },
          "metadata": {
            "tags": []
          },
          "execution_count": 32
        }
      ]
    },
    {
      "cell_type": "code",
      "metadata": {
        "id": "cwepEoOSO0ZB"
      },
      "source": [
        "lasso_prediction = lasso_cv_model.predict(X_test)"
      ],
      "execution_count": 33,
      "outputs": []
    },
    {
      "cell_type": "code",
      "metadata": {
        "id": "nKkqClw5OKRt"
      },
      "source": [
        "MAE = mean_absolute_error(y_test,lasso_prediction)\n",
        "MSE = mean_squared_error(y_test,lasso_prediction)\n",
        "RMSE = np.sqrt(MSE)"
      ],
      "execution_count": 34,
      "outputs": []
    },
    {
      "cell_type": "code",
      "metadata": {
        "colab": {
          "base_uri": "https://localhost:8080/"
        },
        "id": "knTfQxGDPTy5",
        "outputId": "7841d649-106b-44bd-dfaa-b32b33e5dfe2"
      },
      "source": [
        "print(MAE)\n",
        "RMSE"
      ],
      "execution_count": 35,
      "outputs": [
        {
          "output_type": "stream",
          "text": [
            "0.4335034618590078\n"
          ],
          "name": "stdout"
        },
        {
          "output_type": "execute_result",
          "data": {
            "text/plain": [
              "0.6063140748984043"
            ]
          },
          "metadata": {
            "tags": []
          },
          "execution_count": 35
        }
      ]
    },
    {
      "cell_type": "code",
      "metadata": {
        "colab": {
          "base_uri": "https://localhost:8080/"
        },
        "id": "FZBrCayOPmL6",
        "outputId": "0a7c8e6f-1cc2-4bf6-d79b-3320b0e0f5a3"
      },
      "source": [
        "lasso_cv_model.coef_"
      ],
      "execution_count": 36,
      "outputs": [
        {
          "output_type": "execute_result",
          "data": {
            "text/plain": [
              "array([ 4.86023329,  0.12544598,  0.20746872, -4.99250395,  4.38026519,\n",
              "       -0.22977201, -0.        ,  0.07267717, -0.        ,  1.77780246,\n",
              "       -0.69614918, -0.        ,  0.12044132, -0.        , -0.        ,\n",
              "       -0.        ,  0.        ,  0.        , -0.        ])"
            ]
          },
          "metadata": {
            "tags": []
          },
          "execution_count": 36
        }
      ]
    },
    {
      "cell_type": "markdown",
      "metadata": {
        "id": "7C1W2HtiTpfu"
      },
      "source": [
        "### Elastic-Net"
      ]
    },
    {
      "cell_type": "code",
      "metadata": {
        "id": "t2J2kQDITse-"
      },
      "source": [
        "from sklearn.linear_model import ElasticNetCV"
      ],
      "execution_count": 37,
      "outputs": []
    },
    {
      "cell_type": "code",
      "metadata": {
        "id": "-0uTA9wuT1f4"
      },
      "source": [
        "elastic_cv_model = ElasticNetCV(l1_ratio=[0.1,.5, .7, .9, .95, .99, 1], eps=0.001, n_alphas =100,max_iter = 10000000)"
      ],
      "execution_count": 38,
      "outputs": []
    },
    {
      "cell_type": "code",
      "metadata": {
        "colab": {
          "base_uri": "https://localhost:8080/"
        },
        "id": "Ii-yTsEC61VL",
        "outputId": "d9d0880b-37cb-49e0-c5c0-bf33c2f4185f"
      },
      "source": [
        "elastic_cv_model.fit(X_train,y_train)"
      ],
      "execution_count": 39,
      "outputs": [
        {
          "output_type": "execute_result",
          "data": {
            "text/plain": [
              "ElasticNetCV(alphas=None, copy_X=True, cv=None, eps=0.001, fit_intercept=True,\n",
              "             l1_ratio=[0.1, 0.5, 0.7, 0.9, 0.95, 0.99, 1], max_iter=10000000,\n",
              "             n_alphas=100, n_jobs=None, normalize=False, positive=False,\n",
              "             precompute='auto', random_state=None, selection='cyclic',\n",
              "             tol=0.0001, verbose=0)"
            ]
          },
          "metadata": {
            "tags": []
          },
          "execution_count": 39
        }
      ]
    },
    {
      "cell_type": "code",
      "metadata": {
        "colab": {
          "base_uri": "https://localhost:8080/"
        },
        "id": "n-ClqBq46oep",
        "outputId": "16c89f96-7ac4-461f-cbf5-8cfb9efa0379"
      },
      "source": [
        "elastic_cv_model.l1_ratio_ # Lasso 100% model is the best fit "
      ],
      "execution_count": 40,
      "outputs": [
        {
          "output_type": "execute_result",
          "data": {
            "text/plain": [
              "1.0"
            ]
          },
          "metadata": {
            "tags": []
          },
          "execution_count": 40
        }
      ]
    },
    {
      "cell_type": "code",
      "metadata": {
        "colab": {
          "base_uri": "https://localhost:8080/"
        },
        "id": "yrkm-EmJAjrA",
        "outputId": "f9a3f7df-5d9f-4fc3-e9e7-45d7fa96bf89"
      },
      "source": [
        "elastic_cv_model.alpha_ # exactly same with the Lasso model alpha"
      ],
      "execution_count": 41,
      "outputs": [
        {
          "output_type": "execute_result",
          "data": {
            "text/plain": [
              "0.004943070909225833"
            ]
          },
          "metadata": {
            "tags": []
          },
          "execution_count": 41
        }
      ]
    },
    {
      "cell_type": "code",
      "metadata": {
        "id": "ZMHN1FGc687F"
      },
      "source": [
        "elastic_predictions = elastic_cv_model.predict(X_test)"
      ],
      "execution_count": 42,
      "outputs": []
    },
    {
      "cell_type": "code",
      "metadata": {
        "id": "HfKiLsWY7Cea"
      },
      "source": [
        "MAE = mean_absolute_error(y_test,elastic_predictions)\n",
        "MSE = mean_squared_error(y_test,elastic_predictions)\n",
        "RMSE = np.sqrt(MSE)"
      ],
      "execution_count": 43,
      "outputs": []
    },
    {
      "cell_type": "code",
      "metadata": {
        "colab": {
          "base_uri": "https://localhost:8080/"
        },
        "id": "AOwKapH47Jds",
        "outputId": "3ac1dbed-197a-4e5b-9817-b1d4fd23079b"
      },
      "source": [
        "print(MAE)\n",
        "RMSE"
      ],
      "execution_count": 44,
      "outputs": [
        {
          "output_type": "stream",
          "text": [
            "0.4335034618590078\n"
          ],
          "name": "stdout"
        },
        {
          "output_type": "execute_result",
          "data": {
            "text/plain": [
              "0.6063140748984043"
            ]
          },
          "metadata": {
            "tags": []
          },
          "execution_count": 44
        }
      ]
    },
    {
      "cell_type": "code",
      "metadata": {
        "colab": {
          "base_uri": "https://localhost:8080/"
        },
        "id": "MelB3bP-7kA-",
        "outputId": "32c45562-177a-44ba-d3e9-b395a4b2649a"
      },
      "source": [
        "elastic_cv_model.coef_"
      ],
      "execution_count": 45,
      "outputs": [
        {
          "output_type": "execute_result",
          "data": {
            "text/plain": [
              "array([ 4.86023329,  0.12544598,  0.20746872, -4.99250395,  4.38026519,\n",
              "       -0.22977201, -0.        ,  0.07267717, -0.        ,  1.77780246,\n",
              "       -0.69614918, -0.        ,  0.12044132, -0.        , -0.        ,\n",
              "       -0.        ,  0.        ,  0.        , -0.        ])"
            ]
          },
          "metadata": {
            "tags": []
          },
          "execution_count": 45
        }
      ]
    }
  ]
}