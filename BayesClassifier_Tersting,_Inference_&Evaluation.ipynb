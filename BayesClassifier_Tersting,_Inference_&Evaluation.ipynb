{
  "nbformat": 4,
  "nbformat_minor": 0,
  "metadata": {
    "colab": {
      "name": "BayesClassifier - Tersting, Inference &Evaluation.ipynb",
      "provenance": [],
      "authorship_tag": "ABX9TyPhqLg4LwGiBiPT+S3g622R",
      "include_colab_link": true
    },
    "kernelspec": {
      "name": "python3",
      "display_name": "Python 3"
    }
  },
  "cells": [
    {
      "cell_type": "markdown",
      "metadata": {
        "id": "view-in-github",
        "colab_type": "text"
      },
      "source": [
        "<a href=\"https://colab.research.google.com/github/delicate99/Python_ML/blob/main/BayesClassifier_Tersting%2C_Inference_%26Evaluation.ipynb\" target=\"_parent\"><img src=\"https://colab.research.google.com/assets/colab-badge.svg\" alt=\"Open In Colab\"/></a>"
      ]
    },
    {
      "cell_type": "code",
      "metadata": {
        "id": "OQm2_RLMrfTG"
      },
      "source": [
        "import numpy as np\n",
        "import pandas as pd\n",
        "import matplotlib.pyplot as plt\n",
        "import seaborn as sns\n",
        "\n",
        "import zipfile\n",
        "from os import walk\n",
        "from os.path import join\n",
        "import os.path\n",
        "import os"
      ],
      "execution_count": 115,
      "outputs": []
    },
    {
      "cell_type": "markdown",
      "metadata": {
        "id": "jZ4Ay1Dvse-3"
      },
      "source": [
        ""
      ]
    },
    {
      "cell_type": "code",
      "metadata": {
        "id": "hA_W8PsLsWhi"
      },
      "source": [
        "\n",
        "VOCAB_SIZE =2500\n",
        "\n",
        "TOKEN_SPAM_BROB_FILE = './03_Testing/prob-spam.txt'\n",
        "TOKEN_HAM_BROB_FILE = './03_Testing/prob-nonspam.txt'\n",
        "TOKEN_ALL_BROB_FILE = './03_Testing/prob-all-tokens.txt'\n",
        "\n",
        "TEST_FEATURE_MATRIX = './03_Testing/test-features.txt'\n",
        "TEST_TARGET_FILE = './03_Testing/test-target.txt'\n"
      ],
      "execution_count": 116,
      "outputs": []
    },
    {
      "cell_type": "code",
      "metadata": {
        "colab": {
          "base_uri": "https://localhost:8080/"
        },
        "id": "gt1Px-YssWq0",
        "outputId": "6437898b-2108-4f27-af11-65dbf246ca4b"
      },
      "source": [
        "\n",
        "!wget --output-document=SpamData.zip \"https://github.com/delicate99/Python_ML/blob/main/SpamData_final.zip?raw=true\""
      ],
      "execution_count": 117,
      "outputs": [
        {
          "output_type": "stream",
          "text": [
            "--2021-01-24 20:06:50--  https://github.com/delicate99/Python_ML/blob/main/SpamData_final.zip?raw=true\n",
            "Resolving github.com (github.com)... 52.69.186.44\n",
            "Connecting to github.com (github.com)|52.69.186.44|:443... connected.\n",
            "HTTP request sent, awaiting response... 302 Found\n",
            "Location: https://github.com/delicate99/Python_ML/raw/main/SpamData_final.zip [following]\n",
            "--2021-01-24 20:06:50--  https://github.com/delicate99/Python_ML/raw/main/SpamData_final.zip\n",
            "Reusing existing connection to github.com:443.\n",
            "HTTP request sent, awaiting response... 302 Found\n",
            "Location: https://raw.githubusercontent.com/delicate99/Python_ML/main/SpamData_final.zip [following]\n",
            "--2021-01-24 20:06:51--  https://raw.githubusercontent.com/delicate99/Python_ML/main/SpamData_final.zip\n",
            "Resolving raw.githubusercontent.com (raw.githubusercontent.com)... 151.101.0.133, 151.101.64.133, 151.101.128.133, ...\n",
            "Connecting to raw.githubusercontent.com (raw.githubusercontent.com)|151.101.0.133|:443... connected.\n",
            "HTTP request sent, awaiting response... 200 OK\n",
            "Length: 23943672 (23M) [application/zip]\n",
            "Saving to: ‘SpamData.zip’\n",
            "\n",
            "SpamData.zip        100%[===================>]  22.83M  46.3MB/s    in 0.5s    \n",
            "\n",
            "2021-01-24 20:06:52 (46.3 MB/s) - ‘SpamData.zip’ saved [23943672/23943672]\n",
            "\n"
          ],
          "name": "stdout"
        }
      ]
    },
    {
      "cell_type": "code",
      "metadata": {
        "colab": {
          "base_uri": "https://localhost:8080/"
        },
        "id": "CTBbiaXCABPF",
        "outputId": "cbc89b1d-9b2a-4092-96c1-d2c9a2388ebf"
      },
      "source": [
        "% cd '/content'"
      ],
      "execution_count": 118,
      "outputs": [
        {
          "output_type": "stream",
          "text": [
            "/content\n"
          ],
          "name": "stdout"
        }
      ]
    },
    {
      "cell_type": "code",
      "metadata": {
        "id": "IJy70vPNsWzA"
      },
      "source": [
        "if not os.path.isdir(\"/content/SpamData\"):\n",
        "    fname = \"SpamData.zip\"\n",
        "    if os.path.isfile(fname):\n",
        "        with zipfile.ZipFile(fname,'r') as zip_file:\n",
        "            zip_file.extractall('')\n",
        "        print('Extraction Finished....')"
      ],
      "execution_count": 119,
      "outputs": []
    },
    {
      "cell_type": "code",
      "metadata": {
        "colab": {
          "base_uri": "https://localhost:8080/"
        },
        "id": "JGAsIm9jsW6-",
        "outputId": "f94ffd1c-60dc-485e-d35d-53f06edba008"
      },
      "source": [
        "\n",
        "% cd 'SpamData'"
      ],
      "execution_count": 120,
      "outputs": [
        {
          "output_type": "stream",
          "text": [
            "/content/SpamData\n"
          ],
          "name": "stdout"
        }
      ]
    },
    {
      "cell_type": "code",
      "metadata": {
        "colab": {
          "base_uri": "https://localhost:8080/"
        },
        "id": "Jf4_s5JivG3V",
        "outputId": "b7a9a965-47ca-484c-d251-12931db10c71"
      },
      "source": [
        "!ls\n"
      ],
      "execution_count": 121,
      "outputs": [
        {
          "output_type": "stream",
          "text": [
            "01_Processing  02_Training  03_Testing\t__MACOSX  SpamData  SpamData.zip\n"
          ],
          "name": "stdout"
        }
      ]
    },
    {
      "cell_type": "markdown",
      "metadata": {
        "id": "N9p4CCkTvay6"
      },
      "source": [
        "## Load the data"
      ]
    },
    {
      "cell_type": "code",
      "metadata": {
        "id": "HBR51xBBvdLn"
      },
      "source": [
        "X_test = np.loadtxt(TEST_FEATURE_MATRIX, delimiter=' ')\n",
        "y_test = np.loadtxt (TEST_TARGET_FILE ,delimiter=' ')\n",
        "\n",
        "prob_token_spam = np.loadtxt(TOKEN_SPAM_BROB_FILE, delimiter=' ')\n",
        "prob_token_ham = np.loadtxt(TOKEN_HAM_BROB_FILE, delimiter=' ')\n",
        "prob_all_tokens = np.loadtxt(TOKEN_ALL_BROB_FILE, delimiter=' ')\n",
        "\n"
      ],
      "execution_count": 122,
      "outputs": []
    },
    {
      "cell_type": "code",
      "metadata": {
        "colab": {
          "base_uri": "https://localhost:8080/"
        },
        "id": "8J9t_TvxvdRB",
        "outputId": "07256554-a6e4-4fd8-a68a-1daf5a7fcc7d"
      },
      "source": [
        "X_test[:5]"
      ],
      "execution_count": 123,
      "outputs": [
        {
          "output_type": "execute_result",
          "data": {
            "text/plain": [
              "array([[0., 0., 0., ..., 0., 0., 0.],\n",
              "       [0., 2., 1., ..., 0., 0., 0.],\n",
              "       [3., 0., 1., ..., 0., 0., 0.],\n",
              "       [5., 1., 2., ..., 0., 0., 0.],\n",
              "       [1., 2., 0., ..., 0., 0., 0.]])"
            ]
          },
          "metadata": {
            "tags": []
          },
          "execution_count": 123
        }
      ]
    },
    {
      "cell_type": "markdown",
      "metadata": {
        "id": "5MOXvatOEbBD"
      },
      "source": [
        "## Calulating the Joint Probability\n",
        "### The Dot Product"
      ]
    },
    {
      "cell_type": "code",
      "metadata": {
        "colab": {
          "base_uri": "https://localhost:8080/"
        },
        "id": "X4WBF6CIvdWq",
        "outputId": "9fd7992e-bd3b-4f12-8150-0fb0ddc6c9f9"
      },
      "source": [
        "a =np.array([1,2,3])\n",
        "b = np.array([0,5,4])\n",
        "print('a:', a)\n",
        "print('b:', b)"
      ],
      "execution_count": 124,
      "outputs": [
        {
          "output_type": "stream",
          "text": [
            "a: [1 2 3]\n",
            "b: [0 5 4]\n"
          ],
          "name": "stdout"
        }
      ]
    },
    {
      "cell_type": "code",
      "metadata": {
        "colab": {
          "base_uri": "https://localhost:8080/"
        },
        "id": "yRzNjmzwFRmc",
        "outputId": "3178b55f-933d-4f65-c482-4bfdd4e50fb8"
      },
      "source": [
        "a.dot(b)\n",
        "b.dot(a)"
      ],
      "execution_count": 125,
      "outputs": [
        {
          "output_type": "execute_result",
          "data": {
            "text/plain": [
              "22"
            ]
          },
          "metadata": {
            "tags": []
          },
          "execution_count": 125
        }
      ]
    },
    {
      "cell_type": "code",
      "metadata": {
        "colab": {
          "base_uri": "https://localhost:8080/"
        },
        "id": "hfqUUwHfFRqR",
        "outputId": "65356f2d-c61b-4b26-9ee8-29ef1fc4d8ff"
      },
      "source": [
        "c = np.array([[0,6],[3,0],[5,1]])\n",
        "print(a.dot(c ))"
      ],
      "execution_count": 126,
      "outputs": [
        {
          "output_type": "stream",
          "text": [
            "[21  9]\n"
          ],
          "name": "stdout"
        }
      ]
    },
    {
      "cell_type": "code",
      "metadata": {
        "colab": {
          "base_uri": "https://localhost:8080/"
        },
        "id": "2e6w4S9WFRt9",
        "outputId": "7e50d360-2193-4c7d-d352-0c6b85416d8c"
      },
      "source": [
        "X_test.shape"
      ],
      "execution_count": 127,
      "outputs": [
        {
          "output_type": "execute_result",
          "data": {
            "text/plain": [
              "(1723, 2500)"
            ]
          },
          "metadata": {
            "tags": []
          },
          "execution_count": 127
        }
      ]
    },
    {
      "cell_type": "code",
      "metadata": {
        "colab": {
          "base_uri": "https://localhost:8080/"
        },
        "id": "m_Yn5vEBFRxv",
        "outputId": "1303817d-6409-41e2-e63c-3a6cc3d1c067"
      },
      "source": [
        "prob_token_spam.shape"
      ],
      "execution_count": 128,
      "outputs": [
        {
          "output_type": "execute_result",
          "data": {
            "text/plain": [
              "(2500,)"
            ]
          },
          "metadata": {
            "tags": []
          },
          "execution_count": 128
        }
      ]
    },
    {
      "cell_type": "code",
      "metadata": {
        "colab": {
          "base_uri": "https://localhost:8080/"
        },
        "id": "HpNSZDi5FR1O",
        "outputId": "032107a7-7757-43a5-acff-1c735115ab53"
      },
      "source": [
        "X_test.dot(prob_token_spam)\n",
        "X_test.dot(prob_token_spam).shape"
      ],
      "execution_count": 129,
      "outputs": [
        {
          "output_type": "execute_result",
          "data": {
            "text/plain": [
              "(1723,)"
            ]
          },
          "metadata": {
            "tags": []
          },
          "execution_count": 129
        }
      ]
    },
    {
      "cell_type": "markdown",
      "metadata": {
        "id": "Trrbr0jM9clB"
      },
      "source": [
        "## Set the Prior\n",
        "\n",
        "$$ P(Spam\\,|\\, X) = \\frac{p(X\\,|\\, Spam)\\,P(Spam)}{P(x)}$$"
      ]
    },
    {
      "cell_type": "code",
      "metadata": {
        "id": "-DfwNvvU9dA8"
      },
      "source": [
        "PROB_SPAM =0.3116"
      ],
      "execution_count": 130,
      "outputs": []
    },
    {
      "cell_type": "code",
      "metadata": {
        "colab": {
          "base_uri": "https://localhost:8080/"
        },
        "id": "EjLbEzFZ9dEo",
        "outputId": "e1ea5192-f3e3-4215-fd3e-91bcfee98eab"
      },
      "source": [
        " np.log(prob_token_spam)"
      ],
      "execution_count": 131,
      "outputs": [
        {
          "output_type": "execute_result",
          "data": {
            "text/plain": [
              "array([ -4.70632085,  -5.32161816,  -4.98677062, ...,  -9.20111798,\n",
              "        -8.70034269, -10.40509078])"
            ]
          },
          "metadata": {
            "tags": []
          },
          "execution_count": 131
        }
      ]
    },
    {
      "cell_type": "markdown",
      "metadata": {
        "id": "-hovMAEh_TmI"
      },
      "source": [
        "### Joint Probability in log Format "
      ]
    },
    {
      "cell_type": "code",
      "metadata": {
        "colab": {
          "base_uri": "https://localhost:8080/"
        },
        "id": "0efl86469dIy",
        "outputId": "aa3c1f85-5d1d-4a50-d98f-a6bb64b0da81"
      },
      "source": [
        "joint_log_spam = X_test.dot(np.log(prob_token_spam)- np.log(prob_all_tokens))+np.log(PROB_SPAM)\n",
        "joint_log_spam[:5]"
      ],
      "execution_count": 132,
      "outputs": [
        {
          "output_type": "execute_result",
          "data": {
            "text/plain": [
              "array([  3.21643926,  13.38035269,  19.20668974, -16.61242345,\n",
              "        27.93765399])"
            ]
          },
          "metadata": {
            "tags": []
          },
          "execution_count": 132
        }
      ]
    },
    {
      "cell_type": "markdown",
      "metadata": {
        "id": "F111SO6wA_Bz"
      },
      "source": [
        "$$ P(Ham\\,|\\, X) = \\frac{p(X\\,|\\, Ham)\\,(1-P(Spam))}{P(x)}$$"
      ]
    },
    {
      "cell_type": "code",
      "metadata": {
        "colab": {
          "base_uri": "https://localhost:8080/"
        },
        "id": "76JcCxabAhB5",
        "outputId": "1c43269c-f01d-476c-ec15-ee605024eb54"
      },
      "source": [
        "joint_log_ham = X_test.dot(np.log(prob_token_ham)- np.log(prob_all_tokens))+np.log((1-PROB_SPAM))\n",
        "joint_log_ham[:5]"
      ],
      "execution_count": 133,
      "outputs": [
        {
          "output_type": "execute_result",
          "data": {
            "text/plain": [
              "array([-11.05063426, -36.94310619, -38.25679825,  -2.70364873,\n",
              "       -60.15266519])"
            ]
          },
          "metadata": {
            "tags": []
          },
          "execution_count": 133
        }
      ]
    },
    {
      "cell_type": "code",
      "metadata": {
        "colab": {
          "base_uri": "https://localhost:8080/"
        },
        "id": "aam8UXue9dMX",
        "outputId": "e54402ce-879c-47f8-850a-919d9009c294"
      },
      "source": [
        "joint_log_ham.shape"
      ],
      "execution_count": 134,
      "outputs": [
        {
          "output_type": "execute_result",
          "data": {
            "text/plain": [
              "(1723,)"
            ]
          },
          "metadata": {
            "tags": []
          },
          "execution_count": 134
        }
      ]
    },
    {
      "cell_type": "markdown",
      "metadata": {
        "id": "k9JeDrXA7nui"
      },
      "source": [
        "## Making Predictions\n",
        "### Chechking for the higher Joint Probability \n",
        "\n",
        "$$P(Spam\\,|\\, X)> \\, P(Ham\\, |\\, X)$$\n",
        "<center>OR</center>\n",
        "\n",
        "$$P(Spam\\,|\\, X)< \\, P(Ham\\, |\\, X)$$"
      ]
    },
    {
      "cell_type": "code",
      "metadata": {
        "id": "LrFJj9nm8TIW"
      },
      "source": [
        "prediction = joint_log_spam >joint_log_ham"
      ],
      "execution_count": 135,
      "outputs": []
    },
    {
      "cell_type": "code",
      "metadata": {
        "colab": {
          "base_uri": "https://localhost:8080/"
        },
        "id": "QIlDW1xmB4fZ",
        "outputId": "bbb7c408-edaf-40ca-efc8-bccfe7c65dbe"
      },
      "source": [
        "prediction[-5:]"
      ],
      "execution_count": 136,
      "outputs": [
        {
          "output_type": "execute_result",
          "data": {
            "text/plain": [
              "array([False, False, False, False, False])"
            ]
          },
          "metadata": {
            "tags": []
          },
          "execution_count": 136
        }
      ]
    },
    {
      "cell_type": "code",
      "metadata": {
        "colab": {
          "base_uri": "https://localhost:8080/"
        },
        "id": "zS1z29MSCHmc",
        "outputId": "cf57523c-167d-4a61-877c-ed22eaa0a17b"
      },
      "source": [
        "y_test[-5:]"
      ],
      "execution_count": 137,
      "outputs": [
        {
          "output_type": "execute_result",
          "data": {
            "text/plain": [
              "array([0., 0., 0., 0., 0.])"
            ]
          },
          "metadata": {
            "tags": []
          },
          "execution_count": 137
        }
      ]
    },
    {
      "cell_type": "markdown",
      "metadata": {
        "id": "f5iohYBTCu7j"
      },
      "source": [
        "### Simplify\n",
        "\n",
        "$$P(X\\, | \\, Spam )\\, P(Spam) != \\frac{P(X\\, | \\, Spam )\\, P(Spam)}{P(X)}$$"
      ]
    },
    {
      "cell_type": "code",
      "metadata": {
        "id": "rxjxS4TuB4iy"
      },
      "source": [
        "joint_log_spam = X_test.dot(np.log(prob_token_spam))+np.log(PROB_SPAM)\n",
        "joint_log_ham = X_test.dot(np.log(prob_token_ham))+np.log((1-PROB_SPAM))"
      ],
      "execution_count": 138,
      "outputs": []
    },
    {
      "cell_type": "markdown",
      "metadata": {
        "id": "1aHNV5f15vTv"
      },
      "source": [
        "## Metrics and Evaluation\n",
        "\n",
        "### accuracy"
      ]
    },
    {
      "cell_type": "code",
      "metadata": {
        "id": "r9mVM8MnB4mC"
      },
      "source": [
        "correct_docs = (y_test == prediction).sum()"
      ],
      "execution_count": 139,
      "outputs": []
    },
    {
      "cell_type": "code",
      "metadata": {
        "colab": {
          "base_uri": "https://localhost:8080/"
        },
        "id": "D5K9vA075yIs",
        "outputId": "7d3a705f-c88f-4419-868a-20c2581ff817"
      },
      "source": [
        "print('Docs correctly classified :', correct_docs)"
      ],
      "execution_count": 140,
      "outputs": [
        {
          "output_type": "stream",
          "text": [
            "Docs correctly classified : 1671\n"
          ],
          "name": "stdout"
        }
      ]
    },
    {
      "cell_type": "code",
      "metadata": {
        "id": "G_CS_5Sg5yLe"
      },
      "source": [
        "numdocs_wrong = X_test.shape[0]- correct_docs"
      ],
      "execution_count": 141,
      "outputs": []
    },
    {
      "cell_type": "code",
      "metadata": {
        "colab": {
          "base_uri": "https://localhost:8080/"
        },
        "id": "UGj-fcKF7zrR",
        "outputId": "8e31270c-9013-4fe5-8800-3e1d5a0a58ab"
      },
      "source": [
        "print('Docs incorrectly classified :', numdocs_wrong)"
      ],
      "execution_count": 142,
      "outputs": [
        {
          "output_type": "stream",
          "text": [
            "Docs incorrectly classified : 52\n"
          ],
          "name": "stdout"
        }
      ]
    },
    {
      "cell_type": "code",
      "metadata": {
        "colab": {
          "base_uri": "https://localhost:8080/"
        },
        "id": "KTEHE3Nt8zGk",
        "outputId": "5bc8dafa-79b4-4c58-c944-1f2efb458367"
      },
      "source": [
        "# Accuracy\n",
        "correct_docs/len(X_test)"
      ],
      "execution_count": 143,
      "outputs": [
        {
          "output_type": "execute_result",
          "data": {
            "text/plain": [
              "0.9698200812536274"
            ]
          },
          "metadata": {
            "tags": []
          },
          "execution_count": 143
        }
      ]
    },
    {
      "cell_type": "markdown",
      "metadata": {
        "id": "i1NttZYP9eFU"
      },
      "source": [
        "## Visualizing the Results"
      ]
    },
    {
      "cell_type": "code",
      "metadata": {
        "id": "bD3Q94e19ihR"
      },
      "source": [
        "yaxis_label= 'P(X|Spam)'\n",
        "xaxis_label = 'p(X|Nonspam)'\n",
        "\n",
        "linedata = np.linspace(-14000, 0, 1000)"
      ],
      "execution_count": 144,
      "outputs": []
    },
    {
      "cell_type": "code",
      "metadata": {
        "colab": {
          "base_uri": "https://localhost:8080/",
          "height": 410
        },
        "id": "jPng3zUA9i7_",
        "outputId": "5d965ee5-5aa3-4251-ab1a-019b3d152964"
      },
      "source": [
        "plt.figure(figsize=(11,7))\n",
        "plt.xlabel(xaxis_label, fontsize=14)\n",
        "plt.ylabel(yaxis_label, fontsize=14)\n",
        "\n",
        "plt.xlim([-14000, 1])\n",
        "plt.ylim([-14000, 1])\n",
        "plt.scatter(joint_log_ham, joint_log_spam, color='navy')\n",
        "plt.show()"
      ],
      "execution_count": 145,
      "outputs": [
        {
          "output_type": "display_data",
          "data": {
            "image/png": "[encoded data removed]",
            "text/plain": [
              "<Figure size 792x504 with 1 Axes>"
            ]
          },
          "metadata": {
            "tags": []
          }
        }
      ]
    },
    {
      "cell_type": "markdown",
      "metadata": {
        "id": "qNIhRF1kAWNK"
      },
      "source": [
        "## The Decision Boundary"
      ]
    },
    {
      "cell_type": "code",
      "metadata": {
        "colab": {
          "base_uri": "https://localhost:8080/",
          "height": 410
        },
        "id": "y_4nJV7E9jB6",
        "outputId": "1febbb68-3104-4da5-89ed-42c9bd0d4264"
      },
      "source": [
        "plt.figure(figsize=(11,7))\n",
        "\n",
        "plt.xlabel(xaxis_label, fontsize=14)\n",
        "plt.ylabel(yaxis_label, fontsize=14)\n",
        "\n",
        "plt.xlim([-14000, 1])\n",
        "plt.ylim([-14000, 1])\n",
        "plt.plot(linedata, linedata, color ='orange')\n",
        "plt.scatter(joint_log_ham, joint_log_spam, color='navy',alpha=0.5, s=25)\n",
        "\n",
        "\n",
        "plt.show()"
      ],
      "execution_count": 146,
      "outputs": [
        {
          "output_type": "display_data",
          "data": {
            "image/png": "[encoded data removed]",
            "text/plain": [
              "<Figure size 792x504 with 1 Axes>"
            ]
          },
          "metadata": {
            "tags": []
          }
        }
      ]
    },
    {
      "cell_type": "code",
      "metadata": {
        "colab": {
          "base_uri": "https://localhost:8080/",
          "height": 333
        },
        "id": "KLs0A_cv9jSJ",
        "outputId": "9f555b48-8cbf-4612-a370-1abebd645f86"
      },
      "source": [
        "plt.figure(figsize=(16,8))\n",
        "\n",
        "plt.subplot(1,2,1)\n",
        "plt.xlabel(xaxis_label, fontsize=14)\n",
        "plt.ylabel(yaxis_label, fontsize=14)\n",
        "\n",
        "plt.xlim([-14000, 1])\n",
        "plt.ylim([-14000, 1])\n",
        "plt.plot(linedata, linedata, color ='orange')\n",
        "plt.scatter(joint_log_ham, joint_log_spam, color='navy',alpha=0.5, s=25)\n",
        "\n",
        "plt.subplot(1,2,2)\n",
        "plt.xlabel(xaxis_label, fontsize=14)\n",
        "plt.ylabel(yaxis_label, fontsize=14)\n",
        "\n",
        "plt.xlim([-2000, 1])\n",
        "plt.ylim([-2000, 1])\n",
        "plt.plot(linedata, linedata, color ='orange')\n",
        "plt.scatter(joint_log_ham, joint_log_spam, color='navy',alpha=0.5, s=3)\n",
        "plt.show()"
      ],
      "execution_count": 147,
      "outputs": [
        {
          "output_type": "display_data",
          "data": {
            "image/png": "[encoded data removed]",
            "text/plain": [
              "<Figure size 1152x576 with 2 Axes>"
            ]
          },
          "metadata": {
            "tags": []
          }
        }
      ]
    },
    {
      "cell_type": "code",
      "metadata": {
        "id": "wpcWw73A9jVl"
      },
      "source": [
        "sns.set_style('whitegrid')\n",
        "labels ='Actual Category'\n",
        "\n",
        "summary_df = pd.DataFrame({yaxis_label:joint_log_spam, xaxis_label:joint_log_ham, labels:y_test})"
      ],
      "execution_count": 148,
      "outputs": []
    },
    {
      "cell_type": "code",
      "metadata": {
        "colab": {
          "base_uri": "https://localhost:8080/",
          "height": 600
        },
        "id": "UDju9IMWEmbL",
        "outputId": "418d8182-a013-4fcc-b240-56c6bfd5063c"
      },
      "source": [
        "colors = ['#7F9086', '#D26A1B']\n",
        "\n",
        "sns.lmplot(xaxis_label, yaxis_label, summary_df, size =6.5, fit_reg= False, legend=False,\n",
        "           scatter_kws= {'alpha':0.7,'s':15}, hue= labels, markers=(['o', 'x']),palette=colors)\n",
        "plt.xlim([-500,1])\n",
        "plt.ylim([-500,1])\n",
        "\n",
        "plt.plot(linedata, linedata, color ='black')\n",
        "plt.legend(('Decision Boundary','Nonspam','Spam'), loc ='lower right', fontsize=14)\n",
        "\n",
        "\n"
      ],
      "execution_count": 149,
      "outputs": [
        {
          "output_type": "stream",
          "text": [
            "/usr/local/lib/python3.6/dist-packages/seaborn/_decorators.py:43: FutureWarning: Pass the following variables as keyword args: x, y, data. From version 0.12, the only valid positional argument will be `data`, and passing other arguments without an explicit keyword will result in an error or misinterpretation.\n",
            "  FutureWarning\n",
            "/usr/local/lib/python3.6/dist-packages/seaborn/regression.py:580: UserWarning: The `size` parameter has been renamed to `height`; please update your code.\n",
            "  warnings.warn(msg, UserWarning)\n"
          ],
          "name": "stderr"
        },
        {
          "output_type": "execute_result",
          "data": {
            "text/plain": [
              "<matplotlib.legend.Legend at 0x7fb28fe22b00>"
            ]
          },
          "metadata": {
            "tags": []
          },
          "execution_count": 149
        },
        {
          "output_type": "display_data",
          "data": {
            "image/png": "[encoded data removed]",
            "text/plain": [
              "<Figure size 468x468 with 1 Axes>"
            ]
          },
          "metadata": {
            "tags": []
          }
        }
      ]
    },
    {
      "cell_type": "markdown",
      "metadata": {
        "id": "Hzv2tg5I7OH-"
      },
      "source": [
        "## False Positives and False Negatives"
      ]
    },
    {
      "cell_type": "code",
      "metadata": {
        "colab": {
          "base_uri": "https://localhost:8080/"
        },
        "id": "c6qDNdjw7UbC",
        "outputId": "bc65e088-eb2d-4c91-c78e-f7a5c6a6738d"
      },
      "source": [
        "np.unique(prediction, return_counts= True)"
      ],
      "execution_count": 150,
      "outputs": [
        {
          "output_type": "execute_result",
          "data": {
            "text/plain": [
              "(array([False,  True]), array([1163,  560]))"
            ]
          },
          "metadata": {
            "tags": []
          },
          "execution_count": 150
        }
      ]
    },
    {
      "cell_type": "code",
      "metadata": {
        "colab": {
          "base_uri": "https://localhost:8080/"
        },
        "id": "k_RPRJkC7U6i",
        "outputId": "3cde1cf1-48c6-457a-f088-93ce640c84d4"
      },
      "source": [
        "true_pos = (y_test == 1) & (prediction==1)\n",
        "true_pos.sum()"
      ],
      "execution_count": 151,
      "outputs": [
        {
          "output_type": "execute_result",
          "data": {
            "text/plain": [
              "548"
            ]
          },
          "metadata": {
            "tags": []
          },
          "execution_count": 151
        }
      ]
    },
    {
      "cell_type": "code",
      "metadata": {
        "colab": {
          "base_uri": "https://localhost:8080/"
        },
        "id": "0TXOCxYb8Rkb",
        "outputId": "327c1068-0806-446a-e7b0-de5d46680f9a"
      },
      "source": [
        "false_pos=(y_test == 0) & (prediction==1)\n",
        "false_pos.sum()"
      ],
      "execution_count": 152,
      "outputs": [
        {
          "output_type": "execute_result",
          "data": {
            "text/plain": [
              "12"
            ]
          },
          "metadata": {
            "tags": []
          },
          "execution_count": 152
        }
      ]
    },
    {
      "cell_type": "code",
      "metadata": {
        "colab": {
          "base_uri": "https://localhost:8080/"
        },
        "id": "04OfRZ6d7VEN",
        "outputId": "715baf29-22b3-410b-9fae-63c67378fe56"
      },
      "source": [
        "false_neg = (y_test == 1) & (prediction==0)\n",
        "false_neg.sum()"
      ],
      "execution_count": 153,
      "outputs": [
        {
          "output_type": "execute_result",
          "data": {
            "text/plain": [
              "40"
            ]
          },
          "metadata": {
            "tags": []
          },
          "execution_count": 153
        }
      ]
    },
    {
      "cell_type": "markdown",
      "metadata": {
        "id": "skg7anY-NMyH"
      },
      "source": [
        "## Recall Score"
      ]
    },
    {
      "cell_type": "code",
      "metadata": {
        "colab": {
          "base_uri": "https://localhost:8080/"
        },
        "id": "fi_A0kauNPfK",
        "outputId": "5f550854-7d88-4078-a6f9-d1499a13d98e"
      },
      "source": [
        "recall_score = true_pos.sum()/(true_pos.sum()+false_neg.sum())\n",
        "recall_score"
      ],
      "execution_count": 154,
      "outputs": [
        {
          "output_type": "execute_result",
          "data": {
            "text/plain": [
              "0.9319727891156463"
            ]
          },
          "metadata": {
            "tags": []
          },
          "execution_count": 154
        }
      ]
    },
    {
      "cell_type": "code",
      "metadata": {
        "colab": {
          "base_uri": "https://localhost:8080/"
        },
        "id": "czX4Jx7DNrk1",
        "outputId": "88b9606b-28ed-4de0-ad52-8114eca1603d"
      },
      "source": [
        "print(round(recall_score*100, 2))"
      ],
      "execution_count": 155,
      "outputs": [
        {
          "output_type": "stream",
          "text": [
            "93.2\n"
          ],
          "name": "stdout"
        }
      ]
    },
    {
      "cell_type": "markdown",
      "metadata": {
        "id": "4icod9pUQFo1"
      },
      "source": [
        "## Precision Score"
      ]
    },
    {
      "cell_type": "code",
      "metadata": {
        "colab": {
          "base_uri": "https://localhost:8080/"
        },
        "id": "-li1cI0OQKAe",
        "outputId": "2ebb01bf-4b0a-4d63-815f-1e5c52134737"
      },
      "source": [
        "precision_score =true_pos.sum()/(true_pos.sum()+false_pos.sum())\n",
        "print('Precision Score is {:.2%}'.format(precision_score))"
      ],
      "execution_count": 156,
      "outputs": [
        {
          "output_type": "stream",
          "text": [
            "Precision Score is 97.86%\n"
          ],
          "name": "stdout"
        }
      ]
    },
    {
      "cell_type": "markdown",
      "metadata": {
        "id": "cbK_Z9moRgl6"
      },
      "source": [
        "##F-Score"
      ]
    },
    {
      "cell_type": "code",
      "metadata": {
        "colab": {
          "base_uri": "https://localhost:8080/"
        },
        "id": "d9-KInTnRjU8",
        "outputId": "b8a9bff7-23a1-4e2b-8d5a-45d5de3b334f"
      },
      "source": [
        "f1_score = 2*recall_score*precision_score /(recall_score+precision_score)\n",
        "f1_score"
      ],
      "execution_count": 157,
      "outputs": [
        {
          "output_type": "execute_result",
          "data": {
            "text/plain": [
              "0.9547038327526133"
            ]
          },
          "metadata": {
            "tags": []
          },
          "execution_count": 157
        }
      ]
    },
    {
      "cell_type": "markdown",
      "metadata": {
        "id": "lzx1IFeG81FE"
      },
      "source": [
        "# Naive Bayes with Sciki Learn"
      ]
    },
    {
      "cell_type": "code",
      "metadata": {
        "id": "Q96zkGRCRjb6"
      },
      "source": [
        "DATA_JSON_FILE = '01_Processing/email-text-data.json'"
      ],
      "execution_count": 165,
      "outputs": []
    },
    {
      "cell_type": "code",
      "metadata": {
        "colab": {
          "base_uri": "https://localhost:8080/"
        },
        "id": "H2Cd9COj-2zI",
        "outputId": "add13dfd-f37a-4006-c56c-8e26da7ab544"
      },
      "source": [
        "!pwd"
      ],
      "execution_count": 163,
      "outputs": [
        {
          "output_type": "stream",
          "text": [
            "/content/SpamData\n"
          ],
          "name": "stdout"
        }
      ]
    },
    {
      "cell_type": "code",
      "metadata": {
        "colab": {
          "base_uri": "https://localhost:8080/"
        },
        "id": "f2zkDXl49RJB",
        "outputId": "849b66b7-8825-4b85-a05a-12c1df9aaebc"
      },
      "source": [
        "print(os.path.isfile(DATA_JSON_FILE))\n",
        "if os.path.isfile(DATA_JSON_FILE):\n",
        "    \n",
        "    data = pd.read_json(DATA_JSON_FILE)"
      ],
      "execution_count": 166,
      "outputs": [
        {
          "output_type": "stream",
          "text": [
            "True\n"
          ],
          "name": "stdout"
        }
      ]
    },
    {
      "cell_type": "code",
      "metadata": {
        "colab": {
          "base_uri": "https://localhost:8080/"
        },
        "id": "leL4oPMX9RPG",
        "outputId": "73e63910-cb1c-48a8-86ee-c08034999224"
      },
      "source": [
        "data.shape"
      ],
      "execution_count": 167,
      "outputs": [
        {
          "output_type": "execute_result",
          "data": {
            "text/plain": [
              "(5796, 3)"
            ]
          },
          "metadata": {
            "tags": []
          },
          "execution_count": 167
        }
      ]
    },
    {
      "cell_type": "code",
      "metadata": {
        "colab": {
          "base_uri": "https://localhost:8080/",
          "height": 204
        },
        "id": "MfSkZb7xCMJ4",
        "outputId": "e32acf56-5a23-4899-c2f2-5cbb2a61ed97"
      },
      "source": [
        "data.sort_index(inplace= True)\n",
        "data.tail()"
      ],
      "execution_count": 169,
      "outputs": [
        {
          "output_type": "execute_result",
          "data": {
            "text/html": [
              "<div>\n",
              "<style scoped>\n",
              "    .dataframe tbody tr th:only-of-type {\n",
              "        vertical-align: middle;\n",
              "    }\n",
              "\n",
              "    .dataframe tbody tr th {\n",
              "        vertical-align: top;\n",
              "    }\n",
              "\n",
              "    .dataframe thead th {\n",
              "        text-align: right;\n",
              "    }\n",
              "</style>\n",
              "<table border=\"1\" class=\"dataframe\">\n",
              "  <thead>\n",
              "    <tr style=\"text-align: right;\">\n",
              "      <th></th>\n",
              "      <th>CATEGORY</th>\n",
              "      <th>MESSAGE</th>\n",
              "      <th>FILE_NAME</th>\n",
              "    </tr>\n",
              "  </thead>\n",
              "  <tbody>\n",
              "    <tr>\n",
              "      <th>5791</th>\n",
              "      <td>0</td>\n",
              "      <td>I'm one of the 30,000 but it's not working ver...</td>\n",
              "      <td>00609.dd49926ce94a1ea328cce9b62825bc97</td>\n",
              "    </tr>\n",
              "    <tr>\n",
              "      <th>5792</th>\n",
              "      <td>0</td>\n",
              "      <td>Damien Morton quoted:\\n\\n&gt;W3C approves HTML 4 ...</td>\n",
              "      <td>00957.e0b56b117f3ec5f85e432a9d2a47801f</td>\n",
              "    </tr>\n",
              "    <tr>\n",
              "      <th>5793</th>\n",
              "      <td>0</td>\n",
              "      <td>On Mon, 2002-07-22 at 06:50, che wrote:\\n\\n\\n\\...</td>\n",
              "      <td>01127.841233b48eceb74a825417d8d918abf8</td>\n",
              "    </tr>\n",
              "    <tr>\n",
              "      <th>5794</th>\n",
              "      <td>0</td>\n",
              "      <td>Once upon a time, Manfred wrote :\\n\\n\\n\\n&gt; I w...</td>\n",
              "      <td>01178.5c977dff972cd6eef64d4173b90307f0</td>\n",
              "    </tr>\n",
              "    <tr>\n",
              "      <th>5795</th>\n",
              "      <td>0</td>\n",
              "      <td>If you run Pick, and then use the \"New FTOC\" b...</td>\n",
              "      <td>00747.352d424267d36975a7b40b85ffd0885e</td>\n",
              "    </tr>\n",
              "  </tbody>\n",
              "</table>\n",
              "</div>"
            ],
            "text/plain": [
              "      CATEGORY  ...                               FILE_NAME\n",
              "5791         0  ...  00609.dd49926ce94a1ea328cce9b62825bc97\n",
              "5792         0  ...  00957.e0b56b117f3ec5f85e432a9d2a47801f\n",
              "5793         0  ...  01127.841233b48eceb74a825417d8d918abf8\n",
              "5794         0  ...  01178.5c977dff972cd6eef64d4173b90307f0\n",
              "5795         0  ...  00747.352d424267d36975a7b40b85ffd0885e\n",
              "\n",
              "[5 rows x 3 columns]"
            ]
          },
          "metadata": {
            "tags": []
          },
          "execution_count": 169
        }
      ]
    },
    {
      "cell_type": "code",
      "metadata": {
        "id": "_eEK-HdeCh8F"
      },
      "source": [
        "from sklearn.feature_extraction.text import CountVectorizer\n",
        "from sklearn.model_selection import train_test_split\n",
        "from sklearn.naive_bayes import MultinomialNB\n",
        "\n",
        "from sklearn.metrics import recall_score\n",
        "from sklearn.metrics import precision_score\n",
        "from sklearn.metrics import f1_score"
      ],
      "execution_count": 205,
      "outputs": []
    },
    {
      "cell_type": "code",
      "metadata": {
        "id": "1UJN7BFxCiUq"
      },
      "source": [
        "vectorizer = CountVectorizer(stop_words='english')\n"
      ],
      "execution_count": 174,
      "outputs": []
    },
    {
      "cell_type": "code",
      "metadata": {
        "colab": {
          "base_uri": "https://localhost:8080/"
        },
        "id": "BXKvuScrDz9l",
        "outputId": "89488bd8-0756-493e-8d40-f784a6011b8f"
      },
      "source": [
        "all_features = vectorizer.fit_transform(data.MESSAGE)\n",
        "all_features.shape"
      ],
      "execution_count": 175,
      "outputs": [
        {
          "output_type": "execute_result",
          "data": {
            "text/plain": [
              "(5796, 102694)"
            ]
          },
          "metadata": {
            "tags": []
          },
          "execution_count": 175
        }
      ]
    },
    {
      "cell_type": "code",
      "metadata": {
        "id": "ZQXT5rrwEKnU"
      },
      "source": [
        "# vectorizer.vocabulary_"
      ],
      "execution_count": 177,
      "outputs": []
    },
    {
      "cell_type": "code",
      "metadata": {
        "id": "EOTtjM-ZEKuT"
      },
      "source": [
        "X_train, X_test, y_train,y_test = train_test_split(all_features, data.CATEGORY, test_size=0.3, random_state=88)"
      ],
      "execution_count": 181,
      "outputs": []
    },
    {
      "cell_type": "code",
      "metadata": {
        "colab": {
          "base_uri": "https://localhost:8080/"
        },
        "id": "jelwqJlnEKzP",
        "outputId": "f7affa9f-593f-4363-a82c-cc45f5847a48"
      },
      "source": [
        "X_train.shape"
      ],
      "execution_count": 182,
      "outputs": [
        {
          "output_type": "execute_result",
          "data": {
            "text/plain": [
              "(4057, 102694)"
            ]
          },
          "metadata": {
            "tags": []
          },
          "execution_count": 182
        }
      ]
    },
    {
      "cell_type": "code",
      "metadata": {
        "colab": {
          "base_uri": "https://localhost:8080/"
        },
        "id": "O9e51taTEK2w",
        "outputId": "8e87a800-9a0f-4d92-bbc5-e73f3c01d488"
      },
      "source": [
        "X_test.shape"
      ],
      "execution_count": 183,
      "outputs": [
        {
          "output_type": "execute_result",
          "data": {
            "text/plain": [
              "(1739, 102694)"
            ]
          },
          "metadata": {
            "tags": []
          },
          "execution_count": 183
        }
      ]
    },
    {
      "cell_type": "code",
      "metadata": {
        "id": "SRbAMPpLFE7A"
      },
      "source": [
        "classifier = MultinomialNB()"
      ],
      "execution_count": 191,
      "outputs": []
    },
    {
      "cell_type": "code",
      "metadata": {
        "colab": {
          "base_uri": "https://localhost:8080/"
        },
        "id": "bglw9soZFFB5",
        "outputId": "de0858f1-fb95-4b2a-9d25-0c8a3eb37053"
      },
      "source": [
        "classifier.fit(X_train, y_train)"
      ],
      "execution_count": 192,
      "outputs": [
        {
          "output_type": "execute_result",
          "data": {
            "text/plain": [
              "MultinomialNB(alpha=1.0, class_prior=None, fit_prior=True)"
            ]
          },
          "metadata": {
            "tags": []
          },
          "execution_count": 192
        }
      ]
    },
    {
      "cell_type": "code",
      "metadata": {
        "colab": {
          "base_uri": "https://localhost:8080/"
        },
        "id": "99IXU6mmFFGy",
        "outputId": "f13293f8-7f7a-43be-9093-0b1b2219d2b0"
      },
      "source": [
        "nr_correct = (y_test == classifier.predict(X_test)).sum() \n",
        "nr_correct"
      ],
      "execution_count": 195,
      "outputs": [
        {
          "output_type": "execute_result",
          "data": {
            "text/plain": [
              "1660"
            ]
          },
          "metadata": {
            "tags": []
          },
          "execution_count": 195
        }
      ]
    },
    {
      "cell_type": "code",
      "metadata": {
        "colab": {
          "base_uri": "https://localhost:8080/"
        },
        "id": "trS141NLFFK2",
        "outputId": "247b9bad-54ca-46bc-c57a-585617c7aec4"
      },
      "source": [
        "nr_incorrect = y_test.size - nr_correct  \n",
        "print(f'{nr_incorrect} documents classified incorrectly')"
      ],
      "execution_count": 198,
      "outputs": [
        {
          "output_type": "stream",
          "text": [
            "79 documents classified incorrectly\n"
          ],
          "name": "stdout"
        }
      ]
    },
    {
      "cell_type": "code",
      "metadata": {
        "id": "_CXmDVdZIiiF"
      },
      "source": [
        ""
      ],
      "execution_count": null,
      "outputs": []
    },
    {
      "cell_type": "code",
      "metadata": {
        "colab": {
          "base_uri": "https://localhost:8080/"
        },
        "id": "wzGLbd_TIQPs",
        "outputId": "19bb6dfa-db7f-41cf-bba9-23f7b37c6a46"
      },
      "source": [
        "fraction_wrong = nr_incorrect / y_test.size\n",
        "print(f'test accuracy percent is {1-fraction_wrong:.2%}')"
      ],
      "execution_count": 203,
      "outputs": [
        {
          "output_type": "stream",
          "text": [
            "test accuracy percent is 95.46%\n"
          ],
          "name": "stdout"
        }
      ]
    },
    {
      "cell_type": "code",
      "metadata": {
        "colab": {
          "base_uri": "https://localhost:8080/"
        },
        "id": "HeTRH2DPIQst",
        "outputId": "e55c8a16-9c7b-4e69-8f03-977b898e627e"
      },
      "source": [
        "classifier.score(X_test, y_test)"
      ],
      "execution_count": 204,
      "outputs": [
        {
          "output_type": "execute_result",
          "data": {
            "text/plain": [
              "0.9545715928694652"
            ]
          },
          "metadata": {
            "tags": []
          },
          "execution_count": 204
        }
      ]
    },
    {
      "cell_type": "markdown",
      "metadata": {
        "id": "dgk5A_tpJMrp"
      },
      "source": [
        "### Recall and Precision Score"
      ]
    },
    {
      "cell_type": "code",
      "metadata": {
        "colab": {
          "base_uri": "https://localhost:8080/"
        },
        "id": "3lTdIBvTJT82",
        "outputId": "274f32ca-4534-4de4-bed2-331db1614113"
      },
      "source": [
        "recall_score(y_test, classifier.predict(X_test))"
      ],
      "execution_count": 206,
      "outputs": [
        {
          "output_type": "execute_result",
          "data": {
            "text/plain": [
              "0.8646209386281588"
            ]
          },
          "metadata": {
            "tags": []
          },
          "execution_count": 206
        }
      ]
    },
    {
      "cell_type": "code",
      "metadata": {
        "colab": {
          "base_uri": "https://localhost:8080/"
        },
        "id": "ILdSNJwOLZpz",
        "outputId": "fce319e3-dcff-4f9f-f52f-4f0cd7af4a35"
      },
      "source": [
        "precision_score(y_test, classifier.predict(X_test))"
      ],
      "execution_count": 207,
      "outputs": [
        {
          "output_type": "execute_result",
          "data": {
            "text/plain": [
              "0.9917184265010351"
            ]
          },
          "metadata": {
            "tags": []
          },
          "execution_count": 207
        }
      ]
    },
    {
      "cell_type": "code",
      "metadata": {
        "colab": {
          "base_uri": "https://localhost:8080/"
        },
        "id": "u3RsEHAqLZzX",
        "outputId": "242c4b2e-7965-4df3-9645-ae35bf745da1"
      },
      "source": [
        "f1_score(y_test, classifier.predict(X_test))"
      ],
      "execution_count": 209,
      "outputs": [
        {
          "output_type": "execute_result",
          "data": {
            "text/plain": [
              "0.9238187078109932"
            ]
          },
          "metadata": {
            "tags": []
          },
          "execution_count": 209
        }
      ]
    },
    {
      "cell_type": "code",
      "metadata": {
        "id": "E6uLUM4ByDmi"
      },
      "source": [
        "example =['get free viagra for free now',\n",
        "          'need a mortgage? Reply to arrange a call and get a quote',\n",
        "          'Could you help me with the project for tomorrow?',\n",
        "          'Hello John, how about a game of golf tomorrow?',\n",
        "          'A ski is a narrow strip of semi-rigid material worn underfoot to glide over snow']"
      ],
      "execution_count": 213,
      "outputs": []
    },
    {
      "cell_type": "code",
      "metadata": {
        "id": "tb_FaNlTybyO"
      },
      "source": [
        "doc_term_matrix = vectorizer.transform(example)"
      ],
      "execution_count": 214,
      "outputs": []
    },
    {
      "cell_type": "code",
      "metadata": {
        "colab": {
          "base_uri": "https://localhost:8080/"
        },
        "id": "dSaGqH-Byb2c",
        "outputId": "53323132-25fb-4e1f-db2c-5f4800a67714"
      },
      "source": [
        "classifier.predict(doc_term_matrix)"
      ],
      "execution_count": 215,
      "outputs": [
        {
          "output_type": "execute_result",
          "data": {
            "text/plain": [
              "array([1, 1, 0, 0, 0])"
            ]
          },
          "metadata": {
            "tags": []
          },
          "execution_count": 215
        }
      ]
    }
  ]
}