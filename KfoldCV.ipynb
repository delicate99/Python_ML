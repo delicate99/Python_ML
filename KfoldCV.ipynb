{
  "nbformat": 4,
  "nbformat_minor": 0,
  "metadata": {
    "colab": {
      "name": "KfoldCV.ipynb",
      "provenance": [],
      "toc_visible": true,
      "authorship_tag": "ABX9TyMSYqodtKfBxWFYVVvIpI2C",
      "include_colab_link": true
    },
    "kernelspec": {
      "name": "python3",
      "display_name": "Python 3"
    }
  },
  "cells": [
    {
      "cell_type": "markdown",
      "metadata": {
        "id": "view-in-github",
        "colab_type": "text"
      },
      "source": [
        "<a href=\"https://colab.research.google.com/github/delicate99/Python_ML/blob/main/KfoldCV.ipynb\" target=\"_parent\"><img src=\"https://colab.research.google.com/assets/colab-badge.svg\" alt=\"Open In Colab\"/></a>"
      ]
    },
    {
      "cell_type": "code",
      "metadata": {
        "id": "Cllk60LKIdIM"
      },
      "source": [
        "import numpy as np\n",
        "import pandas as pd\n",
        "import matplotlib.pyplot as plt\n",
        "import seaborn as sns\n",
        "\n",
        "from sklearn.model_selection import train_test_split\n",
        "from sklearn.preprocessing import StandardScaler\n",
        "from sklearn.linear_model import Ridge\n",
        "from sklearn.metrics import mean_squared_error\n",
        "from sklearn.model_selection import cross_val_score, cross_validate\n",
        "from sklearn.linear_model import ElasticNet\n",
        "from sklearn.model_selection import GridSearchCV"
      ],
      "execution_count": 14,
      "outputs": []
    },
    {
      "cell_type": "code",
      "metadata": {
        "colab": {
          "base_uri": "https://localhost:8080/",
          "height": 204
        },
        "id": "LnuI_zjEIioA",
        "outputId": "4c41f544-c246-47cf-ed87-588c2051960f"
      },
      "source": [
        "df= pd.read_csv('https://raw.githubusercontent.com/justmarkham/scikit-learn-videos/master/data/Advertising.csv')\n",
        "df.head(5)"
      ],
      "execution_count": 15,
      "outputs": [
        {
          "output_type": "execute_result",
          "data": {
            "text/html": [
              "<div>\n",
              "<style scoped>\n",
              "    .dataframe tbody tr th:only-of-type {\n",
              "        vertical-align: middle;\n",
              "    }\n",
              "\n",
              "    .dataframe tbody tr th {\n",
              "        vertical-align: top;\n",
              "    }\n",
              "\n",
              "    .dataframe thead th {\n",
              "        text-align: right;\n",
              "    }\n",
              "</style>\n",
              "<table border=\"1\" class=\"dataframe\">\n",
              "  <thead>\n",
              "    <tr style=\"text-align: right;\">\n",
              "      <th></th>\n",
              "      <th>Unnamed: 0</th>\n",
              "      <th>TV</th>\n",
              "      <th>Radio</th>\n",
              "      <th>Newspaper</th>\n",
              "      <th>Sales</th>\n",
              "    </tr>\n",
              "  </thead>\n",
              "  <tbody>\n",
              "    <tr>\n",
              "      <th>0</th>\n",
              "      <td>1</td>\n",
              "      <td>230.1</td>\n",
              "      <td>37.8</td>\n",
              "      <td>69.2</td>\n",
              "      <td>22.1</td>\n",
              "    </tr>\n",
              "    <tr>\n",
              "      <th>1</th>\n",
              "      <td>2</td>\n",
              "      <td>44.5</td>\n",
              "      <td>39.3</td>\n",
              "      <td>45.1</td>\n",
              "      <td>10.4</td>\n",
              "    </tr>\n",
              "    <tr>\n",
              "      <th>2</th>\n",
              "      <td>3</td>\n",
              "      <td>17.2</td>\n",
              "      <td>45.9</td>\n",
              "      <td>69.3</td>\n",
              "      <td>9.3</td>\n",
              "    </tr>\n",
              "    <tr>\n",
              "      <th>3</th>\n",
              "      <td>4</td>\n",
              "      <td>151.5</td>\n",
              "      <td>41.3</td>\n",
              "      <td>58.5</td>\n",
              "      <td>18.5</td>\n",
              "    </tr>\n",
              "    <tr>\n",
              "      <th>4</th>\n",
              "      <td>5</td>\n",
              "      <td>180.8</td>\n",
              "      <td>10.8</td>\n",
              "      <td>58.4</td>\n",
              "      <td>12.9</td>\n",
              "    </tr>\n",
              "  </tbody>\n",
              "</table>\n",
              "</div>"
            ],
            "text/plain": [
              "   Unnamed: 0     TV  Radio  Newspaper  Sales\n",
              "0           1  230.1   37.8       69.2   22.1\n",
              "1           2   44.5   39.3       45.1   10.4\n",
              "2           3   17.2   45.9       69.3    9.3\n",
              "3           4  151.5   41.3       58.5   18.5\n",
              "4           5  180.8   10.8       58.4   12.9"
            ]
          },
          "metadata": {
            "tags": []
          },
          "execution_count": 15
        }
      ]
    },
    {
      "cell_type": "code",
      "metadata": {
        "id": "v60ywfBIIiry"
      },
      "source": [
        "X= df.drop('Sales', axis=1)\n",
        "y= df.Sales"
      ],
      "execution_count": 16,
      "outputs": []
    },
    {
      "cell_type": "code",
      "metadata": {
        "id": "imS59C-lIizp"
      },
      "source": [
        "X_train, X_test, y_train, y_test = train_test_split(X, y, test_size=0.3, random_state=101)"
      ],
      "execution_count": 17,
      "outputs": []
    },
    {
      "cell_type": "code",
      "metadata": {
        "id": "a5MFhTJ6Ii4B"
      },
      "source": [
        "scaler = StandardScaler()"
      ],
      "execution_count": 18,
      "outputs": []
    },
    {
      "cell_type": "code",
      "metadata": {
        "colab": {
          "base_uri": "https://localhost:8080/"
        },
        "id": "8EZVh7dEIsu0",
        "outputId": "64b59712-95b4-4f1e-c5ad-416a3bd5e628"
      },
      "source": [
        "scaler.fit(X_train)"
      ],
      "execution_count": 19,
      "outputs": [
        {
          "output_type": "execute_result",
          "data": {
            "text/plain": [
              "StandardScaler(copy=True, with_mean=True, with_std=True)"
            ]
          },
          "metadata": {
            "tags": []
          },
          "execution_count": 19
        }
      ]
    },
    {
      "cell_type": "code",
      "metadata": {
        "id": "CXccCnk_Isxi"
      },
      "source": [
        "X_train = scaler.transform(X_train)"
      ],
      "execution_count": 20,
      "outputs": []
    },
    {
      "cell_type": "code",
      "metadata": {
        "id": "9h6uzbmjIs0E"
      },
      "source": [
        "X_test =scaler.transform(X_test)"
      ],
      "execution_count": 21,
      "outputs": []
    },
    {
      "cell_type": "code",
      "metadata": {
        "id": "3N8f7P8aIs9k"
      },
      "source": [
        "model= Ridge(alpha =100)"
      ],
      "execution_count": 22,
      "outputs": []
    },
    {
      "cell_type": "code",
      "metadata": {
        "id": "9F-N9u8yJp6I"
      },
      "source": [
        "score =cross_val_score(model, X_train, y_train, scoring ='neg_mean_squared_error', cv=5)"
      ],
      "execution_count": 23,
      "outputs": []
    },
    {
      "cell_type": "code",
      "metadata": {
        "colab": {
          "base_uri": "https://localhost:8080/"
        },
        "id": "606TmjqXJqCd",
        "outputId": "337179bc-e4b6-4582-c332-9cfa7e9ea0dc"
      },
      "source": [
        "score"
      ],
      "execution_count": 24,
      "outputs": [
        {
          "output_type": "execute_result",
          "data": {
            "text/plain": [
              "array([ -9.46077895,  -4.99113998, -11.41979353,  -7.02510055,\n",
              "        -8.4068186 ])"
            ]
          },
          "metadata": {
            "tags": []
          },
          "execution_count": 24
        }
      ]
    },
    {
      "cell_type": "code",
      "metadata": {
        "colab": {
          "base_uri": "https://localhost:8080/"
        },
        "id": "n9euwdbYKicy",
        "outputId": "2602cbd3-fa5a-46e1-d0fb-a3d33307a299"
      },
      "source": [
        "abs(score.mean())"
      ],
      "execution_count": 25,
      "outputs": [
        {
          "output_type": "execute_result",
          "data": {
            "text/plain": [
              "8.260726318542556"
            ]
          },
          "metadata": {
            "tags": []
          },
          "execution_count": 25
        }
      ]
    },
    {
      "cell_type": "code",
      "metadata": {
        "id": "UjdWql9DKiqo"
      },
      "source": [
        "model= Ridge(alpha =1)"
      ],
      "execution_count": 26,
      "outputs": []
    },
    {
      "cell_type": "code",
      "metadata": {
        "id": "WmU-50C1Kzvp"
      },
      "source": [
        "score =cross_val_score(model, X_train, y_train, scoring ='neg_mean_squared_error', cv=5)"
      ],
      "execution_count": 27,
      "outputs": []
    },
    {
      "cell_type": "code",
      "metadata": {
        "colab": {
          "base_uri": "https://localhost:8080/"
        },
        "id": "Se3AjxEvK3Mp",
        "outputId": "474a2d56-2e6e-4030-abf6-933b5fe18aaf"
      },
      "source": [
        "abs(score.mean())"
      ],
      "execution_count": 28,
      "outputs": [
        {
          "output_type": "execute_result",
          "data": {
            "text/plain": [
              "3.35824045994748"
            ]
          },
          "metadata": {
            "tags": []
          },
          "execution_count": 28
        }
      ]
    },
    {
      "cell_type": "code",
      "metadata": {
        "colab": {
          "base_uri": "https://localhost:8080/"
        },
        "id": "du3EorqzLdna",
        "outputId": "65aea8cc-aea2-44ec-9ead-950e78fdfdba"
      },
      "source": [
        "model.fit(X_train, y_train)"
      ],
      "execution_count": 29,
      "outputs": [
        {
          "output_type": "execute_result",
          "data": {
            "text/plain": [
              "Ridge(alpha=1, copy_X=True, fit_intercept=True, max_iter=None, normalize=False,\n",
              "      random_state=None, solver='auto', tol=0.001)"
            ]
          },
          "metadata": {
            "tags": []
          },
          "execution_count": 29
        }
      ]
    },
    {
      "cell_type": "code",
      "metadata": {
        "id": "A8IYIaCFLdtn"
      },
      "source": [
        "y_pred_final= model.predict(X_test)"
      ],
      "execution_count": 30,
      "outputs": []
    },
    {
      "cell_type": "code",
      "metadata": {
        "colab": {
          "base_uri": "https://localhost:8080/"
        },
        "id": "OraG4ndlLtc3",
        "outputId": "033184c6-32e8-44f3-e2ff-acd079f7045b"
      },
      "source": [
        "mean_squared_error(y_test, y_pred_final)"
      ],
      "execution_count": 31,
      "outputs": [
        {
          "output_type": "execute_result",
          "data": {
            "text/plain": [
              "2.4135807641416784"
            ]
          },
          "metadata": {
            "tags": []
          },
          "execution_count": 31
        }
      ]
    },
    {
      "cell_type": "code",
      "metadata": {
        "id": "BWgAvuFwMcI_"
      },
      "source": [
        "score =cross_validate(model, X_train, y_train, scoring =['neg_mean_squared_error','neg_mean_absolute_error'], cv=10)"
      ],
      "execution_count": 32,
      "outputs": []
    },
    {
      "cell_type": "code",
      "metadata": {
        "id": "O0m9O-neMcT_"
      },
      "source": [
        "scores =pd.DataFrame(score)"
      ],
      "execution_count": 33,
      "outputs": []
    },
    {
      "cell_type": "code",
      "metadata": {
        "colab": {
          "base_uri": "https://localhost:8080/",
          "height": 359
        },
        "id": "NRkEJV1kMcY8",
        "outputId": "067fa34e-5d21-4fb4-ef01-a6bf325f47a9"
      },
      "source": [
        "scores"
      ],
      "execution_count": 34,
      "outputs": [
        {
          "output_type": "execute_result",
          "data": {
            "text/html": [
              "<div>\n",
              "<style scoped>\n",
              "    .dataframe tbody tr th:only-of-type {\n",
              "        vertical-align: middle;\n",
              "    }\n",
              "\n",
              "    .dataframe tbody tr th {\n",
              "        vertical-align: top;\n",
              "    }\n",
              "\n",
              "    .dataframe thead th {\n",
              "        text-align: right;\n",
              "    }\n",
              "</style>\n",
              "<table border=\"1\" class=\"dataframe\">\n",
              "  <thead>\n",
              "    <tr style=\"text-align: right;\">\n",
              "      <th></th>\n",
              "      <th>fit_time</th>\n",
              "      <th>score_time</th>\n",
              "      <th>test_neg_mean_squared_error</th>\n",
              "      <th>test_neg_mean_absolute_error</th>\n",
              "    </tr>\n",
              "  </thead>\n",
              "  <tbody>\n",
              "    <tr>\n",
              "      <th>0</th>\n",
              "      <td>0.001467</td>\n",
              "      <td>0.004648</td>\n",
              "      <td>-2.876054</td>\n",
              "      <td>-1.440573</td>\n",
              "    </tr>\n",
              "    <tr>\n",
              "      <th>1</th>\n",
              "      <td>0.001611</td>\n",
              "      <td>0.000578</td>\n",
              "      <td>-3.395931</td>\n",
              "      <td>-1.613269</td>\n",
              "    </tr>\n",
              "    <tr>\n",
              "      <th>2</th>\n",
              "      <td>0.000926</td>\n",
              "      <td>0.000617</td>\n",
              "      <td>-2.114775</td>\n",
              "      <td>-1.217058</td>\n",
              "    </tr>\n",
              "    <tr>\n",
              "      <th>3</th>\n",
              "      <td>0.000710</td>\n",
              "      <td>0.000623</td>\n",
              "      <td>-0.819543</td>\n",
              "      <td>-0.796995</td>\n",
              "    </tr>\n",
              "    <tr>\n",
              "      <th>4</th>\n",
              "      <td>0.000738</td>\n",
              "      <td>0.000668</td>\n",
              "      <td>-3.572297</td>\n",
              "      <td>-1.420258</td>\n",
              "    </tr>\n",
              "    <tr>\n",
              "      <th>5</th>\n",
              "      <td>0.000717</td>\n",
              "      <td>0.000613</td>\n",
              "      <td>-8.107810</td>\n",
              "      <td>-1.485559</td>\n",
              "    </tr>\n",
              "    <tr>\n",
              "      <th>6</th>\n",
              "      <td>0.000700</td>\n",
              "      <td>0.000656</td>\n",
              "      <td>-1.781995</td>\n",
              "      <td>-1.033155</td>\n",
              "    </tr>\n",
              "    <tr>\n",
              "      <th>7</th>\n",
              "      <td>0.000711</td>\n",
              "      <td>0.000603</td>\n",
              "      <td>-2.704369</td>\n",
              "      <td>-1.241214</td>\n",
              "    </tr>\n",
              "    <tr>\n",
              "      <th>8</th>\n",
              "      <td>0.000672</td>\n",
              "      <td>0.000657</td>\n",
              "      <td>-5.200050</td>\n",
              "      <td>-1.622663</td>\n",
              "    </tr>\n",
              "    <tr>\n",
              "      <th>9</th>\n",
              "      <td>0.000920</td>\n",
              "      <td>0.000596</td>\n",
              "      <td>-2.847027</td>\n",
              "      <td>-1.168318</td>\n",
              "    </tr>\n",
              "  </tbody>\n",
              "</table>\n",
              "</div>"
            ],
            "text/plain": [
              "   fit_time  ...  test_neg_mean_absolute_error\n",
              "0  0.001467  ...                     -1.440573\n",
              "1  0.001611  ...                     -1.613269\n",
              "2  0.000926  ...                     -1.217058\n",
              "3  0.000710  ...                     -0.796995\n",
              "4  0.000738  ...                     -1.420258\n",
              "5  0.000717  ...                     -1.485559\n",
              "6  0.000700  ...                     -1.033155\n",
              "7  0.000711  ...                     -1.241214\n",
              "8  0.000672  ...                     -1.622663\n",
              "9  0.000920  ...                     -1.168318\n",
              "\n",
              "[10 rows x 4 columns]"
            ]
          },
          "metadata": {
            "tags": []
          },
          "execution_count": 34
        }
      ]
    },
    {
      "cell_type": "code",
      "metadata": {
        "colab": {
          "base_uri": "https://localhost:8080/"
        },
        "id": "D27ir2BGNzrH",
        "outputId": "c450a05e-626e-4be1-f7ed-17bf6d675685"
      },
      "source": [
        "scores.mean()"
      ],
      "execution_count": 35,
      "outputs": [
        {
          "output_type": "execute_result",
          "data": {
            "text/plain": [
              "fit_time                        0.000917\n",
              "score_time                      0.001026\n",
              "test_neg_mean_squared_error    -3.341985\n",
              "test_neg_mean_absolute_error   -1.303906\n",
              "dtype: float64"
            ]
          },
          "metadata": {
            "tags": []
          },
          "execution_count": 35
        }
      ]
    },
    {
      "cell_type": "code",
      "metadata": {
        "colab": {
          "base_uri": "https://localhost:8080/"
        },
        "id": "-DItbEy7OJAA",
        "outputId": "29b64401-d55f-4657-d594-4511e918d5f4"
      },
      "source": [
        "model.fit(X_train,y_train)"
      ],
      "execution_count": 36,
      "outputs": [
        {
          "output_type": "execute_result",
          "data": {
            "text/plain": [
              "Ridge(alpha=1, copy_X=True, fit_intercept=True, max_iter=None, normalize=False,\n",
              "      random_state=None, solver='auto', tol=0.001)"
            ]
          },
          "metadata": {
            "tags": []
          },
          "execution_count": 36
        }
      ]
    },
    {
      "cell_type": "code",
      "metadata": {
        "id": "8SBZsIUnOMyg"
      },
      "source": [
        "y_pred = model.predict(X_test)"
      ],
      "execution_count": 37,
      "outputs": []
    },
    {
      "cell_type": "code",
      "metadata": {
        "colab": {
          "base_uri": "https://localhost:8080/"
        },
        "id": "dTJPRrrKOVMG",
        "outputId": "95375b73-3cf9-4dbe-c861-c8f5b06b27c2"
      },
      "source": [
        "mean_squared_error(y_test, y_pred)"
      ],
      "execution_count": 38,
      "outputs": [
        {
          "output_type": "execute_result",
          "data": {
            "text/plain": [
              "2.4135807641416784"
            ]
          },
          "metadata": {
            "tags": []
          },
          "execution_count": 38
        }
      ]
    },
    {
      "cell_type": "markdown",
      "metadata": {
        "id": "0TnJ5rV6ZiBJ"
      },
      "source": [
        "## Grid Search"
      ]
    },
    {
      "cell_type": "code",
      "metadata": {
        "id": "mqggmVaIZgVx"
      },
      "source": [
        "base_elastic_net_model = ElasticNet()"
      ],
      "execution_count": 39,
      "outputs": []
    },
    {
      "cell_type": "code",
      "metadata": {
        "id": "yrzfyCoRZgZB"
      },
      "source": [
        "param_grid = {'alpha':[0.1, 1, 5, 10, 50,100], 'l1_ratio':[0.1,0.5,0.7,.95, .99,1]}"
      ],
      "execution_count": 51,
      "outputs": []
    },
    {
      "cell_type": "code",
      "metadata": {
        "id": "Fhx2nCjMZgbt"
      },
      "source": [
        "grid_model = GridSearchCV(estimator = base_elastic_net_model, param_grid=param_grid, scoring='neg_mean_squared_error',\n",
        "                          verbose =1, cv =5)"
      ],
      "execution_count": 52,
      "outputs": []
    },
    {
      "cell_type": "code",
      "metadata": {
        "colab": {
          "base_uri": "https://localhost:8080/"
        },
        "id": "GHn85WVlZgeT",
        "outputId": "fcaa829e-30e3-4c8b-96d0-492d5966d16b"
      },
      "source": [
        "grid_model.fit(X_train, y_train)"
      ],
      "execution_count": 53,
      "outputs": [
        {
          "output_type": "stream",
          "text": [
            "Fitting 5 folds for each of 36 candidates, totalling 180 fits\n"
          ],
          "name": "stdout"
        },
        {
          "output_type": "stream",
          "text": [
            "[Parallel(n_jobs=1)]: Using backend SequentialBackend with 1 concurrent workers.\n",
            "[Parallel(n_jobs=1)]: Done 180 out of 180 | elapsed:    0.3s finished\n"
          ],
          "name": "stderr"
        },
        {
          "output_type": "execute_result",
          "data": {
            "text/plain": [
              "GridSearchCV(cv=5, error_score=nan,\n",
              "             estimator=ElasticNet(alpha=1.0, copy_X=True, fit_intercept=True,\n",
              "                                  l1_ratio=0.5, max_iter=1000, normalize=False,\n",
              "                                  positive=False, precompute=False,\n",
              "                                  random_state=None, selection='cyclic',\n",
              "                                  tol=0.0001, warm_start=False),\n",
              "             iid='deprecated', n_jobs=None,\n",
              "             param_grid={'alpha': [0.1, 1, 5, 10, 50, 100],\n",
              "                         'l1_ratio': [0.1, 0.5, 0.7, 0.95, 0.99, 1]},\n",
              "             pre_dispatch='2*n_jobs', refit=True, return_train_score=False,\n",
              "             scoring='neg_mean_squared_error', verbose=1)"
            ]
          },
          "metadata": {
            "tags": []
          },
          "execution_count": 53
        }
      ]
    },
    {
      "cell_type": "code",
      "metadata": {
        "colab": {
          "base_uri": "https://localhost:8080/"
        },
        "id": "mCt05DJSdBoW",
        "outputId": "25aa9559-7db8-4f66-87d4-a491dbe7e666"
      },
      "source": [
        "grid_model.best_estimator_"
      ],
      "execution_count": 54,
      "outputs": [
        {
          "output_type": "execute_result",
          "data": {
            "text/plain": [
              "ElasticNet(alpha=0.1, copy_X=True, fit_intercept=True, l1_ratio=1,\n",
              "           max_iter=1000, normalize=False, positive=False, precompute=False,\n",
              "           random_state=None, selection='cyclic', tol=0.0001, warm_start=False)"
            ]
          },
          "metadata": {
            "tags": []
          },
          "execution_count": 54
        }
      ]
    },
    {
      "cell_type": "code",
      "metadata": {
        "colab": {
          "base_uri": "https://localhost:8080/"
        },
        "id": "gfUTfqridPex",
        "outputId": "43a5ee4d-cbcd-4033-a43c-e85a17e8eb50"
      },
      "source": [
        "grid_model.best_params_"
      ],
      "execution_count": 55,
      "outputs": [
        {
          "output_type": "execute_result",
          "data": {
            "text/plain": [
              "{'alpha': 0.1, 'l1_ratio': 1}"
            ]
          },
          "metadata": {
            "tags": []
          },
          "execution_count": 55
        }
      ]
    },
    {
      "cell_type": "code",
      "metadata": {
        "colab": {
          "base_uri": "https://localhost:8080/",
          "height": 1000
        },
        "id": "nYF_0I0RddvL",
        "outputId": "64a10fea-a2da-4814-bdaf-e05d8f935adf"
      },
      "source": [
        "pd.DataFrame(grid_model.cv_results_)"
      ],
      "execution_count": 56,
      "outputs": [
        {
          "output_type": "execute_result",
          "data": {
            "text/html": [
              "<div>\n",
              "<style scoped>\n",
              "    .dataframe tbody tr th:only-of-type {\n",
              "        vertical-align: middle;\n",
              "    }\n",
              "\n",
              "    .dataframe tbody tr th {\n",
              "        vertical-align: top;\n",
              "    }\n",
              "\n",
              "    .dataframe thead th {\n",
              "        text-align: right;\n",
              "    }\n",
              "</style>\n",
              "<table border=\"1\" class=\"dataframe\">\n",
              "  <thead>\n",
              "    <tr style=\"text-align: right;\">\n",
              "      <th></th>\n",
              "      <th>mean_fit_time</th>\n",
              "      <th>std_fit_time</th>\n",
              "      <th>mean_score_time</th>\n",
              "      <th>std_score_time</th>\n",
              "      <th>param_alpha</th>\n",
              "      <th>param_l1_ratio</th>\n",
              "      <th>params</th>\n",
              "      <th>split0_test_score</th>\n",
              "      <th>split1_test_score</th>\n",
              "      <th>split2_test_score</th>\n",
              "      <th>split3_test_score</th>\n",
              "      <th>split4_test_score</th>\n",
              "      <th>mean_test_score</th>\n",
              "      <th>std_test_score</th>\n",
              "      <th>rank_test_score</th>\n",
              "    </tr>\n",
              "  </thead>\n",
              "  <tbody>\n",
              "    <tr>\n",
              "      <th>0</th>\n",
              "      <td>0.001169</td>\n",
              "      <td>0.000625</td>\n",
              "      <td>0.000471</td>\n",
              "      <td>0.000164</td>\n",
              "      <td>0.1</td>\n",
              "      <td>0.1</td>\n",
              "      <td>{'alpha': 0.1, 'l1_ratio': 0.1}</td>\n",
              "      <td>-3.546724</td>\n",
              "      <td>-1.381890</td>\n",
              "      <td>-5.740664</td>\n",
              "      <td>-2.149507</td>\n",
              "      <td>-4.749870</td>\n",
              "      <td>-3.513731</td>\n",
              "      <td>1.605878</td>\n",
              "      <td>6</td>\n",
              "    </tr>\n",
              "    <tr>\n",
              "      <th>1</th>\n",
              "      <td>0.000669</td>\n",
              "      <td>0.000016</td>\n",
              "      <td>0.000373</td>\n",
              "      <td>0.000010</td>\n",
              "      <td>0.1</td>\n",
              "      <td>0.5</td>\n",
              "      <td>{'alpha': 0.1, 'l1_ratio': 0.5}</td>\n",
              "      <td>-3.394053</td>\n",
              "      <td>-1.401407</td>\n",
              "      <td>-5.569151</td>\n",
              "      <td>-2.154947</td>\n",
              "      <td>-4.539475</td>\n",
              "      <td>-3.411807</td>\n",
              "      <td>1.519703</td>\n",
              "      <td>5</td>\n",
              "    </tr>\n",
              "    <tr>\n",
              "      <th>2</th>\n",
              "      <td>0.000659</td>\n",
              "      <td>0.000023</td>\n",
              "      <td>0.000361</td>\n",
              "      <td>0.000010</td>\n",
              "      <td>0.1</td>\n",
              "      <td>0.7</td>\n",
              "      <td>{'alpha': 0.1, 'l1_ratio': 0.7}</td>\n",
              "      <td>-3.326987</td>\n",
              "      <td>-1.418961</td>\n",
              "      <td>-5.487357</td>\n",
              "      <td>-2.163950</td>\n",
              "      <td>-4.436442</td>\n",
              "      <td>-3.366739</td>\n",
              "      <td>1.475358</td>\n",
              "      <td>4</td>\n",
              "    </tr>\n",
              "    <tr>\n",
              "      <th>3</th>\n",
              "      <td>0.000686</td>\n",
              "      <td>0.000044</td>\n",
              "      <td>0.000371</td>\n",
              "      <td>0.000022</td>\n",
              "      <td>0.1</td>\n",
              "      <td>0.95</td>\n",
              "      <td>{'alpha': 0.1, 'l1_ratio': 0.95}</td>\n",
              "      <td>-3.260909</td>\n",
              "      <td>-1.454707</td>\n",
              "      <td>-5.395304</td>\n",
              "      <td>-2.177452</td>\n",
              "      <td>-4.310840</td>\n",
              "      <td>-3.319842</td>\n",
              "      <td>1.419639</td>\n",
              "      <td>3</td>\n",
              "    </tr>\n",
              "    <tr>\n",
              "      <th>4</th>\n",
              "      <td>0.000662</td>\n",
              "      <td>0.000021</td>\n",
              "      <td>0.000377</td>\n",
              "      <td>0.000023</td>\n",
              "      <td>0.1</td>\n",
              "      <td>0.99</td>\n",
              "      <td>{'alpha': 0.1, 'l1_ratio': 0.99}</td>\n",
              "      <td>-3.253311</td>\n",
              "      <td>-1.461980</td>\n",
              "      <td>-5.380239</td>\n",
              "      <td>-2.181097</td>\n",
              "      <td>-4.291155</td>\n",
              "      <td>-3.313556</td>\n",
              "      <td>1.410057</td>\n",
              "      <td>2</td>\n",
              "    </tr>\n",
              "    <tr>\n",
              "      <th>5</th>\n",
              "      <td>0.000735</td>\n",
              "      <td>0.000075</td>\n",
              "      <td>0.000383</td>\n",
              "      <td>0.000037</td>\n",
              "      <td>0.1</td>\n",
              "      <td>1</td>\n",
              "      <td>{'alpha': 0.1, 'l1_ratio': 1}</td>\n",
              "      <td>-3.251470</td>\n",
              "      <td>-1.463869</td>\n",
              "      <td>-5.376255</td>\n",
              "      <td>-2.182076</td>\n",
              "      <td>-4.286254</td>\n",
              "      <td>-3.311985</td>\n",
              "      <td>1.407572</td>\n",
              "      <td>1</td>\n",
              "    </tr>\n",
              "    <tr>\n",
              "      <th>6</th>\n",
              "      <td>0.000693</td>\n",
              "      <td>0.000041</td>\n",
              "      <td>0.000374</td>\n",
              "      <td>0.000019</td>\n",
              "      <td>1</td>\n",
              "      <td>0.1</td>\n",
              "      <td>{'alpha': 1, 'l1_ratio': 0.1}</td>\n",
              "      <td>-9.905360</td>\n",
              "      <td>-5.283147</td>\n",
              "      <td>-11.875346</td>\n",
              "      <td>-7.449195</td>\n",
              "      <td>-8.546841</td>\n",
              "      <td>-8.611978</td>\n",
              "      <td>2.225301</td>\n",
              "      <td>12</td>\n",
              "    </tr>\n",
              "    <tr>\n",
              "      <th>7</th>\n",
              "      <td>0.000698</td>\n",
              "      <td>0.000042</td>\n",
              "      <td>0.000360</td>\n",
              "      <td>0.000021</td>\n",
              "      <td>1</td>\n",
              "      <td>0.5</td>\n",
              "      <td>{'alpha': 1, 'l1_ratio': 0.5}</td>\n",
              "      <td>-8.707071</td>\n",
              "      <td>-4.214228</td>\n",
              "      <td>-10.879261</td>\n",
              "      <td>-6.204545</td>\n",
              "      <td>-7.173031</td>\n",
              "      <td>-7.435627</td>\n",
              "      <td>2.255532</td>\n",
              "      <td>11</td>\n",
              "    </tr>\n",
              "    <tr>\n",
              "      <th>8</th>\n",
              "      <td>0.000827</td>\n",
              "      <td>0.000273</td>\n",
              "      <td>0.000354</td>\n",
              "      <td>0.000013</td>\n",
              "      <td>1</td>\n",
              "      <td>0.7</td>\n",
              "      <td>{'alpha': 1, 'l1_ratio': 0.7}</td>\n",
              "      <td>-7.920870</td>\n",
              "      <td>-3.549562</td>\n",
              "      <td>-10.024877</td>\n",
              "      <td>-5.379553</td>\n",
              "      <td>-6.324836</td>\n",
              "      <td>-6.639940</td>\n",
              "      <td>2.206213</td>\n",
              "      <td>10</td>\n",
              "    </tr>\n",
              "    <tr>\n",
              "      <th>9</th>\n",
              "      <td>0.000675</td>\n",
              "      <td>0.000014</td>\n",
              "      <td>0.000372</td>\n",
              "      <td>0.000012</td>\n",
              "      <td>1</td>\n",
              "      <td>0.95</td>\n",
              "      <td>{'alpha': 1, 'l1_ratio': 0.95}</td>\n",
              "      <td>-6.729435</td>\n",
              "      <td>-2.591285</td>\n",
              "      <td>-8.709842</td>\n",
              "      <td>-4.156317</td>\n",
              "      <td>-5.329916</td>\n",
              "      <td>-5.503359</td>\n",
              "      <td>2.102835</td>\n",
              "      <td>9</td>\n",
              "    </tr>\n",
              "    <tr>\n",
              "      <th>10</th>\n",
              "      <td>0.000682</td>\n",
              "      <td>0.000012</td>\n",
              "      <td>0.000375</td>\n",
              "      <td>0.000034</td>\n",
              "      <td>1</td>\n",
              "      <td>0.99</td>\n",
              "      <td>{'alpha': 1, 'l1_ratio': 0.99}</td>\n",
              "      <td>-6.521344</td>\n",
              "      <td>-2.431385</td>\n",
              "      <td>-8.471086</td>\n",
              "      <td>-3.946327</td>\n",
              "      <td>-5.151344</td>\n",
              "      <td>-5.304297</td>\n",
              "      <td>2.079945</td>\n",
              "      <td>8</td>\n",
              "    </tr>\n",
              "    <tr>\n",
              "      <th>11</th>\n",
              "      <td>0.000671</td>\n",
              "      <td>0.000016</td>\n",
              "      <td>0.000365</td>\n",
              "      <td>0.000011</td>\n",
              "      <td>1</td>\n",
              "      <td>1</td>\n",
              "      <td>{'alpha': 1, 'l1_ratio': 1}</td>\n",
              "      <td>-6.468807</td>\n",
              "      <td>-2.391483</td>\n",
              "      <td>-8.410171</td>\n",
              "      <td>-3.893566</td>\n",
              "      <td>-5.105922</td>\n",
              "      <td>-5.253990</td>\n",
              "      <td>2.073832</td>\n",
              "      <td>7</td>\n",
              "    </tr>\n",
              "    <tr>\n",
              "      <th>12</th>\n",
              "      <td>0.000699</td>\n",
              "      <td>0.000015</td>\n",
              "      <td>0.000360</td>\n",
              "      <td>0.000014</td>\n",
              "      <td>5</td>\n",
              "      <td>0.1</td>\n",
              "      <td>{'alpha': 5, 'l1_ratio': 0.1}</td>\n",
              "      <td>-22.979265</td>\n",
              "      <td>-15.547104</td>\n",
              "      <td>-23.668249</td>\n",
              "      <td>-19.921063</td>\n",
              "      <td>-16.262737</td>\n",
              "      <td>-19.675684</td>\n",
              "      <td>3.334901</td>\n",
              "      <td>13</td>\n",
              "    </tr>\n",
              "    <tr>\n",
              "      <th>13</th>\n",
              "      <td>0.000685</td>\n",
              "      <td>0.000044</td>\n",
              "      <td>0.000376</td>\n",
              "      <td>0.000025</td>\n",
              "      <td>5</td>\n",
              "      <td>0.5</td>\n",
              "      <td>{'alpha': 5, 'l1_ratio': 0.5}</td>\n",
              "      <td>-27.793488</td>\n",
              "      <td>-18.602269</td>\n",
              "      <td>-27.107849</td>\n",
              "      <td>-23.945227</td>\n",
              "      <td>-18.064635</td>\n",
              "      <td>-23.102694</td>\n",
              "      <td>4.108297</td>\n",
              "      <td>14</td>\n",
              "    </tr>\n",
              "    <tr>\n",
              "      <th>14</th>\n",
              "      <td>0.001017</td>\n",
              "      <td>0.000416</td>\n",
              "      <td>0.000442</td>\n",
              "      <td>0.000079</td>\n",
              "      <td>5</td>\n",
              "      <td>0.7</td>\n",
              "      <td>{'alpha': 5, 'l1_ratio': 0.7}</td>\n",
              "      <td>-29.655510</td>\n",
              "      <td>-21.085059</td>\n",
              "      <td>-29.629478</td>\n",
              "      <td>-26.724595</td>\n",
              "      <td>-20.223654</td>\n",
              "      <td>-25.463659</td>\n",
              "      <td>4.077877</td>\n",
              "      <td>16</td>\n",
              "    </tr>\n",
              "    <tr>\n",
              "      <th>15</th>\n",
              "      <td>0.000681</td>\n",
              "      <td>0.000012</td>\n",
              "      <td>0.000364</td>\n",
              "      <td>0.000015</td>\n",
              "      <td>5</td>\n",
              "      <td>0.95</td>\n",
              "      <td>{'alpha': 5, 'l1_ratio': 0.95}</td>\n",
              "      <td>-31.130307</td>\n",
              "      <td>-22.549433</td>\n",
              "      <td>-31.155204</td>\n",
              "      <td>-27.963447</td>\n",
              "      <td>-21.698192</td>\n",
              "      <td>-26.899317</td>\n",
              "      <td>4.077240</td>\n",
              "      <td>17</td>\n",
              "    </tr>\n",
              "    <tr>\n",
              "      <th>16</th>\n",
              "      <td>0.000672</td>\n",
              "      <td>0.000017</td>\n",
              "      <td>0.000365</td>\n",
              "      <td>0.000015</td>\n",
              "      <td>5</td>\n",
              "      <td>0.99</td>\n",
              "      <td>{'alpha': 5, 'l1_ratio': 0.99}</td>\n",
              "      <td>-31.130307</td>\n",
              "      <td>-22.549433</td>\n",
              "      <td>-31.155204</td>\n",
              "      <td>-27.963447</td>\n",
              "      <td>-21.698192</td>\n",
              "      <td>-26.899317</td>\n",
              "      <td>4.077240</td>\n",
              "      <td>17</td>\n",
              "    </tr>\n",
              "    <tr>\n",
              "      <th>17</th>\n",
              "      <td>0.000674</td>\n",
              "      <td>0.000016</td>\n",
              "      <td>0.000374</td>\n",
              "      <td>0.000019</td>\n",
              "      <td>5</td>\n",
              "      <td>1</td>\n",
              "      <td>{'alpha': 5, 'l1_ratio': 1}</td>\n",
              "      <td>-31.130307</td>\n",
              "      <td>-22.549433</td>\n",
              "      <td>-31.155204</td>\n",
              "      <td>-27.963447</td>\n",
              "      <td>-21.698192</td>\n",
              "      <td>-26.899317</td>\n",
              "      <td>4.077240</td>\n",
              "      <td>17</td>\n",
              "    </tr>\n",
              "    <tr>\n",
              "      <th>18</th>\n",
              "      <td>0.000680</td>\n",
              "      <td>0.000034</td>\n",
              "      <td>0.000393</td>\n",
              "      <td>0.000023</td>\n",
              "      <td>10</td>\n",
              "      <td>0.1</td>\n",
              "      <td>{'alpha': 10, 'l1_ratio': 0.1}</td>\n",
              "      <td>-27.385346</td>\n",
              "      <td>-19.159534</td>\n",
              "      <td>-27.635464</td>\n",
              "      <td>-24.154104</td>\n",
              "      <td>-18.968161</td>\n",
              "      <td>-23.460522</td>\n",
              "      <td>3.794608</td>\n",
              "      <td>15</td>\n",
              "    </tr>\n",
              "    <tr>\n",
              "      <th>19</th>\n",
              "      <td>0.000700</td>\n",
              "      <td>0.000051</td>\n",
              "      <td>0.000367</td>\n",
              "      <td>0.000014</td>\n",
              "      <td>10</td>\n",
              "      <td>0.5</td>\n",
              "      <td>{'alpha': 10, 'l1_ratio': 0.5}</td>\n",
              "      <td>-31.130307</td>\n",
              "      <td>-22.549433</td>\n",
              "      <td>-31.155204</td>\n",
              "      <td>-27.963447</td>\n",
              "      <td>-21.698192</td>\n",
              "      <td>-26.899317</td>\n",
              "      <td>4.077240</td>\n",
              "      <td>17</td>\n",
              "    </tr>\n",
              "    <tr>\n",
              "      <th>20</th>\n",
              "      <td>0.000666</td>\n",
              "      <td>0.000024</td>\n",
              "      <td>0.000437</td>\n",
              "      <td>0.000123</td>\n",
              "      <td>10</td>\n",
              "      <td>0.7</td>\n",
              "      <td>{'alpha': 10, 'l1_ratio': 0.7}</td>\n",
              "      <td>-31.130307</td>\n",
              "      <td>-22.549433</td>\n",
              "      <td>-31.155204</td>\n",
              "      <td>-27.963447</td>\n",
              "      <td>-21.698192</td>\n",
              "      <td>-26.899317</td>\n",
              "      <td>4.077240</td>\n",
              "      <td>17</td>\n",
              "    </tr>\n",
              "    <tr>\n",
              "      <th>21</th>\n",
              "      <td>0.000672</td>\n",
              "      <td>0.000012</td>\n",
              "      <td>0.000364</td>\n",
              "      <td>0.000022</td>\n",
              "      <td>10</td>\n",
              "      <td>0.95</td>\n",
              "      <td>{'alpha': 10, 'l1_ratio': 0.95}</td>\n",
              "      <td>-31.130307</td>\n",
              "      <td>-22.549433</td>\n",
              "      <td>-31.155204</td>\n",
              "      <td>-27.963447</td>\n",
              "      <td>-21.698192</td>\n",
              "      <td>-26.899317</td>\n",
              "      <td>4.077240</td>\n",
              "      <td>17</td>\n",
              "    </tr>\n",
              "    <tr>\n",
              "      <th>22</th>\n",
              "      <td>0.000671</td>\n",
              "      <td>0.000010</td>\n",
              "      <td>0.000366</td>\n",
              "      <td>0.000014</td>\n",
              "      <td>10</td>\n",
              "      <td>0.99</td>\n",
              "      <td>{'alpha': 10, 'l1_ratio': 0.99}</td>\n",
              "      <td>-31.130307</td>\n",
              "      <td>-22.549433</td>\n",
              "      <td>-31.155204</td>\n",
              "      <td>-27.963447</td>\n",
              "      <td>-21.698192</td>\n",
              "      <td>-26.899317</td>\n",
              "      <td>4.077240</td>\n",
              "      <td>17</td>\n",
              "    </tr>\n",
              "    <tr>\n",
              "      <th>23</th>\n",
              "      <td>0.000666</td>\n",
              "      <td>0.000011</td>\n",
              "      <td>0.000368</td>\n",
              "      <td>0.000018</td>\n",
              "      <td>10</td>\n",
              "      <td>1</td>\n",
              "      <td>{'alpha': 10, 'l1_ratio': 1}</td>\n",
              "      <td>-31.130307</td>\n",
              "      <td>-22.549433</td>\n",
              "      <td>-31.155204</td>\n",
              "      <td>-27.963447</td>\n",
              "      <td>-21.698192</td>\n",
              "      <td>-26.899317</td>\n",
              "      <td>4.077240</td>\n",
              "      <td>17</td>\n",
              "    </tr>\n",
              "    <tr>\n",
              "      <th>24</th>\n",
              "      <td>0.000657</td>\n",
              "      <td>0.000012</td>\n",
              "      <td>0.000360</td>\n",
              "      <td>0.000014</td>\n",
              "      <td>50</td>\n",
              "      <td>0.1</td>\n",
              "      <td>{'alpha': 50, 'l1_ratio': 0.1}</td>\n",
              "      <td>-31.130307</td>\n",
              "      <td>-22.549433</td>\n",
              "      <td>-31.155204</td>\n",
              "      <td>-27.963447</td>\n",
              "      <td>-21.698192</td>\n",
              "      <td>-26.899317</td>\n",
              "      <td>4.077240</td>\n",
              "      <td>17</td>\n",
              "    </tr>\n",
              "    <tr>\n",
              "      <th>25</th>\n",
              "      <td>0.000675</td>\n",
              "      <td>0.000017</td>\n",
              "      <td>0.000363</td>\n",
              "      <td>0.000016</td>\n",
              "      <td>50</td>\n",
              "      <td>0.5</td>\n",
              "      <td>{'alpha': 50, 'l1_ratio': 0.5}</td>\n",
              "      <td>-31.130307</td>\n",
              "      <td>-22.549433</td>\n",
              "      <td>-31.155204</td>\n",
              "      <td>-27.963447</td>\n",
              "      <td>-21.698192</td>\n",
              "      <td>-26.899317</td>\n",
              "      <td>4.077240</td>\n",
              "      <td>17</td>\n",
              "    </tr>\n",
              "    <tr>\n",
              "      <th>26</th>\n",
              "      <td>0.001219</td>\n",
              "      <td>0.000327</td>\n",
              "      <td>0.000622</td>\n",
              "      <td>0.000168</td>\n",
              "      <td>50</td>\n",
              "      <td>0.7</td>\n",
              "      <td>{'alpha': 50, 'l1_ratio': 0.7}</td>\n",
              "      <td>-31.130307</td>\n",
              "      <td>-22.549433</td>\n",
              "      <td>-31.155204</td>\n",
              "      <td>-27.963447</td>\n",
              "      <td>-21.698192</td>\n",
              "      <td>-26.899317</td>\n",
              "      <td>4.077240</td>\n",
              "      <td>17</td>\n",
              "    </tr>\n",
              "    <tr>\n",
              "      <th>27</th>\n",
              "      <td>0.000679</td>\n",
              "      <td>0.000022</td>\n",
              "      <td>0.000360</td>\n",
              "      <td>0.000014</td>\n",
              "      <td>50</td>\n",
              "      <td>0.95</td>\n",
              "      <td>{'alpha': 50, 'l1_ratio': 0.95}</td>\n",
              "      <td>-31.130307</td>\n",
              "      <td>-22.549433</td>\n",
              "      <td>-31.155204</td>\n",
              "      <td>-27.963447</td>\n",
              "      <td>-21.698192</td>\n",
              "      <td>-26.899317</td>\n",
              "      <td>4.077240</td>\n",
              "      <td>17</td>\n",
              "    </tr>\n",
              "    <tr>\n",
              "      <th>28</th>\n",
              "      <td>0.000665</td>\n",
              "      <td>0.000018</td>\n",
              "      <td>0.000355</td>\n",
              "      <td>0.000016</td>\n",
              "      <td>50</td>\n",
              "      <td>0.99</td>\n",
              "      <td>{'alpha': 50, 'l1_ratio': 0.99}</td>\n",
              "      <td>-31.130307</td>\n",
              "      <td>-22.549433</td>\n",
              "      <td>-31.155204</td>\n",
              "      <td>-27.963447</td>\n",
              "      <td>-21.698192</td>\n",
              "      <td>-26.899317</td>\n",
              "      <td>4.077240</td>\n",
              "      <td>17</td>\n",
              "    </tr>\n",
              "    <tr>\n",
              "      <th>29</th>\n",
              "      <td>0.000701</td>\n",
              "      <td>0.000029</td>\n",
              "      <td>0.000397</td>\n",
              "      <td>0.000043</td>\n",
              "      <td>50</td>\n",
              "      <td>1</td>\n",
              "      <td>{'alpha': 50, 'l1_ratio': 1}</td>\n",
              "      <td>-31.130307</td>\n",
              "      <td>-22.549433</td>\n",
              "      <td>-31.155204</td>\n",
              "      <td>-27.963447</td>\n",
              "      <td>-21.698192</td>\n",
              "      <td>-26.899317</td>\n",
              "      <td>4.077240</td>\n",
              "      <td>17</td>\n",
              "    </tr>\n",
              "    <tr>\n",
              "      <th>30</th>\n",
              "      <td>0.000744</td>\n",
              "      <td>0.000100</td>\n",
              "      <td>0.000360</td>\n",
              "      <td>0.000022</td>\n",
              "      <td>100</td>\n",
              "      <td>0.1</td>\n",
              "      <td>{'alpha': 100, 'l1_ratio': 0.1}</td>\n",
              "      <td>-31.130307</td>\n",
              "      <td>-22.549433</td>\n",
              "      <td>-31.155204</td>\n",
              "      <td>-27.963447</td>\n",
              "      <td>-21.698192</td>\n",
              "      <td>-26.899317</td>\n",
              "      <td>4.077240</td>\n",
              "      <td>17</td>\n",
              "    </tr>\n",
              "    <tr>\n",
              "      <th>31</th>\n",
              "      <td>0.000691</td>\n",
              "      <td>0.000026</td>\n",
              "      <td>0.000364</td>\n",
              "      <td>0.000021</td>\n",
              "      <td>100</td>\n",
              "      <td>0.5</td>\n",
              "      <td>{'alpha': 100, 'l1_ratio': 0.5}</td>\n",
              "      <td>-31.130307</td>\n",
              "      <td>-22.549433</td>\n",
              "      <td>-31.155204</td>\n",
              "      <td>-27.963447</td>\n",
              "      <td>-21.698192</td>\n",
              "      <td>-26.899317</td>\n",
              "      <td>4.077240</td>\n",
              "      <td>17</td>\n",
              "    </tr>\n",
              "    <tr>\n",
              "      <th>32</th>\n",
              "      <td>0.000653</td>\n",
              "      <td>0.000023</td>\n",
              "      <td>0.000355</td>\n",
              "      <td>0.000009</td>\n",
              "      <td>100</td>\n",
              "      <td>0.7</td>\n",
              "      <td>{'alpha': 100, 'l1_ratio': 0.7}</td>\n",
              "      <td>-31.130307</td>\n",
              "      <td>-22.549433</td>\n",
              "      <td>-31.155204</td>\n",
              "      <td>-27.963447</td>\n",
              "      <td>-21.698192</td>\n",
              "      <td>-26.899317</td>\n",
              "      <td>4.077240</td>\n",
              "      <td>17</td>\n",
              "    </tr>\n",
              "    <tr>\n",
              "      <th>33</th>\n",
              "      <td>0.000674</td>\n",
              "      <td>0.000032</td>\n",
              "      <td>0.000352</td>\n",
              "      <td>0.000013</td>\n",
              "      <td>100</td>\n",
              "      <td>0.95</td>\n",
              "      <td>{'alpha': 100, 'l1_ratio': 0.95}</td>\n",
              "      <td>-31.130307</td>\n",
              "      <td>-22.549433</td>\n",
              "      <td>-31.155204</td>\n",
              "      <td>-27.963447</td>\n",
              "      <td>-21.698192</td>\n",
              "      <td>-26.899317</td>\n",
              "      <td>4.077240</td>\n",
              "      <td>17</td>\n",
              "    </tr>\n",
              "    <tr>\n",
              "      <th>34</th>\n",
              "      <td>0.000655</td>\n",
              "      <td>0.000016</td>\n",
              "      <td>0.000362</td>\n",
              "      <td>0.000012</td>\n",
              "      <td>100</td>\n",
              "      <td>0.99</td>\n",
              "      <td>{'alpha': 100, 'l1_ratio': 0.99}</td>\n",
              "      <td>-31.130307</td>\n",
              "      <td>-22.549433</td>\n",
              "      <td>-31.155204</td>\n",
              "      <td>-27.963447</td>\n",
              "      <td>-21.698192</td>\n",
              "      <td>-26.899317</td>\n",
              "      <td>4.077240</td>\n",
              "      <td>17</td>\n",
              "    </tr>\n",
              "    <tr>\n",
              "      <th>35</th>\n",
              "      <td>0.000663</td>\n",
              "      <td>0.000012</td>\n",
              "      <td>0.000372</td>\n",
              "      <td>0.000017</td>\n",
              "      <td>100</td>\n",
              "      <td>1</td>\n",
              "      <td>{'alpha': 100, 'l1_ratio': 1}</td>\n",
              "      <td>-31.130307</td>\n",
              "      <td>-22.549433</td>\n",
              "      <td>-31.155204</td>\n",
              "      <td>-27.963447</td>\n",
              "      <td>-21.698192</td>\n",
              "      <td>-26.899317</td>\n",
              "      <td>4.077240</td>\n",
              "      <td>17</td>\n",
              "    </tr>\n",
              "  </tbody>\n",
              "</table>\n",
              "</div>"
            ],
            "text/plain": [
              "    mean_fit_time  std_fit_time  ...  std_test_score  rank_test_score\n",
              "0        0.001169      0.000625  ...        1.605878                6\n",
              "1        0.000669      0.000016  ...        1.519703                5\n",
              "2        0.000659      0.000023  ...        1.475358                4\n",
              "3        0.000686      0.000044  ...        1.419639                3\n",
              "4        0.000662      0.000021  ...        1.410057                2\n",
              "5        0.000735      0.000075  ...        1.407572                1\n",
              "6        0.000693      0.000041  ...        2.225301               12\n",
              "7        0.000698      0.000042  ...        2.255532               11\n",
              "8        0.000827      0.000273  ...        2.206213               10\n",
              "9        0.000675      0.000014  ...        2.102835                9\n",
              "10       0.000682      0.000012  ...        2.079945                8\n",
              "11       0.000671      0.000016  ...        2.073832                7\n",
              "12       0.000699      0.000015  ...        3.334901               13\n",
              "13       0.000685      0.000044  ...        4.108297               14\n",
              "14       0.001017      0.000416  ...        4.077877               16\n",
              "15       0.000681      0.000012  ...        4.077240               17\n",
              "16       0.000672      0.000017  ...        4.077240               17\n",
              "17       0.000674      0.000016  ...        4.077240               17\n",
              "18       0.000680      0.000034  ...        3.794608               15\n",
              "19       0.000700      0.000051  ...        4.077240               17\n",
              "20       0.000666      0.000024  ...        4.077240               17\n",
              "21       0.000672      0.000012  ...        4.077240               17\n",
              "22       0.000671      0.000010  ...        4.077240               17\n",
              "23       0.000666      0.000011  ...        4.077240               17\n",
              "24       0.000657      0.000012  ...        4.077240               17\n",
              "25       0.000675      0.000017  ...        4.077240               17\n",
              "26       0.001219      0.000327  ...        4.077240               17\n",
              "27       0.000679      0.000022  ...        4.077240               17\n",
              "28       0.000665      0.000018  ...        4.077240               17\n",
              "29       0.000701      0.000029  ...        4.077240               17\n",
              "30       0.000744      0.000100  ...        4.077240               17\n",
              "31       0.000691      0.000026  ...        4.077240               17\n",
              "32       0.000653      0.000023  ...        4.077240               17\n",
              "33       0.000674      0.000032  ...        4.077240               17\n",
              "34       0.000655      0.000016  ...        4.077240               17\n",
              "35       0.000663      0.000012  ...        4.077240               17\n",
              "\n",
              "[36 rows x 15 columns]"
            ]
          },
          "metadata": {
            "tags": []
          },
          "execution_count": 56
        }
      ]
    },
    {
      "cell_type": "code",
      "metadata": {
        "id": "v0EFSIs7eBWO"
      },
      "source": [
        "y_pred = grid_model.predict(X_test)"
      ],
      "execution_count": null,
      "outputs": []
    },
    {
      "cell_type": "code",
      "metadata": {
        "colab": {
          "base_uri": "https://localhost:8080/"
        },
        "id": "Agq8S-QEeH03",
        "outputId": "54d0126c-f553-4c03-b7c5-41edc6626adf"
      },
      "source": [
        "mean_squared_error(y_test, y_pred)"
      ],
      "execution_count": 57,
      "outputs": [
        {
          "output_type": "execute_result",
          "data": {
            "text/plain": [
              "2.4135807641416784"
            ]
          },
          "metadata": {
            "tags": []
          },
          "execution_count": 57
        }
      ]
    }
  ]
}