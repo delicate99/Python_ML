{
  "nbformat": 4,
  "nbformat_minor": 0,
  "metadata": {
    "colab": {
      "name": "Scikit_Learn.ipynb",
      "provenance": [],
      "authorship_tag": "ABX9TyNwnKmMcq7g1j8G0GU4zNBU",
      "include_colab_link": true
    },
    "kernelspec": {
      "name": "python3",
      "display_name": "Python 3"
    }
  },
  "cells": [
    {
      "cell_type": "markdown",
      "metadata": {
        "id": "view-in-github",
        "colab_type": "text"
      },
      "source": [
        "<a href=\"https://colab.research.google.com/github/delicate99/Python_ML/blob/main/Scikit_Learn.ipynb\" target=\"_parent\"><img src=\"https://colab.research.google.com/assets/colab-badge.svg\" alt=\"Open In Colab\"/></a>"
      ]
    },
    {
      "cell_type": "code",
      "metadata": {
        "id": "HqEsLw0P61I1"
      },
      "source": [
        "import numpy as np\n",
        "import pandas as pd\n",
        "import seaborn as sns\n",
        "import matplotlib.pyplot as plt\n"
      ],
      "execution_count": 1,
      "outputs": []
    },
    {
      "cell_type": "markdown",
      "metadata": {
        "id": "9Hu1Q8lT7Bzp"
      },
      "source": [
        "##File upload"
      ]
    },
    {
      "cell_type": "code",
      "metadata": {
        "id": "liabzRN16LJR"
      },
      "source": [
        "\n",
        "df = pd.read_csv('https://raw.githubusercontent.com/Filareth2015/DA_and_ML_Python/master/advertising.csv')\n",
        "\n"
      ],
      "execution_count": 2,
      "outputs": []
    },
    {
      "cell_type": "code",
      "metadata": {
        "id": "mlq2LZXmS2x2"
      },
      "source": [
        ""
      ],
      "execution_count": 2,
      "outputs": []
    },
    {
      "cell_type": "code",
      "metadata": {
        "colab": {
          "base_uri": "https://localhost:8080/",
          "height": 204
        },
        "id": "_ulDruJs6gq7",
        "outputId": "59d38ae6-8e7f-4343-981f-bd177df14c5d"
      },
      "source": [
        "df.head()"
      ],
      "execution_count": 3,
      "outputs": [
        {
          "output_type": "execute_result",
          "data": {
            "text/html": [
              "<div>\n",
              "<style scoped>\n",
              "    .dataframe tbody tr th:only-of-type {\n",
              "        vertical-align: middle;\n",
              "    }\n",
              "\n",
              "    .dataframe tbody tr th {\n",
              "        vertical-align: top;\n",
              "    }\n",
              "\n",
              "    .dataframe thead th {\n",
              "        text-align: right;\n",
              "    }\n",
              "</style>\n",
              "<table border=\"1\" class=\"dataframe\">\n",
              "  <thead>\n",
              "    <tr style=\"text-align: right;\">\n",
              "      <th></th>\n",
              "      <th>TV</th>\n",
              "      <th>Radio</th>\n",
              "      <th>Newspaper</th>\n",
              "      <th>Sales</th>\n",
              "    </tr>\n",
              "  </thead>\n",
              "  <tbody>\n",
              "    <tr>\n",
              "      <th>1</th>\n",
              "      <td>230.1</td>\n",
              "      <td>37.8</td>\n",
              "      <td>69.2</td>\n",
              "      <td>22.1</td>\n",
              "    </tr>\n",
              "    <tr>\n",
              "      <th>2</th>\n",
              "      <td>44.5</td>\n",
              "      <td>39.3</td>\n",
              "      <td>45.1</td>\n",
              "      <td>10.4</td>\n",
              "    </tr>\n",
              "    <tr>\n",
              "      <th>3</th>\n",
              "      <td>17.2</td>\n",
              "      <td>45.9</td>\n",
              "      <td>69.3</td>\n",
              "      <td>9.3</td>\n",
              "    </tr>\n",
              "    <tr>\n",
              "      <th>4</th>\n",
              "      <td>151.5</td>\n",
              "      <td>41.3</td>\n",
              "      <td>58.5</td>\n",
              "      <td>18.5</td>\n",
              "    </tr>\n",
              "    <tr>\n",
              "      <th>5</th>\n",
              "      <td>180.8</td>\n",
              "      <td>10.8</td>\n",
              "      <td>58.4</td>\n",
              "      <td>12.9</td>\n",
              "    </tr>\n",
              "  </tbody>\n",
              "</table>\n",
              "</div>"
            ],
            "text/plain": [
              "      TV  Radio  Newspaper  Sales\n",
              "1  230.1   37.8       69.2   22.1\n",
              "2   44.5   39.3       45.1   10.4\n",
              "3   17.2   45.9       69.3    9.3\n",
              "4  151.5   41.3       58.5   18.5\n",
              "5  180.8   10.8       58.4   12.9"
            ]
          },
          "metadata": {
            "tags": []
          },
          "execution_count": 3
        }
      ]
    },
    {
      "cell_type": "code",
      "metadata": {
        "id": "jZK7-40c0T66"
      },
      "source": [
        ""
      ],
      "execution_count": 3,
      "outputs": []
    },
    {
      "cell_type": "code",
      "metadata": {
        "colab": {
          "base_uri": "https://localhost:8080/"
        },
        "id": "-pVewlvM78PP",
        "outputId": "55d35b24-d054-4a55-9ce7-b9c376e6d989"
      },
      "source": [
        "df.shape"
      ],
      "execution_count": 4,
      "outputs": [
        {
          "output_type": "execute_result",
          "data": {
            "text/plain": [
              "(200, 4)"
            ]
          },
          "metadata": {
            "tags": []
          },
          "execution_count": 4
        }
      ]
    },
    {
      "cell_type": "code",
      "metadata": {
        "colab": {
          "base_uri": "https://localhost:8080/",
          "height": 204
        },
        "id": "8_xxB38878cp",
        "outputId": "7aca2c30-892c-42a0-aecf-3e5ec6bb6d38"
      },
      "source": [
        "df['Total_spend']= df['TV']+df['Radio']+df['Newspaper']\n",
        "df.head()"
      ],
      "execution_count": 5,
      "outputs": [
        {
          "output_type": "execute_result",
          "data": {
            "text/html": [
              "<div>\n",
              "<style scoped>\n",
              "    .dataframe tbody tr th:only-of-type {\n",
              "        vertical-align: middle;\n",
              "    }\n",
              "\n",
              "    .dataframe tbody tr th {\n",
              "        vertical-align: top;\n",
              "    }\n",
              "\n",
              "    .dataframe thead th {\n",
              "        text-align: right;\n",
              "    }\n",
              "</style>\n",
              "<table border=\"1\" class=\"dataframe\">\n",
              "  <thead>\n",
              "    <tr style=\"text-align: right;\">\n",
              "      <th></th>\n",
              "      <th>TV</th>\n",
              "      <th>Radio</th>\n",
              "      <th>Newspaper</th>\n",
              "      <th>Sales</th>\n",
              "      <th>Total_spend</th>\n",
              "    </tr>\n",
              "  </thead>\n",
              "  <tbody>\n",
              "    <tr>\n",
              "      <th>1</th>\n",
              "      <td>230.1</td>\n",
              "      <td>37.8</td>\n",
              "      <td>69.2</td>\n",
              "      <td>22.1</td>\n",
              "      <td>337.1</td>\n",
              "    </tr>\n",
              "    <tr>\n",
              "      <th>2</th>\n",
              "      <td>44.5</td>\n",
              "      <td>39.3</td>\n",
              "      <td>45.1</td>\n",
              "      <td>10.4</td>\n",
              "      <td>128.9</td>\n",
              "    </tr>\n",
              "    <tr>\n",
              "      <th>3</th>\n",
              "      <td>17.2</td>\n",
              "      <td>45.9</td>\n",
              "      <td>69.3</td>\n",
              "      <td>9.3</td>\n",
              "      <td>132.4</td>\n",
              "    </tr>\n",
              "    <tr>\n",
              "      <th>4</th>\n",
              "      <td>151.5</td>\n",
              "      <td>41.3</td>\n",
              "      <td>58.5</td>\n",
              "      <td>18.5</td>\n",
              "      <td>251.3</td>\n",
              "    </tr>\n",
              "    <tr>\n",
              "      <th>5</th>\n",
              "      <td>180.8</td>\n",
              "      <td>10.8</td>\n",
              "      <td>58.4</td>\n",
              "      <td>12.9</td>\n",
              "      <td>250.0</td>\n",
              "    </tr>\n",
              "  </tbody>\n",
              "</table>\n",
              "</div>"
            ],
            "text/plain": [
              "      TV  Radio  Newspaper  Sales  Total_spend\n",
              "1  230.1   37.8       69.2   22.1        337.1\n",
              "2   44.5   39.3       45.1   10.4        128.9\n",
              "3   17.2   45.9       69.3    9.3        132.4\n",
              "4  151.5   41.3       58.5   18.5        251.3\n",
              "5  180.8   10.8       58.4   12.9        250.0"
            ]
          },
          "metadata": {
            "tags": []
          },
          "execution_count": 5
        }
      ]
    },
    {
      "cell_type": "code",
      "metadata": {
        "colab": {
          "base_uri": "https://localhost:8080/",
          "height": 297
        },
        "id": "WMUDw35f78l-",
        "outputId": "e274bded-4b22-4760-ccca-c8d89764a5b1"
      },
      "source": [
        "sns.regplot(data=df, x='Total_spend', y='Sales')"
      ],
      "execution_count": 6,
      "outputs": [
        {
          "output_type": "execute_result",
          "data": {
            "text/plain": [
              "<matplotlib.axes._subplots.AxesSubplot at 0x7fd9a7560b00>"
            ]
          },
          "metadata": {
            "tags": []
          },
          "execution_count": 6
        },
        {
          "output_type": "display_data",
          "data": {
            "image/png": "[encoded data removed]",
            "text/plain": [
              "<Figure size 432x288 with 1 Axes>"
            ]
          },
          "metadata": {
            "tags": [],
            "needs_background": "light"
          }
        }
      ]
    },
    {
      "cell_type": "code",
      "metadata": {
        "id": "m0flEfCX1DPM"
      },
      "source": [
        "X = df[\"Total_spend\"]\n",
        "y = df['Sales']"
      ],
      "execution_count": 7,
      "outputs": []
    },
    {
      "cell_type": "code",
      "metadata": {
        "id": "ybSuCbjQ1ghW"
      },
      "source": [
        "# y=B1X+B0"
      ],
      "execution_count": 8,
      "outputs": []
    },
    {
      "cell_type": "code",
      "metadata": {
        "colab": {
          "base_uri": "https://localhost:8080/"
        },
        "id": "4nEW87IO1gtJ",
        "outputId": "3fa9d9f6-77c4-4e6e-85ce-3b6475baa1e5"
      },
      "source": [
        "np.polyfit(X,y, deg=1)"
      ],
      "execution_count": 9,
      "outputs": [
        {
          "output_type": "execute_result",
          "data": {
            "text/plain": [
              "array([0.04868788, 4.24302822])"
            ]
          },
          "metadata": {
            "tags": []
          },
          "execution_count": 9
        }
      ]
    },
    {
      "cell_type": "code",
      "metadata": {
        "id": "bWI3zrF72Tpt"
      },
      "source": [
        "potential_sales = np.linspace(1,500,100)\n",
        "predicted_sales = 0.04868788 *potential_sales + 4.24302822"
      ],
      "execution_count": 10,
      "outputs": []
    },
    {
      "cell_type": "code",
      "metadata": {
        "colab": {
          "base_uri": "https://localhost:8080/",
          "height": 297
        },
        "id": "C9Jn5ksk2r8e",
        "outputId": "33a150d9-8ebf-4fdd-b839-08654270788c"
      },
      "source": [
        "sns.scatterplot(data =df, x = \"Total_spend\", y = 'Sales')\n",
        "plt.plot(potential_sales, predicted_sales, color ='red')"
      ],
      "execution_count": 11,
      "outputs": [
        {
          "output_type": "execute_result",
          "data": {
            "text/plain": [
              "[<matplotlib.lines.Line2D at 0x7fd9a6802080>]"
            ]
          },
          "metadata": {
            "tags": []
          },
          "execution_count": 11
        },
        {
          "output_type": "display_data",
          "data": {
            "image/png": "[encoded data removed]",
            "text/plain": [
              "<Figure size 432x288 with 1 Axes>"
            ]
          },
          "metadata": {
            "tags": [],
            "needs_background": "light"
          }
        }
      ]
    },
    {
      "cell_type": "code",
      "metadata": {
        "colab": {
          "base_uri": "https://localhost:8080/"
        },
        "id": "ZTD3o9PN3vx8",
        "outputId": "56caf843-fa1d-4a11-b49b-4c970842a0b2"
      },
      "source": [
        "np.polyfit(X, y, deg =3)"
      ],
      "execution_count": 12,
      "outputs": [
        {
          "output_type": "execute_result",
          "data": {
            "text/plain": [
              "array([ 3.07615033e-07, -1.89392449e-04,  8.20886302e-02,  2.70495053e+00])"
            ]
          },
          "metadata": {
            "tags": []
          },
          "execution_count": 12
        }
      ]
    },
    {
      "cell_type": "code",
      "metadata": {
        "id": "ZDtr_AZe4Ajo"
      },
      "source": [
        "# y = B3X**3 +  B2X**2 + B1X + B0\n",
        "sd = np.linspace(1,500,100)\n",
        "ex_sd = 3.07615033e-07*sd**3 +-1.89392449e-04 *sd**2 +8.20886302e-02*sd + 2.70495053e+00"
      ],
      "execution_count": 13,
      "outputs": []
    },
    {
      "cell_type": "code",
      "metadata": {
        "colab": {
          "base_uri": "https://localhost:8080/",
          "height": 297
        },
        "id": "vJugRNi14tfW",
        "outputId": "99b142e3-58e4-4f2f-a5dc-50ae902e1f95"
      },
      "source": [
        "sns.scatterplot(data =df, x = \"Total_spend\", y = 'Sales')\n",
        "plt.plot(sd, ex_sd, color ='red')"
      ],
      "execution_count": 14,
      "outputs": [
        {
          "output_type": "execute_result",
          "data": {
            "text/plain": [
              "[<matplotlib.lines.Line2D at 0x7fd9a67f6898>]"
            ]
          },
          "metadata": {
            "tags": []
          },
          "execution_count": 14
        },
        {
          "output_type": "display_data",
          "data": {
            "image/png": "[encoded data removed]",
            "text/plain": [
              "<Figure size 432x288 with 1 Axes>"
            ]
          },
          "metadata": {
            "tags": [],
            "needs_background": "light"
          }
        }
      ]
    },
    {
      "cell_type": "markdown",
      "metadata": {
        "id": "JfyxXJNQTG6W"
      },
      "source": [
        "###Multiple features"
      ]
    },
    {
      "cell_type": "code",
      "metadata": {
        "colab": {
          "base_uri": "https://localhost:8080/",
          "height": 351
        },
        "id": "QD0AzpkKS5EF",
        "outputId": "19a7b85b-b799-4c43-e17e-c3886925db72"
      },
      "source": [
        "fig,axes = plt.subplots(nrows=1,ncols=3,figsize=(16,6))\n",
        "\n",
        "axes[0].plot(df['TV'],df['Sales'],'o')\n",
        "axes[0].set_ylabel(\"Sales\")\n",
        "axes[0].set_title(\"TV Spend\")\n",
        "\n",
        "axes[1].plot(df['Radio'],df['Sales'],'o')\n",
        "axes[1].set_title(\"Radio Spend\")\n",
        "axes[1].set_ylabel(\"Sales\")\n",
        "\n",
        "axes[2].plot(df['Newspaper'],df['Sales'],'o')\n",
        "axes[2].set_title(\"Newspaper Spend\");\n",
        "axes[2].set_ylabel(\"Sales\")\n",
        "plt.tight_layout();"
      ],
      "execution_count": 15,
      "outputs": [
        {
          "output_type": "display_data",
          "data": {
            "image/png": "[encoded data removed]",
            "text/plain": [
              "<Figure size 1152x432 with 3 Axes>"
            ]
          },
          "metadata": {
            "tags": [],
            "needs_background": "light"
          }
        }
      ]
    },
    {
      "cell_type": "code",
      "metadata": {
        "id": "mYXFtskNlo3t"
      },
      "source": [
        "df1 = pd.read_csv('https://raw.githubusercontent.com/Filareth2015/DA_and_ML_Python/master/advertising.csv')"
      ],
      "execution_count": 16,
      "outputs": []
    },
    {
      "cell_type": "markdown",
      "metadata": {
        "id": "gtsc8TLaTQU8"
      },
      "source": [
        "## Scikit for LinearRegression\n",
        "\n",
        "#### Train_test_split"
      ]
    },
    {
      "cell_type": "code",
      "metadata": {
        "id": "a4dKkWCTS5pM"
      },
      "source": [
        "X = df1.drop('Sales', axis=1)\n",
        "y= df1[\"Sales\"]"
      ],
      "execution_count": 17,
      "outputs": []
    },
    {
      "cell_type": "code",
      "metadata": {
        "id": "H_nX930QS5ul"
      },
      "source": [
        "from sklearn.model_selection import train_test_split"
      ],
      "execution_count": 18,
      "outputs": []
    },
    {
      "cell_type": "code",
      "metadata": {
        "id": "DzTxRngBS50A"
      },
      "source": [
        "X_train, X_test, y_train, y_test = train_test_split(X, y, test_size=0.3, random_state =101)"
      ],
      "execution_count": 19,
      "outputs": []
    },
    {
      "cell_type": "code",
      "metadata": {
        "id": "-qJY1RUGUhvP"
      },
      "source": [
        "#y_test"
      ],
      "execution_count": 20,
      "outputs": []
    },
    {
      "cell_type": "markdown",
      "metadata": {
        "id": "xF3HmL5qUznU"
      },
      "source": [
        "##Creating Model"
      ]
    },
    {
      "cell_type": "code",
      "metadata": {
        "id": "ql9oXGn4Us7C"
      },
      "source": [
        "from sklearn.linear_model import LinearRegression"
      ],
      "execution_count": 21,
      "outputs": []
    },
    {
      "cell_type": "code",
      "metadata": {
        "id": "Rl9adk8IVHVY"
      },
      "source": [
        "model = LinearRegression()"
      ],
      "execution_count": 22,
      "outputs": []
    },
    {
      "cell_type": "code",
      "metadata": {
        "colab": {
          "base_uri": "https://localhost:8080/"
        },
        "id": "9dJFNht2Vf56",
        "outputId": "ad47019f-6e4a-48b6-e4f0-1e42aead2479"
      },
      "source": [
        "model.fit(X_train, y_train)"
      ],
      "execution_count": 23,
      "outputs": [
        {
          "output_type": "execute_result",
          "data": {
            "text/plain": [
              "LinearRegression(copy_X=True, fit_intercept=True, n_jobs=None, normalize=False)"
            ]
          },
          "metadata": {
            "tags": []
          },
          "execution_count": 23
        }
      ]
    },
    {
      "cell_type": "code",
      "metadata": {
        "id": "ni1GfHosVHg-"
      },
      "source": [
        "test_predctions = model.predict(X_test) "
      ],
      "execution_count": 24,
      "outputs": []
    },
    {
      "cell_type": "code",
      "metadata": {
        "id": "jBsEYB5dZxJo"
      },
      "source": [
        "from sklearn.metrics import mean_absolute_error, mean_squared_error"
      ],
      "execution_count": 25,
      "outputs": []
    },
    {
      "cell_type": "code",
      "metadata": {
        "colab": {
          "base_uri": "https://localhost:8080/"
        },
        "id": "YGF_BX5RaFES",
        "outputId": "83fb6de8-ae56-4668-d908-421cf204df33"
      },
      "source": [
        "df1['Sales'].mean()"
      ],
      "execution_count": 26,
      "outputs": [
        {
          "output_type": "execute_result",
          "data": {
            "text/plain": [
              "14.022500000000003"
            ]
          },
          "metadata": {
            "tags": []
          },
          "execution_count": 26
        }
      ]
    },
    {
      "cell_type": "code",
      "metadata": {
        "colab": {
          "base_uri": "https://localhost:8080/",
          "height": 296
        },
        "id": "yI9zRw2kaFQu",
        "outputId": "563c5445-1817-4e7a-816b-33a559f753ab"
      },
      "source": [
        "sns.histplot(data =df, x='Sales', bins=20)"
      ],
      "execution_count": 27,
      "outputs": [
        {
          "output_type": "execute_result",
          "data": {
            "text/plain": [
              "<matplotlib.axes._subplots.AxesSubplot at 0x7fd99b15a860>"
            ]
          },
          "metadata": {
            "tags": []
          },
          "execution_count": 27
        },
        {
          "output_type": "display_data",
          "data": {
            "image/png": "[encoded data removed]",
            "text/plain": [
              "<Figure size 432x288 with 1 Axes>"
            ]
          },
          "metadata": {
            "tags": [],
            "needs_background": "light"
          }
        }
      ]
    },
    {
      "cell_type": "code",
      "metadata": {
        "colab": {
          "base_uri": "https://localhost:8080/"
        },
        "id": "tCp5G2a_ahNM",
        "outputId": "418d5031-4fb2-4487-a9fc-3283399614a7"
      },
      "source": [
        "mean_absolute_error(y_test, test_predctions)"
      ],
      "execution_count": 28,
      "outputs": [
        {
          "output_type": "execute_result",
          "data": {
            "text/plain": [
              "1.2137457736144808"
            ]
          },
          "metadata": {
            "tags": []
          },
          "execution_count": 28
        }
      ]
    },
    {
      "cell_type": "code",
      "metadata": {
        "colab": {
          "base_uri": "https://localhost:8080/"
        },
        "id": "W3gyUs52ahXh",
        "outputId": "c4bcbce1-926e-459d-bcb6-f0841360b7b4"
      },
      "source": [
        "np.sqrt(mean_squared_error(y_test, test_predctions)) # RMSE"
      ],
      "execution_count": 29,
      "outputs": [
        {
          "output_type": "execute_result",
          "data": {
            "text/plain": [
              "1.5161519375993882"
            ]
          },
          "metadata": {
            "tags": []
          },
          "execution_count": 29
        }
      ]
    },
    {
      "cell_type": "markdown",
      "metadata": {
        "id": "3ff-vc4_cVbR"
      },
      "source": [
        "## Resuduals"
      ]
    },
    {
      "cell_type": "code",
      "metadata": {
        "colab": {
          "base_uri": "https://localhost:8080/"
        },
        "id": "7EdV_ukpboqs",
        "outputId": "3e8ea720-d9b7-4d25-c0b4-b7007f203b02"
      },
      "source": [
        "test_resduals= y_test - test_predctions\n",
        "test_resduals.shape"
      ],
      "execution_count": 31,
      "outputs": [
        {
          "output_type": "execute_result",
          "data": {
            "text/plain": [
              "(60,)"
            ]
          },
          "metadata": {
            "tags": []
          },
          "execution_count": 31
        }
      ]
    },
    {
      "cell_type": "markdown",
      "metadata": {
        "id": "u8uxkO19fl1t"
      },
      "source": [
        "#### Residual plot"
      ]
    },
    {
      "cell_type": "code",
      "metadata": {
        "colab": {
          "base_uri": "https://localhost:8080/",
          "height": 296
        },
        "id": "S9uoRbCnfjUI",
        "outputId": "938407ed-ff86-4765-f6a0-665943638e26"
      },
      "source": [
        "sns.scatterplot(x = y_test, y = test_resduals)\n",
        "plt.axhline(y=0, color ='red', ls='--')"
      ],
      "execution_count": 32,
      "outputs": [
        {
          "output_type": "execute_result",
          "data": {
            "text/plain": [
              "<matplotlib.lines.Line2D at 0x7fd99a9c1d68>"
            ]
          },
          "metadata": {
            "tags": []
          },
          "execution_count": 32
        },
        {
          "output_type": "display_data",
          "data": {
            "image/png": "[encoded data removed]",
            "text/plain": [
              "<Figure size 432x288 with 1 Axes>"
            ]
          },
          "metadata": {
            "tags": [],
            "needs_background": "light"
          }
        }
      ]
    },
    {
      "cell_type": "code",
      "metadata": {
        "colab": {
          "base_uri": "https://localhost:8080/",
          "height": 386
        },
        "id": "aLhz2Ep3gZtS",
        "outputId": "a4913c27-554b-4d8f-c510-07449675e8cf"
      },
      "source": [
        "sns.displot(test_resduals, bins=25, kde=True)"
      ],
      "execution_count": 33,
      "outputs": [
        {
          "output_type": "execute_result",
          "data": {
            "text/plain": [
              "<seaborn.axisgrid.FacetGrid at 0x7fd99a9c1320>"
            ]
          },
          "metadata": {
            "tags": []
          },
          "execution_count": 33
        },
        {
          "output_type": "display_data",
          "data": {
            "image/png": "[encoded data removed]",
            "text/plain": [
              "<Figure size 360x360 with 1 Axes>"
            ]
          },
          "metadata": {
            "tags": [],
            "needs_background": "light"
          }
        }
      ]
    },
    {
      "cell_type": "code",
      "metadata": {
        "id": "m3dyKG5KhEXO"
      },
      "source": [
        "import scipy as sp"
      ],
      "execution_count": 35,
      "outputs": []
    },
    {
      "cell_type": "code",
      "metadata": {
        "colab": {
          "base_uri": "https://localhost:8080/",
          "height": 980
        },
        "id": "nTzlLgOZhKWL",
        "outputId": "dd9717b2-9d6a-4baa-bb3a-1ea567aae33c"
      },
      "source": [
        "fig,ax = plt.subplots(figsize =(6,6), dpi=100)\n",
        "sp.stats.probplot(test_resduals, plot=ax)"
      ],
      "execution_count": 36,
      "outputs": [
        {
          "output_type": "execute_result",
          "data": {
            "text/plain": [
              "((array([-2.27390067, -1.91302992, -1.70135682, -1.54640086, -1.42160977,\n",
              "         -1.31571014, -1.2228056 , -1.13940346, -1.06325419, -0.99281837,\n",
              "         -0.92699283, -0.86495764, -0.80608503, -0.74988229, -0.69595441,\n",
              "         -0.64397882, -0.5936878 , -0.54485575, -0.49729007, -0.45082415,\n",
              "         -0.40531215, -0.36062492, -0.31664678, -0.27327293, -0.23040741,\n",
              "         -0.18796131, -0.14585132, -0.10399849, -0.06232713, -0.02076376,\n",
              "          0.02076376,  0.06232713,  0.10399849,  0.14585132,  0.18796131,\n",
              "          0.23040741,  0.27327293,  0.31664678,  0.36062492,  0.40531215,\n",
              "          0.45082415,  0.49729007,  0.54485575,  0.5936878 ,  0.64397882,\n",
              "          0.69595441,  0.74988229,  0.80608503,  0.86495764,  0.92699283,\n",
              "          0.99281837,  1.06325419,  1.13940346,  1.2228056 ,  1.31571014,\n",
              "          1.42160977,  1.54640086,  1.70135682,  1.91302992,  2.27390067]),\n",
              "  array([-3.69806574, -3.55228966, -3.28105585, -3.20719678, -2.76285075,\n",
              "         -2.30870279, -2.22541098, -2.09727439, -1.96261468, -1.82409688,\n",
              "         -1.57757812, -1.50503154, -1.45388914, -1.37399978, -1.25207264,\n",
              "         -1.10779999, -1.06615898, -1.04572042, -1.04131332, -0.76925937,\n",
              "         -0.51002595, -0.41248287, -0.33942315, -0.30819787, -0.29953992,\n",
              "         -0.28785675, -0.21492147, -0.19215204, -0.13591128, -0.08992463,\n",
              "          0.11801594,  0.17684019,  0.18937432,  0.20765002,  0.2328925 ,\n",
              "          0.32714324,  0.35539907,  0.45111065,  0.52415533,  0.52807943,\n",
              "          0.75462987,  0.75785902,  0.77543362,  0.84385008,  0.87805776,\n",
              "          1.09688791,  1.129731  ,  1.18530139,  1.21631999,  1.32037915,\n",
              "          1.34606664,  1.37800932,  1.42165303,  1.58506581,  1.64771427,\n",
              "          1.81086307,  1.83235673,  2.10534866,  2.31368096,  2.41205969])),\n",
              " (1.531946549871954, -0.18301481815337065, 0.9866882364557851))"
            ]
          },
          "metadata": {
            "tags": []
          },
          "execution_count": 36
        },
        {
          "output_type": "display_data",
          "data": {
            "image/png": "[encoded data removed]",
            "text/plain": [
              "<Figure size 600x600 with 1 Axes>"
            ]
          },
          "metadata": {
            "tags": [],
            "needs_background": "light"
          }
        }
      ]
    },
    {
      "cell_type": "markdown",
      "metadata": {
        "id": "CzGlhpubj4Yp"
      },
      "source": [
        "### Model Deployment"
      ]
    },
    {
      "cell_type": "code",
      "metadata": {
        "id": "iKIwJ9iFlUY4"
      },
      "source": [
        "\n",
        "df1 = pd.read_csv('https://raw.githubusercontent.com/Filareth2015/DA_and_ML_Python/master/advertising.csv')"
      ],
      "execution_count": 37,
      "outputs": []
    },
    {
      "cell_type": "code",
      "metadata": {
        "colab": {
          "base_uri": "https://localhost:8080/"
        },
        "id": "T9FphiKNhKd7",
        "outputId": "5aa3fcf1-445c-48e3-f86d-26036ec65d25"
      },
      "source": [
        "final_model=LinearRegression()\n",
        "final_model.fit(X,y)"
      ],
      "execution_count": 38,
      "outputs": [
        {
          "output_type": "execute_result",
          "data": {
            "text/plain": [
              "LinearRegression(copy_X=True, fit_intercept=True, n_jobs=None, normalize=False)"
            ]
          },
          "metadata": {
            "tags": []
          },
          "execution_count": 38
        }
      ]
    },
    {
      "cell_type": "code",
      "metadata": {
        "colab": {
          "base_uri": "https://localhost:8080/"
        },
        "id": "Q6eUCMEEkAaR",
        "outputId": "458c5154-99a7-4d9b-d12e-01fbe9def63c"
      },
      "source": [
        "final_model.coef_"
      ],
      "execution_count": 39,
      "outputs": [
        {
          "output_type": "execute_result",
          "data": {
            "text/plain": [
              "array([ 0.04576465,  0.18853002, -0.00103749])"
            ]
          },
          "metadata": {
            "tags": []
          },
          "execution_count": 39
        }
      ]
    },
    {
      "cell_type": "code",
      "metadata": {
        "colab": {
          "base_uri": "https://localhost:8080/",
          "height": 204
        },
        "id": "2HRwuhLIkAis",
        "outputId": "93a13f12-d09d-454c-ab0d-f224e8e6fb8c"
      },
      "source": [
        "X.head()"
      ],
      "execution_count": 40,
      "outputs": [
        {
          "output_type": "execute_result",
          "data": {
            "text/html": [
              "<div>\n",
              "<style scoped>\n",
              "    .dataframe tbody tr th:only-of-type {\n",
              "        vertical-align: middle;\n",
              "    }\n",
              "\n",
              "    .dataframe tbody tr th {\n",
              "        vertical-align: top;\n",
              "    }\n",
              "\n",
              "    .dataframe thead th {\n",
              "        text-align: right;\n",
              "    }\n",
              "</style>\n",
              "<table border=\"1\" class=\"dataframe\">\n",
              "  <thead>\n",
              "    <tr style=\"text-align: right;\">\n",
              "      <th></th>\n",
              "      <th>TV</th>\n",
              "      <th>Radio</th>\n",
              "      <th>Newspaper</th>\n",
              "    </tr>\n",
              "  </thead>\n",
              "  <tbody>\n",
              "    <tr>\n",
              "      <th>1</th>\n",
              "      <td>230.1</td>\n",
              "      <td>37.8</td>\n",
              "      <td>69.2</td>\n",
              "    </tr>\n",
              "    <tr>\n",
              "      <th>2</th>\n",
              "      <td>44.5</td>\n",
              "      <td>39.3</td>\n",
              "      <td>45.1</td>\n",
              "    </tr>\n",
              "    <tr>\n",
              "      <th>3</th>\n",
              "      <td>17.2</td>\n",
              "      <td>45.9</td>\n",
              "      <td>69.3</td>\n",
              "    </tr>\n",
              "    <tr>\n",
              "      <th>4</th>\n",
              "      <td>151.5</td>\n",
              "      <td>41.3</td>\n",
              "      <td>58.5</td>\n",
              "    </tr>\n",
              "    <tr>\n",
              "      <th>5</th>\n",
              "      <td>180.8</td>\n",
              "      <td>10.8</td>\n",
              "      <td>58.4</td>\n",
              "    </tr>\n",
              "  </tbody>\n",
              "</table>\n",
              "</div>"
            ],
            "text/plain": [
              "      TV  Radio  Newspaper\n",
              "1  230.1   37.8       69.2\n",
              "2   44.5   39.3       45.1\n",
              "3   17.2   45.9       69.3\n",
              "4  151.5   41.3       58.5\n",
              "5  180.8   10.8       58.4"
            ]
          },
          "metadata": {
            "tags": []
          },
          "execution_count": 40
        }
      ]
    },
    {
      "cell_type": "code",
      "metadata": {
        "id": "JtO6_Vatnq1x"
      },
      "source": [
        "y_hat = final_model.predict(X)"
      ],
      "execution_count": 41,
      "outputs": []
    },
    {
      "cell_type": "code",
      "metadata": {
        "colab": {
          "base_uri": "https://localhost:8080/",
          "height": 351
        },
        "id": "flR_Cetln4en",
        "outputId": "7c03380d-d68a-405e-f7f3-007c334f84bf"
      },
      "source": [
        "fig,axes = plt.subplots(nrows=1,ncols=3,figsize=(16,6))\n",
        "\n",
        "axes[0].plot(df1['TV'],df1['Sales'],'o')\n",
        "axes[0].plot(df1['TV'],y_hat,'o',color='red')\n",
        "axes[0].set_ylabel(\"Sales\")\n",
        "axes[0].set_title(\"TV Spend\")\n",
        "\n",
        "axes[1].plot(df1['Radio'],df1['Sales'],'o')\n",
        "axes[1].plot(df1['Radio'],y_hat,'o',color='red')\n",
        "axes[1].set_title(\"Radio Spend\")\n",
        "axes[1].set_ylabel(\"Sales\")\n",
        "\n",
        "axes[2].plot(df1['Newspaper'],df1['Sales'],'o')\n",
        "axes[2].plot(df1['Radio'],y_hat,'o',color='red')\n",
        "axes[2].set_title(\"Newspaper Spend\");\n",
        "axes[2].set_ylabel(\"Sales\")\n",
        "plt.tight_layout();"
      ],
      "execution_count": 42,
      "outputs": [
        {
          "output_type": "display_data",
          "data": {
            "image/png": "[encoded data removed]",
            "text/plain": [
              "<Figure size 1152x432 with 3 Axes>"
            ]
          },
          "metadata": {
            "tags": [],
            "needs_background": "light"
          }
        }
      ]
    },
    {
      "cell_type": "code",
      "metadata": {
        "id": "qRRtLAQQpHdB"
      },
      "source": [
        "from joblib import dump, load"
      ],
      "execution_count": 43,
      "outputs": []
    },
    {
      "cell_type": "code",
      "metadata": {
        "colab": {
          "base_uri": "https://localhost:8080/"
        },
        "id": "qEG6-wOEpHnr",
        "outputId": "d99cbc29-0bce-495f-fb99-ea90358b668e"
      },
      "source": [
        "dump(final_model, 'final_sales_model.joblib')"
      ],
      "execution_count": 44,
      "outputs": [
        {
          "output_type": "execute_result",
          "data": {
            "text/plain": [
              "['final_sales_model.joblib']"
            ]
          },
          "metadata": {
            "tags": []
          },
          "execution_count": 44
        }
      ]
    },
    {
      "cell_type": "code",
      "metadata": {
        "colab": {
          "base_uri": "https://localhost:8080/"
        },
        "id": "zn4qXoQvpje5",
        "outputId": "f95455e4-ab2c-4c3c-aa9f-e2dfbd1cc63f"
      },
      "source": [
        "loaded_model = load('final_sales_model.joblib')\n",
        "loaded_model"
      ],
      "execution_count": 45,
      "outputs": [
        {
          "output_type": "execute_result",
          "data": {
            "text/plain": [
              "LinearRegression(copy_X=True, fit_intercept=True, n_jobs=None, normalize=False)"
            ]
          },
          "metadata": {
            "tags": []
          },
          "execution_count": 45
        }
      ]
    },
    {
      "cell_type": "code",
      "metadata": {
        "colab": {
          "base_uri": "https://localhost:8080/"
        },
        "id": "klyi_m_UqOpO",
        "outputId": "3bd76cb9-b579-4bd6-8583-c69c7bf59074"
      },
      "source": [
        "campaign =[[149, 22,12]]\n",
        "loaded_model.predict(campaign)"
      ],
      "execution_count": 46,
      "outputs": [
        {
          "output_type": "execute_result",
          "data": {
            "text/plain": [
              "array([13.893032])"
            ]
          },
          "metadata": {
            "tags": []
          },
          "execution_count": 46
        }
      ]
    },
    {
      "cell_type": "markdown",
      "metadata": {
        "id": "0I9LBiAwxfLQ"
      },
      "source": [
        "## Polynomal Regression"
      ]
    },
    {
      "cell_type": "code",
      "metadata": {
        "id": "vL-fTOu4xjFn"
      },
      "source": [
        "from sklearn.preprocessing import PolynomialFeatures"
      ],
      "execution_count": 47,
      "outputs": []
    },
    {
      "cell_type": "code",
      "metadata": {
        "colab": {
          "base_uri": "https://localhost:8080/"
        },
        "id": "kBQIW9ApzFOe",
        "outputId": "f6d02241-27ad-4e97-abcc-f51f9f9590a2"
      },
      "source": [
        "polynomial_converter =PolynomialFeatures(degree=2, include_bias=False)\n",
        "\n",
        "polynomial_converter.fit(X)\n",
        "poly_features = polynomial_converter.transform(X)\n",
        "\n",
        "poly_features.shape\n"
      ],
      "execution_count": 48,
      "outputs": [
        {
          "output_type": "execute_result",
          "data": {
            "text/plain": [
              "(200, 9)"
            ]
          },
          "metadata": {
            "tags": []
          },
          "execution_count": 48
        }
      ]
    },
    {
      "cell_type": "code",
      "metadata": {
        "colab": {
          "base_uri": "https://localhost:8080/"
        },
        "id": "DxJAadbw6nYr",
        "outputId": "32fa52c8-0d48-4275-94e9-966c34cca0c3"
      },
      "source": [
        "poly_features[0]"
      ],
      "execution_count": 49,
      "outputs": [
        {
          "output_type": "execute_result",
          "data": {
            "text/plain": [
              "array([2.301000e+02, 3.780000e+01, 6.920000e+01, 5.294601e+04,\n",
              "       8.697780e+03, 1.592292e+04, 1.428840e+03, 2.615760e+03,\n",
              "       4.788640e+03])"
            ]
          },
          "metadata": {
            "tags": []
          },
          "execution_count": 49
        }
      ]
    },
    {
      "cell_type": "code",
      "metadata": {
        "colab": {
          "base_uri": "https://localhost:8080/"
        },
        "id": "3lu3srJV7i71",
        "outputId": "fbfbc7a5-5ff7-433f-d5ea-8a08191913c2"
      },
      "source": [
        "polynomial_converter.fit_transform(X)"
      ],
      "execution_count": 50,
      "outputs": [
        {
          "output_type": "execute_result",
          "data": {
            "text/plain": [
              "array([[ 230.1 ,   37.8 ,   69.2 , ..., 1428.84, 2615.76, 4788.64],\n",
              "       [  44.5 ,   39.3 ,   45.1 , ..., 1544.49, 1772.43, 2034.01],\n",
              "       [  17.2 ,   45.9 ,   69.3 , ..., 2106.81, 3180.87, 4802.49],\n",
              "       ...,\n",
              "       [ 177.  ,    9.3 ,    6.4 , ...,   86.49,   59.52,   40.96],\n",
              "       [ 283.6 ,   42.  ,   66.2 , ..., 1764.  , 2780.4 , 4382.44],\n",
              "       [ 232.1 ,    8.6 ,    8.7 , ...,   73.96,   74.82,   75.69]])"
            ]
          },
          "metadata": {
            "tags": []
          },
          "execution_count": 50
        }
      ]
    },
    {
      "cell_type": "markdown",
      "metadata": {
        "id": "aBgNR0AL9GC1"
      },
      "source": [
        "### Train and test set split in polynomial regression"
      ]
    },
    {
      "cell_type": "code",
      "metadata": {
        "id": "nD0teKq99LwS"
      },
      "source": [
        "X_train, X_test, y_train, y_test = train_test_split(poly_features, y, test_size=0.3, random_state =101)"
      ],
      "execution_count": 51,
      "outputs": []
    },
    {
      "cell_type": "code",
      "metadata": {
        "colab": {
          "base_uri": "https://localhost:8080/"
        },
        "id": "-hskr0z198Gy",
        "outputId": "fb9b7a3e-d2fe-454e-d4d9-f83a3e867213"
      },
      "source": [
        "model1 = LinearRegression()\n",
        "model1.fit(X_train, y_train)"
      ],
      "execution_count": 52,
      "outputs": [
        {
          "output_type": "execute_result",
          "data": {
            "text/plain": [
              "LinearRegression(copy_X=True, fit_intercept=True, n_jobs=None, normalize=False)"
            ]
          },
          "metadata": {
            "tags": []
          },
          "execution_count": 52
        }
      ]
    },
    {
      "cell_type": "code",
      "metadata": {
        "id": "zZklD-2298Qi"
      },
      "source": [
        "poly_predictions = model1.predict(X_test)"
      ],
      "execution_count": 53,
      "outputs": []
    },
    {
      "cell_type": "code",
      "metadata": {
        "colab": {
          "base_uri": "https://localhost:8080/"
        },
        "id": "cwSMihw198VS",
        "outputId": "d293df8b-cd50-4a31-a5bb-82042a9c5f03"
      },
      "source": [
        "MAE =mean_absolute_error(y_test,poly_predictions)\n",
        "MSE = mean_squared_error(y_test,poly_predictions)\n",
        "RMSE = np.sqrt(MSE)\n",
        "print(MAE, MSE, RMSE)"
      ],
      "execution_count": 54,
      "outputs": [
        {
          "output_type": "stream",
          "text": [
            "0.4896798044803836 0.4417505510403753 0.6646431757269274\n"
          ],
          "name": "stdout"
        }
      ]
    },
    {
      "cell_type": "code",
      "metadata": {
        "colab": {
          "base_uri": "https://localhost:8080/"
        },
        "id": "iMu4-Jxy98af",
        "outputId": "880c08c1-7d82-4d64-a6ed-e58ad832d56d"
      },
      "source": [
        "model1.coef_"
      ],
      "execution_count": 55,
      "outputs": [
        {
          "output_type": "execute_result",
          "data": {
            "text/plain": [
              "array([ 5.17095811e-02,  1.30848864e-02,  1.20000085e-02, -1.10892474e-04,\n",
              "        1.14212673e-03, -5.24100082e-05,  3.34919737e-05,  1.46380310e-04,\n",
              "       -3.04715806e-05])"
            ]
          },
          "metadata": {
            "tags": []
          },
          "execution_count": 55
        }
      ]
    },
    {
      "cell_type": "code",
      "metadata": {
        "id": "taCOGNBdHdg2"
      },
      "source": [
        "train_rmse_errors=[]\n",
        "test_rmse_errors=[]\n",
        "\n",
        "for d in range(1, 10):\n",
        "    poly_converter = PolynomialFeatures(degree = d, include_bias = False)\n",
        "    poly_features = poly_converter.fit_transform(X)\n",
        "\n",
        "    X_train, X_test, y_train, y_test = train_test_split(poly_features, y, test_size=0.3, random_state =101)\n",
        "\n",
        "    model = LinearRegression()\n",
        "    model.fit(X_train, y_train)\n",
        "\n",
        "    train_pred = model.predict(X_train)\n",
        "    test_pred = model.predict(X_test)\n",
        "\n",
        "    train_rmse = np.sqrt(mean_squared_error(y_train, train_pred))\n",
        "    test_rmse = np.sqrt(mean_squared_error(y_test, test_pred))\n",
        "\n",
        "    train_rmse_errors.append(train_rmse)\n",
        "    test_rmse_errors.append(test_rmse)\n"
      ],
      "execution_count": 66,
      "outputs": []
    },
    {
      "cell_type": "code",
      "metadata": {
        "colab": {
          "base_uri": "https://localhost:8080/"
        },
        "id": "acLRYEPYHglt",
        "outputId": "b666f1d4-415b-44b5-fc87-8b3872931992"
      },
      "source": [
        "train_rmse_errors"
      ],
      "execution_count": 67,
      "outputs": [
        {
          "output_type": "execute_result",
          "data": {
            "text/plain": [
              "[1.7345941243293763,\n",
              " 0.5879574085292231,\n",
              " 0.4339344356902069,\n",
              " 0.3517083688399346,\n",
              " 0.2509342962601729,\n",
              " 0.20872723323990613,\n",
              " 5.42157751435276,\n",
              " 0.14086751582412702,\n",
              " 0.17118580360234556]"
            ]
          },
          "metadata": {
            "tags": []
          },
          "execution_count": 67
        }
      ]
    },
    {
      "cell_type": "code",
      "metadata": {
        "colab": {
          "base_uri": "https://localhost:8080/"
        },
        "id": "aCPvj0ZHHgwl",
        "outputId": "56a0c280-e10e-4c67-aafd-22191697b289"
      },
      "source": [
        "test_rmse_errors"
      ],
      "execution_count": 68,
      "outputs": [
        {
          "output_type": "execute_result",
          "data": {
            "text/plain": [
              "[1.5161519375993882,\n",
              " 0.6646431757269274,\n",
              " 0.580328682521562,\n",
              " 0.5077742637898885,\n",
              " 2.57581412209716,\n",
              " 4.335318691649055,\n",
              " 1379.1716104914929,\n",
              " 4129.060813616151,\n",
              " 96107.72947631204]"
            ]
          },
          "metadata": {
            "tags": []
          },
          "execution_count": 68
        }
      ]
    },
    {
      "cell_type": "code",
      "metadata": {
        "colab": {
          "base_uri": "https://localhost:8080/",
          "height": 296
        },
        "id": "NISxIhy1HdxV",
        "outputId": "48943bcc-2493-47b7-f151-b2ca4e5eb26e"
      },
      "source": [
        "plt.plot(range(1,6), train_rmse_errors[:5], label = \"Train RMSE\")\n",
        "plt.plot(range(1,6), test_rmse_errors[:5], label = \"Test RMSE\")\n",
        "plt.xlabel(\"Degree of poly\")\n",
        "plt.ylabel(\"RMSE\")\n",
        "plt.legend()"
      ],
      "execution_count": 73,
      "outputs": [
        {
          "output_type": "execute_result",
          "data": {
            "text/plain": [
              "<matplotlib.legend.Legend at 0x7fd98e201ba8>"
            ]
          },
          "metadata": {
            "tags": []
          },
          "execution_count": 73
        },
        {
          "output_type": "display_data",
          "data": {
            "image/png": "[encoded data removed]",
            "text/plain": [
              "<Figure size 432x288 with 1 Axes>"
            ]
          },
          "metadata": {
            "tags": [],
            "needs_background": "light"
          }
        }
      ]
    },
    {
      "cell_type": "code",
      "metadata": {
        "colab": {
          "base_uri": "https://localhost:8080/",
          "height": 298
        },
        "id": "3eQPAUeGX8Lo",
        "outputId": "4c1ee7fe-7b43-4075-cd50-806b9c26f368"
      },
      "source": [
        "plt.plot(range(1,10), train_rmse_errors, label = \"Train RMSE\")\n",
        "plt.plot(range(1,10), test_rmse_errors, label = \"Test RMSE\")\n",
        "plt.xlabel(\"Degree of poly\")\n",
        "plt.ylabel(\"RMSE\")\n",
        "plt.legend()"
      ],
      "execution_count": 75,
      "outputs": [
        {
          "output_type": "execute_result",
          "data": {
            "text/plain": [
              "<matplotlib.legend.Legend at 0x7fd98e17b3c8>"
            ]
          },
          "metadata": {
            "tags": []
          },
          "execution_count": 75
        },
        {
          "output_type": "display_data",
          "data": {
            "image/png": "[encoded data removed]",
            "text/plain": [
              "<Figure size 432x288 with 1 Axes>"
            ]
          },
          "metadata": {
            "tags": [],
            "needs_background": "light"
          }
        }
      ]
    },
    {
      "cell_type": "code",
      "metadata": {
        "id": "GWgBxO6oZtVs"
      },
      "source": [
        "final_poly_converter = PolynomialFeatures(degree =3, include_bias =False)\n",
        "\n",
        "final_model = LinearRegression()\n"
      ],
      "execution_count": 76,
      "outputs": []
    },
    {
      "cell_type": "code",
      "metadata": {
        "colab": {
          "base_uri": "https://localhost:8080/"
        },
        "id": "vPiI5VQOZ7Ky",
        "outputId": "85ee4379-9720-4e56-ea9a-ceb781e7c7dc"
      },
      "source": [
        "full_converted_X = final_poly_converter.fit_transform(X)\n",
        "final_model.fit(full_converted_X, y)"
      ],
      "execution_count": 77,
      "outputs": [
        {
          "output_type": "execute_result",
          "data": {
            "text/plain": [
              "LinearRegression(copy_X=True, fit_intercept=True, n_jobs=None, normalize=False)"
            ]
          },
          "metadata": {
            "tags": []
          },
          "execution_count": 77
        }
      ]
    },
    {
      "cell_type": "code",
      "metadata": {
        "colab": {
          "base_uri": "https://localhost:8080/"
        },
        "id": "hGWq0QsVZtej",
        "outputId": "6db55658-63e1-4490-ba85-784885ce94fb"
      },
      "source": [
        "dump(final_model, 'Final_Poly_Model.joblib')\n",
        "dump(final_poly_converter, 'Final_Poly_Converter.joblib')"
      ],
      "execution_count": 81,
      "outputs": [
        {
          "output_type": "execute_result",
          "data": {
            "text/plain": [
              "['Final_Poly_Converter.joblib']"
            ]
          },
          "metadata": {
            "tags": []
          },
          "execution_count": 81
        }
      ]
    },
    {
      "cell_type": "code",
      "metadata": {
        "id": "zC1vm8pUZtk9"
      },
      "source": [
        "loaded_model = load('Final_Poly_Model.joblib')\n",
        "loaded_converter = load('Final_Poly_Converter.joblib')"
      ],
      "execution_count": 82,
      "outputs": []
    },
    {
      "cell_type": "code",
      "metadata": {
        "id": "PZ7lYeNJblO2"
      },
      "source": [
        "campaign1 = [[149, 22, 12]]\n",
        "\n",
        "transformed_data = loaded_converter.fit_transform(campaign1)"
      ],
      "execution_count": 86,
      "outputs": []
    },
    {
      "cell_type": "code",
      "metadata": {
        "colab": {
          "base_uri": "https://localhost:8080/"
        },
        "id": "RtqFopv0cOJV",
        "outputId": "b9bec90f-7e3e-4c7e-f059-aac8150c97da"
      },
      "source": [
        "loaded_model.predict(transformed_data)"
      ],
      "execution_count": 87,
      "outputs": [
        {
          "output_type": "execute_result",
          "data": {
            "text/plain": [
              "array([14.64501014])"
            ]
          },
          "metadata": {
            "tags": []
          },
          "execution_count": 87
        }
      ]
    }
  ]
}